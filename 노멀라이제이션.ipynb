{
 "cells": [
  {
   "cell_type": "code",
   "execution_count": 2,
   "metadata": {},
   "outputs": [],
   "source": [
    "import pandas as pd\n",
    "import numpy as np"
   ]
  },
  {
   "cell_type": "code",
   "execution_count": 3,
   "metadata": {},
   "outputs": [],
   "source": [
    "from sklearn.preprocessing import MinMaxScaler\n",
    "Scaler = MinMaxScaler()"
   ]
  },
  {
   "cell_type": "code",
   "execution_count": 8,
   "metadata": {},
   "outputs": [
    {
     "name": "stdout",
     "output_type": "stream",
     "text": [
      "/Users/jinsungpark/Desktop/시각화분석용\n"
     ]
    }
   ],
   "source": [
    "cd /Users/jinsungpark/Desktop/시각화분석용"
   ]
  },
  {
   "cell_type": "code",
   "execution_count": 22,
   "metadata": {},
   "outputs": [],
   "source": [
    "Dasa = pd.read_excel('DS_NG_분석용.xlsx')"
   ]
  },
  {
   "cell_type": "code",
   "execution_count": 23,
   "metadata": {},
   "outputs": [
    {
     "name": "stdout",
     "output_type": "stream",
     "text": [
      "<class 'pandas.core.frame.DataFrame'>\n",
      "RangeIndex: 227 entries, 0 to 226\n",
      "Data columns (total 14 columns):\n",
      " #   Column       Non-Null Count  Dtype  \n",
      "---  ------       --------------  -----  \n",
      " 0   Date         227 non-null    object \n",
      " 1   DS_TN        227 non-null    float64\n",
      " 2   SeoBu_TN     227 non-null    float64\n",
      " 3   SungSeo_TN   227 non-null    float64\n",
      " 4   GumHo_TN     227 non-null    float64\n",
      " 5   DS_TP        227 non-null    float64\n",
      " 6   SeoBu_TP     227 non-null    float64\n",
      " 7   SungSeo_TP   227 non-null    float64\n",
      " 8   GumHo_TP     227 non-null    float64\n",
      " 9   DaeGu_Rain   227 non-null    float64\n",
      " 10  DaeGu_Solar  227 non-null    float64\n",
      " 11  NG_TN        227 non-null    float64\n",
      " 12  NG_TP        227 non-null    float64\n",
      " 13  NG_Temp      227 non-null    float64\n",
      "dtypes: float64(13), object(1)\n",
      "memory usage: 25.0+ KB\n"
     ]
    }
   ],
   "source": [
    "Dasa.info()"
   ]
  },
  {
   "cell_type": "code",
   "execution_count": 24,
   "metadata": {},
   "outputs": [],
   "source": [
    "Dasa = Dasa.drop('Date', axis=1)"
   ]
  },
  {
   "cell_type": "code",
   "execution_count": 25,
   "metadata": {},
   "outputs": [],
   "source": [
    "#데이터 정규화\n",
    "result = pd.DataFrame(Scaler.fit_transform(Dasa), columns=Dasa.columns, index=Dasa.index)"
   ]
  },
  {
   "cell_type": "code",
   "execution_count": 26,
   "metadata": {},
   "outputs": [],
   "source": [
    "result.to_excel('DS_NG_분석용_노말.xlsx')"
   ]
  },
  {
   "cell_type": "code",
   "execution_count": 27,
   "metadata": {},
   "outputs": [
    {
     "name": "stdout",
     "output_type": "stream",
     "text": [
      "<class 'pandas.core.frame.DataFrame'>\n",
      "RangeIndex: 227 entries, 0 to 226\n",
      "Data columns (total 13 columns):\n",
      " #   Column       Non-Null Count  Dtype  \n",
      "---  ------       --------------  -----  \n",
      " 0   DS_TN        227 non-null    float64\n",
      " 1   SeoBu_TN     227 non-null    float64\n",
      " 2   SungSeo_TN   227 non-null    float64\n",
      " 3   GumHo_TN     227 non-null    float64\n",
      " 4   DS_TP        227 non-null    float64\n",
      " 5   SeoBu_TP     227 non-null    float64\n",
      " 6   SungSeo_TP   227 non-null    float64\n",
      " 7   GumHo_TP     227 non-null    float64\n",
      " 8   DaeGu_Rain   227 non-null    float64\n",
      " 9   DaeGu_Solar  227 non-null    float64\n",
      " 10  NG_TN        227 non-null    float64\n",
      " 11  NG_TP        227 non-null    float64\n",
      " 12  NG_Temp      227 non-null    float64\n",
      "dtypes: float64(13)\n",
      "memory usage: 23.2 KB\n"
     ]
    }
   ],
   "source": [
    "result.info()"
   ]
  },
  {
   "cell_type": "code",
   "execution_count": null,
   "metadata": {},
   "outputs": [],
   "source": []
  }
 ],
 "metadata": {
  "kernelspec": {
   "display_name": "Python 3",
   "language": "python",
   "name": "python3"
  },
  "language_info": {
   "codemirror_mode": {
    "name": "ipython",
    "version": 3
   },
   "file_extension": ".py",
   "mimetype": "text/x-python",
   "name": "python",
   "nbconvert_exporter": "python",
   "pygments_lexer": "ipython3",
   "version": "3.7.6"
  }
 },
 "nbformat": 4,
 "nbformat_minor": 4
}
