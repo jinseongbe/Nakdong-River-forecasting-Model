{
 "cells": [
  {
   "cell_type": "code",
   "execution_count": 1,
   "metadata": {
    "colab": {},
    "colab_type": "code",
    "id": "FMKHTsedaum7"
   },
   "outputs": [
    {
     "name": "stdout",
     "output_type": "stream",
     "text": [
      "1.4.0\n",
      "Populating the interactive namespace from numpy and matplotlib\n"
     ]
    }
   ],
   "source": [
    "import pandas as pd \n",
    "import torch \n",
    "import torch.nn as nn \n",
    "from torch.utils.data import Dataset, DataLoader\n",
    "import torch.optim as optim\n",
    "import numpy as np \n",
    "import argparse\n",
    "from copy import deepcopy #Add Deepcopy for args\n",
    "\n",
    "from sklearn.metrics import mean_squared_error\n",
    "from sklearn.metrics import r2_score\n",
    "\n",
    "print(torch.__version__)\n",
    "%matplotlib inline\n",
    "%pylab inline\n",
    "pylab.rcParams['figure.figsize'] = (15, 9)"
   ]
  },
  {
   "cell_type": "markdown",
   "metadata": {
    "colab_type": "text",
    "id": "N1gRd7qVcEwI"
   },
   "source": [
    "# 1. Data loading & Preprocessing"
   ]
  },
  {
   "cell_type": "markdown",
   "metadata": {
    "colab_type": "text",
    "id": "KShxDU_Jcj3u"
   },
   "source": [
    "### 1.1 Data loading"
   ]
  },
  {
   "cell_type": "code",
   "execution_count": 2,
   "metadata": {
    "colab": {},
    "colab_type": "code",
    "id": "f39evpcvc1KK"
   },
   "outputs": [
    {
     "name": "stdout",
     "output_type": "stream",
     "text": [
      "/Users/jinsungpark/Desktop/jupyter/Data_river/original02/HP_DA\n"
     ]
    }
   ],
   "source": [
    "cd /Users/jinsungpark/Desktop/jupyter/Data_river/original02/HP_DA"
   ]
  },
  {
   "cell_type": "code",
   "execution_count": 3,
   "metadata": {
    "colab": {},
    "colab_type": "code",
    "id": "nTiRk82qctLD"
   },
   "outputs": [
    {
     "name": "stdout",
     "output_type": "stream",
     "text": [
      "DA_Down_data.xlsx  DA_Down_log.xlsx   HP_Up_data.xlsx    HP_Up_log.xlsx\r\n"
     ]
    }
   ],
   "source": [
    "ls #현재경로에 있는 항목 확인"
   ]
  },
  {
   "cell_type": "code",
   "execution_count": 4,
   "metadata": {
    "colab": {},
    "colab_type": "code",
    "id": "dln4LnKpc1CX"
   },
   "outputs": [],
   "source": [
    "UpStream_data = pd.read_excel('HP_Up_log.xlsx')\n",
    "DownStream_data = pd.read_excel('DA_Down_log.xlsx')"
   ]
  },
  {
   "cell_type": "code",
   "execution_count": 5,
   "metadata": {
    "colab": {},
    "colab_type": "code",
    "id": "5GRAwoM_c068"
   },
   "outputs": [
    {
     "name": "stdout",
     "output_type": "stream",
     "text": [
      "Index(['Date', 'HP_DO', 'HP_BOD', 'HP_COD', 'HP_SS', 'HP_TN', 'HP_TP',\n",
      "       'HP_Chl_a', 'HP_Flow', 'ChaCh_DO', 'ChaCh_BOD', 'ChaCh_COD', 'ChaCh_SS',\n",
      "       'ChaCh_TN', 'ChaCh_TP', 'ChaCh_Chl_a', 'ChaCh_Flow', 'UiR_Rain',\n",
      "       'UiR_Solar', 'HP_Temp', 'ChaCh_Temp'],\n",
      "      dtype='object')\n",
      "Index(['Date', 'DA_DO', 'DA_BOD', 'DA_COD', 'DA_SS', 'DA_TN', 'DA_TP',\n",
      "       'DA_Chl_a'],\n",
      "      dtype='object')\n"
     ]
    }
   ],
   "source": [
    "print(UpStream_data.columns)\n",
    "print(DownStream_data.columns)"
   ]
  },
  {
   "cell_type": "code",
   "execution_count": 6,
   "metadata": {
    "colab": {},
    "colab_type": "code",
    "id": "uneezLbLdGiC"
   },
   "outputs": [],
   "source": [
    "#날짜 인덱스화\n",
    "UpData = UpStream_data.set_index('Date')\n",
    "DownData = DownStream_data.set_index('Date')"
   ]
  },
  {
   "cell_type": "code",
   "execution_count": 7,
   "metadata": {},
   "outputs": [
    {
     "name": "stdout",
     "output_type": "stream",
     "text": [
      "<class 'pandas.core.frame.DataFrame'>\n",
      "DatetimeIndex: 265 entries, 2013-01-08 to 2019-09-23\n",
      "Data columns (total 20 columns):\n",
      " #   Column       Non-Null Count  Dtype  \n",
      "---  ------       --------------  -----  \n",
      " 0   HP_DO        265 non-null    float64\n",
      " 1   HP_BOD       265 non-null    float64\n",
      " 2   HP_COD       265 non-null    float64\n",
      " 3   HP_SS        265 non-null    float64\n",
      " 4   HP_TN        265 non-null    float64\n",
      " 5   HP_TP        265 non-null    float64\n",
      " 6   HP_Chl_a     265 non-null    float64\n",
      " 7   HP_Flow      265 non-null    float64\n",
      " 8   ChaCh_DO     265 non-null    float64\n",
      " 9   ChaCh_BOD    265 non-null    float64\n",
      " 10  ChaCh_COD    265 non-null    float64\n",
      " 11  ChaCh_SS     265 non-null    float64\n",
      " 12  ChaCh_TN     265 non-null    float64\n",
      " 13  ChaCh_TP     265 non-null    float64\n",
      " 14  ChaCh_Chl_a  265 non-null    float64\n",
      " 15  ChaCh_Flow   265 non-null    float64\n",
      " 16  UiR_Rain     265 non-null    float64\n",
      " 17  UiR_Solar    265 non-null    float64\n",
      " 18  HP_Temp      265 non-null    float64\n",
      " 19  ChaCh_Temp   265 non-null    float64\n",
      "dtypes: float64(20)\n",
      "memory usage: 43.5 KB\n"
     ]
    }
   ],
   "source": [
    "UpData.info()"
   ]
  },
  {
   "cell_type": "code",
   "execution_count": 8,
   "metadata": {
    "colab": {},
    "colab_type": "code",
    "id": "4rSPrna-c0pt"
   },
   "outputs": [],
   "source": [
    "# #넣고싶은 상류 항목 컬럼 선택 - TP setting\n",
    "# UpData = UpData.iloc[:,[0,2,3,4,5,18,7,8,10,12,13,19,15,16]]\n",
    "# print(UpData.columns)"
   ]
  },
  {
   "cell_type": "code",
   "execution_count": 9,
   "metadata": {},
   "outputs": [
    {
     "name": "stdout",
     "output_type": "stream",
     "text": [
      "<class 'pandas.core.frame.DataFrame'>\n",
      "DatetimeIndex: 265 entries, 2013-01-08 to 2019-09-23\n",
      "Data columns (total 10 columns):\n",
      " #   Column      Non-Null Count  Dtype  \n",
      "---  ------      --------------  -----  \n",
      " 0   HP_DO       265 non-null    float64\n",
      " 1   HP_TN       265 non-null    float64\n",
      " 2   HP_TP       265 non-null    float64\n",
      " 3   HP_Temp     265 non-null    float64\n",
      " 4   ChaCh_COD   265 non-null    float64\n",
      " 5   ChaCh_TN    265 non-null    float64\n",
      " 6   ChaCh_TP    265 non-null    float64\n",
      " 7   ChaCh_Flow  265 non-null    float64\n",
      " 8   UiR_Rain    265 non-null    float64\n",
      " 9   UiR_Solar   265 non-null    float64\n",
      "dtypes: float64(10)\n",
      "memory usage: 22.8 KB\n"
     ]
    }
   ],
   "source": [
    "#넣고싶은 상류 항목 컬럼 선택 - TN setting\n",
    "UpData = UpData.iloc[:,[0,4,5,18,10,12,13,15,16,17]]\n",
    "UpData.info()"
   ]
  },
  {
   "cell_type": "code",
   "execution_count": 10,
   "metadata": {},
   "outputs": [
    {
     "name": "stdout",
     "output_type": "stream",
     "text": [
      "<class 'pandas.core.frame.DataFrame'>\n",
      "DatetimeIndex: 265 entries, 2013-01-08 to 2019-09-23\n",
      "Data columns (total 7 columns):\n",
      " #   Column    Non-Null Count  Dtype  \n",
      "---  ------    --------------  -----  \n",
      " 0   DA_DO     265 non-null    float64\n",
      " 1   DA_BOD    265 non-null    float64\n",
      " 2   DA_COD    265 non-null    float64\n",
      " 3   DA_SS     265 non-null    float64\n",
      " 4   DA_TN     265 non-null    float64\n",
      " 5   DA_TP     265 non-null    float64\n",
      " 6   DA_Chl_a  265 non-null    float64\n",
      "dtypes: float64(7)\n",
      "memory usage: 16.6 KB\n"
     ]
    }
   ],
   "source": [
    "DownData.info()"
   ]
  },
  {
   "cell_type": "code",
   "execution_count": 11,
   "metadata": {
    "colab": {},
    "colab_type": "code",
    "id": "4rSPrna-c0pt"
   },
   "outputs": [
    {
     "name": "stdout",
     "output_type": "stream",
     "text": [
      "DA_TN\n"
     ]
    }
   ],
   "source": [
    "#알고싶은 하류 항목 컬럼 넘버 넣기('Date'항목이 인덱스화 돼서 컬럼 넘버가 -1씩 됨)\n",
    "Colum = 4\n",
    "print(DownData.columns[Colum])"
   ]
  },
  {
   "cell_type": "markdown",
   "metadata": {
    "colab_type": "text",
    "id": "J2Tp4o0Hc0ZL"
   },
   "source": [
    "### 1.2 Data Preprocessing(normalization)"
   ]
  },
  {
   "cell_type": "code",
   "execution_count": 12,
   "metadata": {
    "colab": {},
    "colab_type": "code",
    "id": "ChKYCAtTdGpA"
   },
   "outputs": [],
   "source": [
    "from sklearn.preprocessing import MinMaxScaler\n",
    "\n",
    "UpScaler = MinMaxScaler() #상류데이터용\n",
    "DownScaler = MinMaxScaler() #하류데이터용\n",
    "\n",
    "#나중에 결과를 DeNormalizing 하기 위해 나누어 사용 하였다.\n",
    "\n",
    "def DeNormalize(Y, Data_name, column_num, Scaler_Type):\n",
    "    \n",
    "    data = Data_name\n",
    "    Scaler = Scaler_Type\n",
    "    \n",
    "    _max = Scaler.data_max_[column_num] # 역정규화 하려는 데이터의 컬럼 번호\n",
    "    _min = Scaler.data_min_[column_num] \n",
    "    \n",
    "    X = Y*(_max-_min) + _min\n",
    "    \n",
    "    return X"
   ]
  },
  {
   "cell_type": "code",
   "execution_count": 13,
   "metadata": {
    "colab": {},
    "colab_type": "code",
    "id": "uneezLbLdGiC"
   },
   "outputs": [
    {
     "name": "stdout",
     "output_type": "stream",
     "text": [
      "HP_DO         0\n",
      "HP_TN         0\n",
      "HP_TP         0\n",
      "HP_Temp       0\n",
      "ChaCh_COD     0\n",
      "ChaCh_TN      0\n",
      "ChaCh_TP      0\n",
      "ChaCh_Flow    0\n",
      "UiR_Rain      0\n",
      "UiR_Solar     0\n",
      "dtype: int64\n"
     ]
    }
   ],
   "source": [
    "#데이터 정규화\n",
    "UpData = pd.DataFrame(UpScaler.fit_transform(UpData), columns=UpData.columns, index=UpData.index)\n",
    "DownData = pd.DataFrame(DownScaler.fit_transform(DownData), columns=DownData.columns, index=DownData.index)\n",
    "\n",
    "print(UpData.isna().sum())"
   ]
  },
  {
   "cell_type": "markdown",
   "metadata": {
    "colab_type": "text",
    "id": "pDSVZGiUdGYz"
   },
   "source": [
    "#2. Data Preparation"
   ]
  },
  {
   "cell_type": "code",
   "execution_count": 14,
   "metadata": {
    "colab": {},
    "colab_type": "code",
    "id": "Hxm2moSudGQD"
   },
   "outputs": [],
   "source": [
    "class RiverDataset(Dataset):\n",
    "    def __init__(self, UpData, DownData, x_frames, y_frames, start, end):\n",
    "        \n",
    "        self.x_frames = x_frames\n",
    "        self.y_frames = y_frames\n",
    "        \n",
    "        self.start = start\n",
    "        self.end = end\n",
    "\n",
    "        self.UpData = UpData[start:end]\n",
    "        self.DownData = DownData[start:end]\n",
    "\n",
    "    def __len__(self):\n",
    "        return len(self.UpData) - (self.x_frames + self.y_frames) + 1\n",
    "    #데이터를 전처리 할때 UpData와 DownData의 길이가 동일해짐(날짜를 동일한것만 추출해야 하므로), 따라서 전체길이는 둘중 하나를 사용\n",
    "\n",
    "    def __getitem__(self, idx):\n",
    "        idx += self.x_frames\n",
    "\n",
    "        X = self.UpData.iloc[idx-self.x_frames:idx].values\n",
    "        Y = self.DownData.iloc[idx:idx+self.y_frames].values\n",
    "        \n",
    "        return X, Y"
   ]
  },
  {
   "cell_type": "markdown",
   "metadata": {
    "colab_type": "text",
    "id": "fj80CahhdGG9"
   },
   "source": [
    "# 3. Model Define"
   ]
  },
  {
   "cell_type": "code",
   "execution_count": 15,
   "metadata": {
    "colab": {},
    "colab_type": "code",
    "id": "EuBGEc51dF-V"
   },
   "outputs": [],
   "source": [
    "class LSTM(nn.Module):\n",
    "    \n",
    "    def __init__(self, input_dim, hidden_dim, output_dim, num_layers, batch_size, dropout, use_bn):\n",
    "        super(LSTM, self).__init__()\n",
    "        self.input_dim = input_dim \n",
    "        self.hidden_dim = hidden_dim\n",
    "        self.output_dim = output_dim\n",
    "        self.num_layers = num_layers\n",
    "\n",
    "        self.batch_size = batch_size\n",
    "        self.dropout = dropout\n",
    "        self.use_bn = use_bn \n",
    "        \n",
    "        self.lstm = nn.LSTM(self.input_dim, self.hidden_dim, self.num_layers) #\n",
    "        self.hidden = self.init_hidden()\n",
    "        self.regressor = self.make_regressor()\n",
    "        \n",
    "    def init_hidden(self):\n",
    "        return (torch.zeros(self.num_layers, self.batch_size, self.hidden_dim),\n",
    "                torch.zeros(self.num_layers, self.batch_size, self.hidden_dim))\n",
    "    \n",
    "    def make_regressor(self):\n",
    "        layers = []\n",
    "        if self.use_bn:\n",
    "            layers.append(nn.BatchNorm1d(self.hidden_dim))\n",
    "        layers.append(nn.Dropout(self.dropout))\n",
    "        \n",
    "        layers.append(nn.Linear(self.hidden_dim, self.hidden_dim // 2))\n",
    "        layers.append(nn.ReLU())\n",
    "        layers.append(nn.Linear(self.hidden_dim // 2, self.output_dim))\n",
    "        regressor = nn.Sequential(*layers)\n",
    "        return regressor\n",
    "    \n",
    "    def forward(self, x):\n",
    "        lstm_out, self.hidden = self.lstm(x, self.hidden)\n",
    "        y_pred = self.regressor(lstm_out[-1].view(self.batch_size, -1))\n",
    "        return y_pred"
   ]
  },
  {
   "cell_type": "code",
   "execution_count": 16,
   "metadata": {
    "colab": {},
    "colab_type": "code",
    "id": "PTpV_o6Wdglq"
   },
   "outputs": [],
   "source": [
    "# 정확도 : 예측확률을 100%로 봤을때 MAPE에 따른 오차비율을 빼줌 (100-MAPE) ##RMSE, MAPE 두개로 볼 수 있게\n",
    "def MAPE(y_true, y_pred):\n",
    "    return np.mean(np.abs((y_true - y_pred) / y_true)) * 100"
   ]
  },
  {
   "cell_type": "code",
   "execution_count": 17,
   "metadata": {},
   "outputs": [],
   "source": [
    "def RMSE(y_true, y_pred):\n",
    "    mse = mean_squared_error(y_true, y_pred, multioutput='raw_values')\n",
    "    return np.sqrt(mse)"
   ]
  },
  {
   "cell_type": "code",
   "execution_count": 18,
   "metadata": {},
   "outputs": [],
   "source": [
    "def R2(y_true, y_pred):\n",
    "    R2_score = r2_score(y_true, y_pred, multioutput='raw_values')\n",
    "    return R2_score"
   ]
  },
  {
   "cell_type": "markdown",
   "metadata": {
    "colab_type": "text",
    "id": "_GPb8H8-djwB"
   },
   "source": [
    "# 4. Train, Validate, Test"
   ]
  },
  {
   "cell_type": "code",
   "execution_count": 19,
   "metadata": {
    "colab": {},
    "colab_type": "code",
    "id": "qrT2W-pqdjh6"
   },
   "outputs": [],
   "source": [
    "def train(model, partition, optimizer, loss_fn, args):\n",
    "    trainloader = DataLoader(partition['train'],\n",
    "                             batch_size=args.batch_size,\n",
    "                             shuffle=False, drop_last=True)\n",
    "    model.train()\n",
    "    model.zero_grad()\n",
    "    optimizer.zero_grad()\n",
    "\n",
    "    bat_siz = args.batch_size\n",
    "    pred = []\n",
    "    true = []\n",
    "    pred_results = []\n",
    "    true_results = []\n",
    "    train_acc = 0.0\n",
    "    train_loss = 0.0\n",
    "    \n",
    "    for i, (X, y) in enumerate(trainloader):\n",
    "\n",
    "        X = X.transpose(0, 1).float().to(args.device)#파이토치는 순서가 달라서 바꿔줌\n",
    "        y_true = y[:, :, Colum].float().to(args.device)\n",
    "        model.zero_grad()\n",
    "        optimizer.zero_grad()\n",
    "        model.hidden = [hidden.to(args.device) for hidden in model.init_hidden()]\n",
    "\n",
    "        y_pred = model(X)\n",
    "        loss = loss_fn(y_pred.view(-1), y_true.view(-1))\n",
    "        loss.backward()\n",
    "        optimizer.step()\n",
    "\n",
    "        train_loss += loss.item()\n",
    "\n",
    "        pred.append(y_pred)\n",
    "        true.append(y_true)\n",
    "\n",
    "    # ========================================================================== #\n",
    "    for i in range(len(trainloader)):\n",
    "        tems1 = pred[i].view(bat_siz).cpu().detach().numpy()\n",
    "        tems2 = true[i].view(bat_siz).cpu().detach().numpy()\n",
    "        \n",
    "        for j in range(bat_siz):\n",
    "            value1 = np.exp(DeNormalize(tems1[j], DownData, Colum, DownScaler))\n",
    "            value2 = np.exp(DeNormalize(tems2[j], DownData, Colum, DownScaler))\n",
    "            \n",
    "            pred_results.append(value1)\n",
    "            true_results.append(value2)\n",
    "    # ========================================================================== #   \n",
    "\n",
    "    train_loss = train_loss / len(trainloader)\n",
    "    train_acc1 = RMSE(np.array(true_results), np.array(pred_results))\n",
    "    train_acc2 = R2(np.array(true_results), np.array(pred_results))\n",
    "#     train_acc3 = (100 - MAPE(np.array(true_results), np.array(pred_results)))\n",
    "\n",
    "    return model, train_loss, train_acc1[0], train_acc2[0]"
   ]
  },
  {
   "cell_type": "code",
   "execution_count": 20,
   "metadata": {
    "colab": {},
    "colab_type": "code",
    "id": "JvAO-LVCdjgG"
   },
   "outputs": [],
   "source": [
    "def validate(model, partition, loss_fn, args):\n",
    "    valloader = DataLoader(partition['val'],\n",
    "                           batch_size=args.batch_size,\n",
    "                           shuffle=False, drop_last=True)\n",
    "    model.eval()\n",
    "\n",
    "    bat_siz = args.batch_size\n",
    "    pred = []\n",
    "    true = []\n",
    "    pred_results = []\n",
    "    true_results = []\n",
    "    val_acc = 0.0\n",
    "    val_loss = 0.0\n",
    "    \n",
    "    with torch.no_grad():\n",
    "        for i, (X, y) in enumerate(valloader):\n",
    "\n",
    "            X = X.transpose(0, 1).float().to(args.device)\n",
    "            y_true = y[:, :, Colum].float().to(args.device)\n",
    "            model.hidden = [hidden.to(args.device) for hidden in model.init_hidden()]\n",
    "\n",
    "            y_pred = model(X)\n",
    "            loss = loss_fn(y_pred.view(-1), y_true.view(-1))\n",
    "\n",
    "            val_loss += loss.item()\n",
    "            \n",
    "            pred.append(y_pred)\n",
    "            true.append(y_true)\n",
    "\n",
    "        # ========================================================================== #\n",
    "        for i in range(len(valloader)):\n",
    "            tems1 = pred[i].view(bat_siz).cpu().detach().numpy()\n",
    "            tems2 = true[i].view(bat_siz).cpu().detach().numpy()\n",
    "\n",
    "            for j in range(bat_siz):\n",
    "                value1 = np.exp(DeNormalize(tems1[j], DownData, Colum, DownScaler))\n",
    "                value2 = np.exp(DeNormalize(tems2[j], DownData, Colum, DownScaler))\n",
    "\n",
    "                pred_results.append(value1)\n",
    "                true_results.append(value2)\n",
    "        # ========================================================================== #   \n",
    "\n",
    "    val_loss = val_loss / len(valloader)\n",
    "    val_acc1 = RMSE(np.array(true_results), np.array(pred_results))\n",
    "    val_acc2 = R2(np.array(true_results), np.array(pred_results))\n",
    "#     val_acc3 = (100 - MAPE(np.array(true_results), np.array(pred_results)))\n",
    "\n",
    "    \n",
    "    return val_loss, val_acc1[0], val_acc2[0]"
   ]
  },
  {
   "cell_type": "code",
   "execution_count": 21,
   "metadata": {
    "colab": {},
    "colab_type": "code",
    "id": "LHWmu5EtdjXu"
   },
   "outputs": [],
   "source": [
    "def test(model, partition, args):\n",
    "    testloader = DataLoader(partition['test'],\n",
    "                           batch_size=args.batch_size,\n",
    "                           shuffle=False, drop_last=True)\n",
    "    model.eval()\n",
    "\n",
    "    bat_siz = args.batch_size\n",
    "    pred = []\n",
    "    true = []\n",
    "    pred_results = []\n",
    "    true_results = []\n",
    "    test_acc = 0.0\n",
    "    \n",
    "    with torch.no_grad():\n",
    "        for i, (X, y) in enumerate(testloader):\n",
    "            X = X.transpose(0, 1).float().to(args.device)\n",
    "            y_true = y[:, :, Colum].float().to(args.device)\n",
    "            model.hidden = [hidden.to(args.device) for hidden in model.init_hidden()]\n",
    "\n",
    "            y_pred = model(X)\n",
    "\n",
    "            pred.append(y_pred)\n",
    "            true.append(y_true)\n",
    "\n",
    "    # =================== test 데이터 시각화를 위해 x,y데이터 저장 =================== #\n",
    "    for i in range(len(testloader)):\n",
    "        tems1 = pred[i].view(bat_siz).cpu().detach().numpy()\n",
    "        tems2 = true[i].view(bat_siz).cpu().detach().numpy()\n",
    "        \n",
    "        for j in range(bat_siz):\n",
    "            value1 = np.exp(DeNormalize(tems1[j], DownData, Colum, DownScaler))\n",
    "            value2 = np.exp(DeNormalize(tems2[j], DownData, Colum, DownScaler))\n",
    "            \n",
    "            pred_results.append(value1)\n",
    "            true_results.append(value2)\n",
    "    # ======================================================================== #   \n",
    "\n",
    "    test_acc1 =  RMSE(np.array( true_results), np.array(pred_results))\n",
    "    test_acc2 =  R2(np.array( true_results), np.array(pred_results))\n",
    "#     test_acc3 =  (100 - MAPE(np.array( true_results), np.array(pred_results)))\n",
    "    \n",
    "    return test_acc1[0], test_acc2[0], pred_results, true_results"
   ]
  },
  {
   "cell_type": "markdown",
   "metadata": {
    "colab_type": "text",
    "id": "vkkF0-qmeOMq"
   },
   "source": [
    "# 5. Experiment"
   ]
  },
  {
   "cell_type": "code",
   "execution_count": 22,
   "metadata": {
    "colab": {},
    "colab_type": "code",
    "id": "-EOe2j_udjNv"
   },
   "outputs": [],
   "source": [
    "def experiment(partition, args):\n",
    "\n",
    "    model = LSTM(args.input_dim, args.hid_dim, args.y_frames, args.n_layers, args.batch_size, args.dropout, args.use_bn)\n",
    "    model.to(args.device)\n",
    "\n",
    "    if args.loss == 'MSELoss':\n",
    "        loss_fn = torch.nn.MSELoss()\n",
    "        loss_fn = nn.MSELoss()\n",
    "    elif args.loss == 'L1Loss':\n",
    "        loss_fn = torch.nn.L1Loss()\n",
    "        loss_fn = nn.L1Loss()\n",
    "    elif args.loss == 'PoissonNLLLoss':\n",
    "        loss_fn = torch.nn.PoissonNLLLoss()\n",
    "        loss_fn = nn.PoissonNLLLoss()\n",
    "    elif args.loss == 'KLDivLoss':\n",
    "        loss_fn = torch.nn.KLDivLoss()\n",
    "        loss_fn = nn.KLDivLoss()\n",
    "    elif args.loss == 'BCELoss':\n",
    "        loss_fn = torch.nn.BCELoss()\n",
    "        loss_fn = nn.BCELoss()\n",
    "    elif args.loss == 'BCEWithLogitsLoss':\n",
    "        loss_fn = torch.nn.BCEWithLogitsLoss()\n",
    "        loss_fn = nn.BCEWithLogitsLoss()\n",
    "    else:\n",
    "        raise ValueError('In-valid LossFuction choice')\n",
    "    \n",
    "    if args.optim == 'SGD':\n",
    "        optimizer = optim.SGD(model.parameters(), lr=args.lr, weight_decay=args.l2)\n",
    "    elif args.optim == 'RMSprop':\n",
    "        optimizer = optim.RMSprop(model.parameters(), lr=args.lr, weight_decay=args.l2)\n",
    "    elif args.optim == 'Adam':\n",
    "        optimizer = optim.Adam(model.parameters(), lr=args.lr, weight_decay=args.l2)\n",
    "    else:\n",
    "        raise ValueError('In-valid optimizer choice')\n",
    "    \n",
    "    # ===== List for epoch-wise data ====== #\n",
    "    train_losses = []\n",
    "    val_losses = []\n",
    "    train_accs_RMSE = []\n",
    "    train_accs_R2 = []\n",
    "    val_accs_RMSE = []\n",
    "    val_accs_R2 = []\n",
    "    result_info = pd.DataFrame()\n",
    "    result_data = pd.DataFrame()\n",
    "    \n",
    "    # ===================================== #\n",
    "    \n",
    "    ## model starting point ##    \n",
    "    ts = time.time()\n",
    "    model, train_loss, train_acc_RMSE, train_acc_R2 = train(model, partition, optimizer, loss_fn, args)\n",
    "    val_loss, val_acc_RMSE, val_acc_R2 = validate(model, partition, loss_fn, args)\n",
    "    te = time.time()\n",
    "\n",
    "    # ====== Add Epoch Data ====== #\n",
    "    train_losses.append(train_loss)\n",
    "    val_losses.append(val_loss)\n",
    "    train_accs_RMSE.append(train_acc_RMSE)\n",
    "    val_accs_RMSE.append(val_acc_RMSE)\n",
    "    train_accs_R2.append(train_acc_R2)\n",
    "    val_accs_R2.append(val_acc_R2)\n",
    "    # ============================ #\n",
    "\n",
    "\n",
    "#     print('Epoch {}, Acc_RMSE(train/val): {:2.2f}/{:2.2f}, Loss(train/val) {:2.5f}/{:2.5f}. Took {:2.2f} sec'\n",
    "#           .format(0, train_acc_RMSE, val_acc_RMSE, train_loss, val_loss, te-ts))\n",
    "    \n",
    "    for epoch in range(args.epoch-1):  # loop over the dataset multiple times\n",
    "        \n",
    "        ts = time.time()\n",
    "        model, train_loss, train_acc_RMSE, train_acc_R2 = train(model, partition, optimizer, loss_fn, args)\n",
    "        val_loss, val_acc_RMSE, val_acc_R2 = validate(model, partition, loss_fn, args)\n",
    "        te = time.time()\n",
    "\n",
    "        # ====== Add Epoch Data ====== #\n",
    "        train_losses.append(train_loss)\n",
    "        val_losses.append(val_loss)\n",
    "        train_accs_RMSE.append(train_acc_RMSE)\n",
    "        val_accs_RMSE.append(val_acc_RMSE)\n",
    "        train_accs_R2.append(train_acc_R2)\n",
    "        val_accs_R2.append(val_acc_R2)\n",
    "        # ============================ #\n",
    "        \n",
    "        \n",
    "        if epoch == epoch:\n",
    "            trash_01, trash_02, Pred_save, True_save = test(model, partition, args)\n",
    "            result_data['test_pred_epoch({})'.format(epoch)] = Pred_save\n",
    "            result_data['test_true_epoch({})'.format(epoch)] = True_save\n",
    "\n",
    "\n",
    "#         print('Epoch {}, Acc_RMSE(train/val): {:2.4f}/{:2.4f}, Loss(train/val) {:2.5f}/{:2.5f}. Took {:2.2f} sec'\n",
    "#               .format(epoch+1, train_acc_RMSE, val_acc_RMSE, train_loss, val_loss, te-ts))\n",
    "        \n",
    "    test_acc_RMSE, test_acc_R2, Pred_data, True_data = test(model, partition, args)    \n",
    "    \n",
    "    # ======= Add Result  ======= #\n",
    "    result_info['train_losses'] = train_losses\n",
    "    result_info['val_losses'] = val_losses\n",
    "    \n",
    "    result_info['train_accs_RMSE'] = train_accs_RMSE\n",
    "    result_info['train_accs_R2'] = train_accs_R2\n",
    "    result_info['val_accs_RMSE'] = val_accs_RMSE\n",
    "    result_info['val_accs_R2'] = val_accs_R2\n",
    "    \n",
    "#     result_info['train_acc'] = train_acc\n",
    "#     result_info['val_acc'] = val_acc\n",
    "    result_info['test_RMSE'] = test_acc_RMSE\n",
    "    result_info['test_R2'] = test_acc_R2\n",
    "\n",
    "#     result_data['test_pred'] = Pred_data\n",
    "#     result_data['test_true'] = True_data\n",
    "    \n",
    "    return result_info, result_data"
   ]
  },
  {
   "cell_type": "markdown",
   "metadata": {
    "colab_type": "text",
    "id": "FNi-f5HyeJYi"
   },
   "source": [
    "# 6. LSTM Run"
   ]
  },
  {
   "cell_type": "code",
   "execution_count": 23,
   "metadata": {
    "colab": {},
    "colab_type": "code",
    "id": "X4Bu6kFUdizj"
   },
   "outputs": [
    {
     "name": "stdout",
     "output_type": "stream",
     "text": [
      " size of trainset :211\n",
      " size of valset :44\n",
      " size of testset :44\n",
      " total_exp_num : 192\n"
     ]
    }
   ],
   "source": [
    "# ====== Random Seed Initialization ====== #\n",
    "seed = 666\n",
    "np.random.seed(seed)\n",
    "torch.manual_seed(seed)\n",
    "\n",
    "parser = argparse.ArgumentParser()\n",
    "args = parser.parse_args(\"\")\n",
    "\n",
    "args.device = 'cuda' if torch.cuda.is_available() else 'cpu'\n",
    "\n",
    "# ====== Data Loading ====== #\n",
    "args.batch_size = 8\n",
    "args.UpData = UpData\n",
    "args.DownData = DownData\n",
    "args.x_frames = 5\n",
    "args.y_frames = 1\n",
    "\n",
    "# ====== Model Capacity ===== #\n",
    "args.input_dim = len(UpData.columns)\n",
    "args.hid_dim = 16\n",
    "args.n_layers = 2\n",
    "\n",
    "# ====== Regularization ======= #\n",
    "args.l2 = 0.0001\n",
    "args.dropout = 0.1 \n",
    "args.use_bn = False\n",
    "\n",
    "# ====== Optimizer & Training ====== #\n",
    "args.optim = 'Adam'  #SGD, RMSprop, Adam...\n",
    "args.loss = 'MSELoss'#'MSELoss','L1Loss','PoissonNLLLoss','KLDivLoss','BCELoss','BCEWithLogitsLoss'\n",
    "args.lr = 0.01\n",
    "args.epoch = 3\n",
    "\n",
    "\n",
    "# ====== Experiment Variable ====== #\n",
    "name_var1 = 'x_frames'\n",
    "list_var1 = [4,2]\n",
    "\n",
    "name_var2 = 'loss'\n",
    "list_var2 = ['MSELoss']\n",
    "\n",
    "name_var3 = 'optim'\n",
    "list_var3 = ['Adam','RMSprop']\n",
    "\n",
    "name_var4 = 'use_bn'\n",
    "list_var4 = [False]\n",
    "\n",
    "name_var5 = 'dropout'\n",
    "list_var5 = [0.1]\n",
    "\n",
    "name_var6 = 'batch_size'\n",
    "list_var6 = [4, 8]\n",
    "\n",
    "name_var7 = 'hid_dim'\n",
    "list_var7 = [32, 16]\n",
    "\n",
    "name_var8 = 'n_layers'\n",
    "list_var8 = [4, 2]\n",
    "\n",
    "name_var9 = 'lr'\n",
    "list_var9 = [0.01, 0.001, 0.0001]\n",
    "\n",
    "name_var10 = 'l2'\n",
    "list_var10 = [0.001,0.0001]\n",
    "\n",
    "name_var11 = 'epoch'\n",
    "list_var11 = [200]\n",
    "\n",
    "trainset = RiverDataset(args.UpData, args.DownData, args.x_frames, args.y_frames, '2013-01-01', '2018-06-30')\n",
    "valset = RiverDataset(args.UpData, args.DownData, args.x_frames, args.y_frames, '2018-07-01', '2019-12-31')\n",
    "testset = RiverDataset(args.UpData, args.DownData, args.x_frames, args.y_frames, '2018-07-01', '2019-12-31')\n",
    "partition = {'train': trainset, 'val':valset, 'test':testset}\n",
    "\n",
    "print(' size of trainset :{}\\n'.format(len(trainset)),\n",
    "      'size of valset :{}\\n'.format(len(valset)),\n",
    "      'size of testset :{}'.format(len(testset)))\n",
    "\n",
    "list_vars = [list_var1, list_var2, list_var3, list_var4, list_var5, list_var6, list_var7, list_var8, list_var9, list_var10, list_var11]\n",
    "i = 1\n",
    "for lenth in list_vars:\n",
    "    x = len(lenth)\n",
    "    i *= x\n",
    "total_exp_num = i\n",
    "\n",
    "print(' total_exp_num : {}'.format(total_exp_num))"
   ]
  },
  {
   "cell_type": "code",
   "execution_count": 24,
   "metadata": {},
   "outputs": [
    {
     "data": {
      "text/plain": [
       "'/Users/jinsungpark/Desktop/jupyter/Data_river/original02/HP_DA'"
      ]
     },
     "execution_count": 24,
     "metadata": {},
     "output_type": "execute_result"
    }
   ],
   "source": [
    "pwd"
   ]
  },
  {
   "cell_type": "code",
   "execution_count": 25,
   "metadata": {},
   "outputs": [
    {
     "name": "stdout",
     "output_type": "stream",
     "text": [
      "/Users/jinsungpark/Desktop/jupyter/Data_river/exp_run_04\n"
     ]
    }
   ],
   "source": [
    "cd /Users/jinsungpark/Desktop/jupyter/Data_river/exp_run_04"
   ]
  },
  {
   "cell_type": "code",
   "execution_count": 26,
   "metadata": {},
   "outputs": [
    {
     "name": "stdout",
     "output_type": "stream",
     "text": [
      "##### Start #####\n",
      "experiment_1/192, took 190.5sec, 0.52% done\n",
      "experiment_2/192, took 181.4sec, 1.04% done\n",
      "experiment_3/192, took 185.3sec, 1.56% done\n",
      "experiment_4/192, took 134.3sec, 2.08% done\n",
      "experiment_5/192, took 135.7sec, 2.60% done\n",
      "experiment_6/192, took 132.9sec, 3.12% done\n",
      "experiment_7/192, took 89.4sec, 3.65% done\n",
      "experiment_8/192, took 86.5sec, 4.17% done\n",
      "experiment_9/192, took 57.0sec, 4.69% done\n",
      "experiment_10/192, took 57.5sec, 5.21% done\n",
      "experiment_11/192, took 58.3sec, 5.73% done\n",
      "experiment_12/192, took 56.3sec, 6.25% done\n",
      "experiment_13/192, took 92.6sec, 6.77% done\n",
      "experiment_14/192, took 83.8sec, 7.29% done\n",
      "experiment_15/192, took 92.2sec, 7.81% done\n",
      "experiment_16/192, took 91.2sec, 8.33% done\n",
      "experiment_17/192, took 123.2sec, 8.85% done\n",
      "experiment_18/192, took 154.5sec, 9.38% done\n",
      "experiment_19/192, took 121.5sec, 9.90% done\n",
      "experiment_20/192, took 121.2sec, 10.42% done\n",
      "experiment_21/192, took 121.8sec, 10.94% done\n",
      "experiment_22/192, took 122.3sec, 11.46% done\n",
      "experiment_23/192, took 122.5sec, 11.98% done\n",
      "experiment_24/192, took 122.5sec, 12.50% done\n",
      "experiment_25/192, took 165.9sec, 13.02% done\n",
      "experiment_26/192, took 125.6sec, 13.54% done\n",
      "experiment_27/192, took 149.5sec, 14.06% done\n",
      "experiment_28/192, took 124.9sec, 14.58% done\n",
      "experiment_29/192, took 119.2sec, 15.10% done\n",
      "experiment_30/192, took 119.8sec, 15.62% done\n",
      "experiment_31/192, took 80.9sec, 16.15% done\n",
      "experiment_32/192, took 80.8sec, 16.67% done\n",
      "experiment_33/192, took 54.7sec, 17.19% done\n",
      "experiment_34/192, took 52.9sec, 17.71% done\n",
      "experiment_35/192, took 51.8sec, 18.23% done\n",
      "experiment_36/192, took 51.9sec, 18.75% done\n",
      "experiment_37/192, took 57.9sec, 19.27% done\n",
      "experiment_38/192, took 49.1sec, 19.79% done\n",
      "experiment_39/192, took 48.7sec, 20.31% done\n",
      "experiment_40/192, took 48.7sec, 20.83% done\n",
      "experiment_41/192, took 48.8sec, 21.35% done\n",
      "experiment_42/192, took 48.9sec, 21.88% done\n",
      "experiment_43/192, took 35.8sec, 22.40% done\n",
      "experiment_44/192, took 36.0sec, 22.92% done\n",
      "experiment_45/192, took 37.7sec, 23.44% done\n",
      "experiment_46/192, took 35.8sec, 23.96% done\n",
      "experiment_47/192, took 35.7sec, 24.48% done\n",
      "experiment_48/192, took 35.9sec, 25.00% done\n",
      "experiment_49/192, took 84.1sec, 25.52% done\n",
      "experiment_50/192, took 91.1sec, 26.04% done\n",
      "experiment_51/192, took 82.2sec, 26.56% done\n",
      "experiment_52/192, took 83.0sec, 27.08% done\n",
      "experiment_53/192, took 83.1sec, 27.60% done\n",
      "experiment_54/192, took 81.6sec, 28.12% done\n",
      "experiment_55/192, took 55.6sec, 28.65% done\n",
      "experiment_56/192, took 54.8sec, 29.17% done\n",
      "experiment_57/192, took 54.6sec, 29.69% done\n",
      "experiment_58/192, took 54.6sec, 30.21% done\n",
      "experiment_59/192, took 54.4sec, 30.73% done\n",
      "experiment_60/192, took 54.4sec, 31.25% done\n",
      "experiment_61/192, took 83.3sec, 31.77% done\n",
      "experiment_62/192, took 81.4sec, 32.29% done\n",
      "experiment_63/192, took 79.8sec, 32.81% done\n",
      "experiment_64/192, took 83.5sec, 33.33% done\n",
      "experiment_65/192, took 111.0sec, 33.85% done\n",
      "experiment_66/192, took 111.0sec, 34.38% done\n",
      "experiment_67/192, took 109.9sec, 34.90% done\n",
      "experiment_68/192, took 98.1sec, 35.42% done\n",
      "experiment_69/192, took 79.0sec, 35.94% done\n",
      "experiment_70/192, took 79.2sec, 36.46% done\n",
      "experiment_71/192, took 77.7sec, 36.98% done\n",
      "experiment_72/192, took 78.8sec, 37.50% done\n",
      "experiment_73/192, took 83.4sec, 38.02% done\n",
      "experiment_74/192, took 84.5sec, 38.54% done\n",
      "experiment_75/192, took 79.8sec, 39.06% done\n",
      "experiment_76/192, took 80.1sec, 39.58% done\n",
      "experiment_77/192, took 78.1sec, 40.10% done\n",
      "experiment_78/192, took 80.8sec, 40.62% done\n",
      "experiment_79/192, took 51.4sec, 41.15% done\n",
      "experiment_80/192, took 51.4sec, 41.67% done\n",
      "experiment_81/192, took 53.9sec, 42.19% done\n",
      "experiment_82/192, took 52.7sec, 42.71% done\n",
      "experiment_83/192, took 52.7sec, 43.23% done\n",
      "experiment_84/192, took 51.1sec, 43.75% done\n",
      "experiment_85/192, took 49.4sec, 44.27% done\n",
      "experiment_86/192, took 46.1sec, 44.79% done\n",
      "experiment_87/192, took 49.9sec, 45.31% done\n",
      "experiment_88/192, took 46.9sec, 45.83% done\n",
      "experiment_89/192, took 47.8sec, 46.35% done\n",
      "experiment_90/192, took 49.8sec, 46.88% done\n",
      "experiment_91/192, took 36.1sec, 47.40% done\n",
      "experiment_92/192, took 35.8sec, 47.92% done\n",
      "experiment_93/192, took 33.7sec, 48.44% done\n",
      "experiment_94/192, took 33.6sec, 48.96% done\n",
      "experiment_95/192, took 33.6sec, 49.48% done\n",
      "experiment_96/192, took 37.1sec, 50.00% done\n",
      "experiment_97/192, took 115.3sec, 50.52% done\n",
      "experiment_98/192, took 80.5sec, 51.04% done\n",
      "experiment_99/192, took 80.7sec, 51.56% done\n",
      "experiment_100/192, took 80.6sec, 52.08% done\n",
      "experiment_101/192, took 81.2sec, 52.60% done\n",
      "experiment_102/192, took 80.4sec, 53.12% done\n",
      "experiment_103/192, took 54.4sec, 53.65% done\n",
      "experiment_104/192, took 54.2sec, 54.17% done\n",
      "experiment_105/192, took 53.8sec, 54.69% done\n",
      "experiment_106/192, took 53.4sec, 55.21% done\n",
      "experiment_107/192, took 53.6sec, 55.73% done\n",
      "experiment_108/192, took 53.5sec, 56.25% done\n",
      "experiment_109/192, took 134.6sec, 56.77% done\n",
      "experiment_110/192, took 130.4sec, 57.29% done\n",
      "experiment_111/192, took 131.6sec, 57.81% done\n",
      "experiment_112/192, took 82.0sec, 58.33% done\n",
      "experiment_113/192, took 82.2sec, 58.85% done\n",
      "experiment_114/192, took 101.4sec, 59.38% done\n",
      "experiment_115/192, took 78.0sec, 59.90% done\n",
      "experiment_116/192, took 78.1sec, 60.42% done\n",
      "experiment_117/192, took 79.8sec, 60.94% done\n",
      "experiment_118/192, took 81.4sec, 61.46% done\n",
      "experiment_119/192, took 83.3sec, 61.98% done\n",
      "experiment_120/192, took 82.0sec, 62.50% done\n",
      "experiment_121/192, took 114.1sec, 63.02% done\n",
      "experiment_122/192, took 85.2sec, 63.54% done\n",
      "experiment_123/192, took 85.9sec, 64.06% done\n",
      "experiment_124/192, took 123.7sec, 64.58% done\n",
      "experiment_125/192, took 126.3sec, 65.10% done\n",
      "experiment_126/192, took 102.0sec, 65.62% done\n",
      "experiment_127/192, took 56.3sec, 66.15% done\n",
      "experiment_128/192, took 53.0sec, 66.67% done\n",
      "experiment_129/192, took 52.2sec, 67.19% done\n",
      "experiment_130/192, took 50.7sec, 67.71% done\n",
      "experiment_131/192, took 50.9sec, 68.23% done\n",
      "experiment_132/192, took 51.2sec, 68.75% done\n",
      "experiment_133/192, took 54.4sec, 69.27% done\n",
      "experiment_134/192, took 46.7sec, 69.79% done\n",
      "experiment_135/192, took 48.1sec, 70.31% done\n",
      "experiment_136/192, took 51.3sec, 70.83% done\n",
      "experiment_137/192, took 50.5sec, 71.35% done\n",
      "experiment_138/192, took 49.0sec, 71.88% done\n",
      "experiment_139/192, took 35.3sec, 72.40% done\n",
      "experiment_140/192, took 35.5sec, 72.92% done\n",
      "experiment_141/192, took 35.5sec, 73.44% done\n",
      "experiment_142/192, took 35.5sec, 73.96% done\n",
      "experiment_143/192, took 35.5sec, 74.48% done\n",
      "experiment_144/192, took 52.5sec, 75.00% done\n",
      "experiment_145/192, took 133.3sec, 75.52% done\n",
      "experiment_146/192, took 135.5sec, 76.04% done\n",
      "experiment_147/192, took 127.4sec, 76.56% done\n",
      "experiment_148/192, took 127.2sec, 77.08% done\n",
      "experiment_149/192, took 126.9sec, 77.60% done\n",
      "experiment_150/192, took 126.8sec, 78.12% done\n",
      "experiment_151/192, took 85.7sec, 78.65% done\n",
      "experiment_152/192, took 85.7sec, 79.17% done\n",
      "experiment_153/192, took 85.6sec, 79.69% done\n",
      "experiment_154/192, took 86.4sec, 80.21% done\n",
      "experiment_155/192, took 85.6sec, 80.73% done\n",
      "experiment_156/192, took 85.4sec, 81.25% done\n",
      "experiment_157/192, took 124.3sec, 81.77% done\n",
      "experiment_158/192, took 123.8sec, 82.29% done\n",
      "experiment_159/192, took 124.0sec, 82.81% done\n",
      "experiment_160/192, took 124.1sec, 83.33% done\n",
      "experiment_161/192, took 123.9sec, 83.85% done\n",
      "experiment_162/192, took 137.1sec, 84.38% done\n",
      "experiment_163/192, took 115.6sec, 84.90% done\n",
      "experiment_164/192, took 115.5sec, 85.42% done\n",
      "experiment_165/192, took 115.9sec, 85.94% done\n",
      "experiment_166/192, took 117.0sec, 86.46% done\n",
      "experiment_167/192, took 117.6sec, 86.98% done\n",
      "experiment_168/192, took 117.6sec, 87.50% done\n",
      "experiment_169/192, took 125.6sec, 88.02% done\n",
      "experiment_170/192, took 126.9sec, 88.54% done\n",
      "experiment_171/192, took 124.7sec, 89.06% done\n",
      "experiment_172/192, took 123.3sec, 89.58% done\n",
      "experiment_173/192, took 120.7sec, 90.10% done\n",
      "experiment_174/192, took 120.3sec, 90.62% done\n",
      "experiment_175/192, took 83.3sec, 91.15% done\n",
      "experiment_176/192, took 81.5sec, 91.67% done\n",
      "experiment_177/192, took 80.6sec, 92.19% done\n",
      "experiment_178/192, took 78.0sec, 92.71% done\n",
      "experiment_179/192, took 77.9sec, 93.23% done\n",
      "experiment_180/192, took 77.8sec, 93.75% done\n"
     ]
    },
    {
     "name": "stdout",
     "output_type": "stream",
     "text": [
      "experiment_181/192, took 77.4sec, 94.27% done\n",
      "experiment_182/192, took 75.5sec, 94.79% done\n",
      "experiment_183/192, took 75.3sec, 95.31% done\n",
      "experiment_184/192, took 74.8sec, 95.83% done\n",
      "experiment_185/192, took 74.5sec, 96.35% done\n",
      "experiment_186/192, took 74.5sec, 96.88% done\n",
      "experiment_187/192, took 54.8sec, 97.40% done\n",
      "experiment_188/192, took 54.7sec, 97.92% done\n",
      "experiment_189/192, took 54.8sec, 98.44% done\n",
      "experiment_190/192, took 54.6sec, 98.96% done\n",
      "experiment_191/192, took 54.7sec, 99.48% done\n",
      "experiment_192/192, took 54.6sec, 100.00% done\n",
      "All done\n"
     ]
    }
   ],
   "source": [
    "seed = 666\n",
    "np.random.seed(seed)\n",
    "torch.manual_seed(seed)\n",
    "\n",
    "print('##### Start #####')\n",
    "\n",
    "num = 0 #초기화\n",
    "\n",
    "for var1 in list_var1:\n",
    "    for var2 in list_var2:\n",
    "        for var3 in list_var3:\n",
    "            for var4 in list_var4:\n",
    "                for var5 in list_var5:\n",
    "                    for var6 in list_var6:\n",
    "                        for var7 in list_var7:\n",
    "                            for var8 in list_var8:\n",
    "                                for var9 in list_var9:\n",
    "                                    for var10 in list_var10:\n",
    "                                        for var11 in list_var11:\n",
    "                                            ts = time.time()\n",
    "                                            num += 1\n",
    "                                            setattr(args, name_var1, var1)\n",
    "                                            setattr(args, name_var2, var2)\n",
    "                                            setattr(args, name_var3, var3)\n",
    "                                            setattr(args, name_var4, var4)\n",
    "                                            setattr(args, name_var5, var5)\n",
    "                                            setattr(args, name_var6, var6)\n",
    "                                            setattr(args, name_var7, var7)\n",
    "                                            setattr(args, name_var8, var8)\n",
    "                                            setattr(args, name_var9, var9)\n",
    "                                            setattr(args, name_var10, var10)\n",
    "                                            setattr(args, name_var11, var11)\n",
    "\n",
    "#                                             print('experiment_{}/{} : x_frames = {}, loss={}, optim={}, use_bn={}, dropout={}, batch_size={}, hid_dim={}, n_layers={}, lr={}, l2={}, epoch={}'\n",
    "#                                                   .format(num,total_exp_num,args.x_frames,args.loss,args.optim,args.use_bn,args.dropout,args.batch_size,args.hid_dim,args.n_layers,args.lr,args.l2,args.epoch))\n",
    "                                            result_info, result_data = experiment(partition, deepcopy(args))\n",
    "    \n",
    "                                            min_RMSE = min(result_info['val_accs_RMSE'])\n",
    "                                            max_R2 = max(result_info['val_accs_R2'])\n",
    "#                                             RMSE_ = result_info['val_accs_RMSE']\n",
    "#                                             R2_ = result_info['val_accs_R2']\n",
    "                                            epoch = args.epoch\n",
    "                                            \n",
    "                                            result_info.to_csv('exp{:03d}_info_RMSE[{:2.4f}]_R2[{:2.4f}].csv'.format(num,min_RMSE,max_R2))\n",
    "                                            result_data.to_csv('exp{:03d}_data_RMSE[{:2.4f}]_R2[{:2.4f}].csv'.format(num,min_RMSE,max_R2))\n",
    "                \n",
    "                                            file=open('exp_index.txt','a')\n",
    "                                            file.write('experiment {:03d}/{} : x_frames = {}, loss={}, optim={}, use_bn={}, dropout={}, batch_size={}, hid_dim={}, n_layers={}, lr={}, l2={}, epoch={}\\n'\n",
    "                                                       .format(num,total_exp_num,args.x_frames,args.loss,args.optim,args.use_bn,args.dropout,args.batch_size,args.hid_dim,args.n_layers,args.lr,args.l2,args.epoch))\n",
    "                                            file.close()\n",
    "\n",
    "                                            te = time.time()\n",
    "                                \n",
    "                                            print('experiment_{}/{}, took {:2.1f}sec, {:2.2f}% done'\n",
    "                                                  .format(num,total_exp_num,te-ts,(num/total_exp_num)*100))\n",
    "                                    \n",
    "#                                             network = LSTM(args.input_dim, args.hid_dim, args.y_frames, args.n_layers, args.batch_size, args.dropout, args.use_bn)\n",
    "#                                             torch.save(network.state_dict(),'lstm1.pt')\n",
    "                            \n",
    "                                       \n",
    "#                                             print('train_acc = {:2.2f}%, val_acc = {:2.2f}%, test_acc = {:2.2f}%'\n",
    "#                                                   .format(result['train_acc'],result['val_acc'],result['test_acc']))\n",
    "\n",
    "print('All done')"
   ]
  },
  {
   "cell_type": "code",
   "execution_count": null,
   "metadata": {},
   "outputs": [],
   "source": []
  }
 ],
 "metadata": {
  "kernelspec": {
   "display_name": "PyTorch",
   "language": "python",
   "name": "pytorch"
  },
  "language_info": {
   "codemirror_mode": {
    "name": "ipython",
    "version": 3
   },
   "file_extension": ".py",
   "mimetype": "text/x-python",
   "name": "python",
   "nbconvert_exporter": "python",
   "pygments_lexer": "ipython3",
   "version": "3.8.1"
  }
 },
 "nbformat": 4,
 "nbformat_minor": 4
}
