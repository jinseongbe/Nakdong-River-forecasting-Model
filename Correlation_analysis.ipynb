{
 "cells": [
  {
   "cell_type": "code",
   "execution_count": 1,
   "metadata": {},
   "outputs": [],
   "source": [
    "import pandas as pd"
   ]
  },
  {
   "cell_type": "code",
   "execution_count": 2,
   "metadata": {},
   "outputs": [
    {
     "data": {
      "text/plain": [
       "'/Users/jinsungpark/Desktop/jupyter'"
      ]
     },
     "execution_count": 2,
     "metadata": {},
     "output_type": "execute_result"
    }
   ],
   "source": [
    "pwd"
   ]
  },
  {
   "cell_type": "code",
   "execution_count": 5,
   "metadata": {},
   "outputs": [
    {
     "name": "stdout",
     "output_type": "stream",
     "text": [
      "\u001b[34m2020_공모전\u001b[m\u001b[m/\r\n",
      "IMG_0221.png\r\n",
      "\u001b[34mPython\u001b[m\u001b[m/\r\n",
      "\u001b[34mUnity\u001b[m\u001b[m/\r\n",
      "\u001b[34metc\u001b[m\u001b[m/\r\n",
      "\u001b[34mjupyter\u001b[m\u001b[m/\r\n",
      "\u001b[34mresult\u001b[m\u001b[m/\r\n",
      "\u001b[34mresult02\u001b[m\u001b[m/\r\n",
      "\u001b[34m과외\u001b[m\u001b[m/\r\n",
      "시디1_05.pdf\r\n",
      "\u001b[34m임시\u001b[m\u001b[m/\r\n",
      "졸논_서론_피드백.docx\r\n",
      "덕곡_함안.xlsx\r\n",
      "졸논_본문_피드백.pptx\r\n",
      "\u001b[34m시각디자인\u001b[m\u001b[m/\r\n",
      "\u001b[34m졸업논문\u001b[m\u001b[m/\r\n",
      "\u001b[34m환경공학\u001b[m\u001b[m/\r\n",
      "현풍대암덕곡_데이터.xlsx\r\n",
      "대암덕곡상류유사도.xlsx\r\n"
     ]
    }
   ],
   "source": [
    "ls"
   ]
  },
  {
   "cell_type": "code",
   "execution_count": 4,
   "metadata": {},
   "outputs": [
    {
     "name": "stdout",
     "output_type": "stream",
     "text": [
      "/Users/jinsungpark/Desktop\n"
     ]
    }
   ],
   "source": [
    "cd /Users/jinsungpark/Desktop"
   ]
  },
  {
   "cell_type": "code",
   "execution_count": 15,
   "metadata": {},
   "outputs": [],
   "source": [
    "# df = pd.read_excel('논공_덕곡.xlsx', sheet_name = '논공_현풍')\n",
    "# df = pd.read_excel('논공_덕곡.xlsx', sheet_name = '현풍_대암-1')\n",
    "# df = pd.read_excel('논공_덕곡.xlsx', sheet_name = '대암-1_덕곡')\n",
    "df = pd.read_excel('덕곡_함안.xlsx')"
   ]
  },
  {
   "cell_type": "code",
   "execution_count": 16,
   "metadata": {},
   "outputs": [
    {
     "data": {
      "text/html": [
       "<div>\n",
       "<style scoped>\n",
       "    .dataframe tbody tr th:only-of-type {\n",
       "        vertical-align: middle;\n",
       "    }\n",
       "\n",
       "    .dataframe tbody tr th {\n",
       "        vertical-align: top;\n",
       "    }\n",
       "\n",
       "    .dataframe thead th {\n",
       "        text-align: right;\n",
       "    }\n",
       "</style>\n",
       "<table border=\"1\" class=\"dataframe\">\n",
       "  <thead>\n",
       "    <tr style=\"text-align: right;\">\n",
       "      <th></th>\n",
       "      <th>함안_일자</th>\n",
       "      <th>개방유무1</th>\n",
       "      <th>덕곡_DO(㎎/L)</th>\n",
       "      <th>덕곡_BOD(㎎/L)</th>\n",
       "      <th>덕곡_COD(㎎/L)</th>\n",
       "      <th>덕곡_SS(㎎/L)</th>\n",
       "      <th>덕곡_TN(㎎/L)</th>\n",
       "      <th>덕곡_TP(㎎/L)</th>\n",
       "      <th>덕곡_수온(℃)</th>\n",
       "      <th>덕곡_클로로필a(㎎/㎥)</th>\n",
       "      <th>...</th>\n",
       "      <th>토평천2_클로로필a(㎎/㎥)</th>\n",
       "      <th>토평천2_유량(㎥/s)</th>\n",
       "      <th>함안_DO(㎎/L)</th>\n",
       "      <th>함안_BOD(㎎/L)</th>\n",
       "      <th>함안_COD(㎎/L)</th>\n",
       "      <th>함안_SS(㎎/L)</th>\n",
       "      <th>함안_TN(㎎/L)</th>\n",
       "      <th>함안_TP(㎎/L)</th>\n",
       "      <th>함안_수온(℃)</th>\n",
       "      <th>함안_클로로필a(㎎/㎥)</th>\n",
       "    </tr>\n",
       "  </thead>\n",
       "  <tbody>\n",
       "    <tr>\n",
       "      <th>0</th>\n",
       "      <td>2013-01-07</td>\n",
       "      <td>0</td>\n",
       "      <td>15.600000</td>\n",
       "      <td>1.20000</td>\n",
       "      <td>3.000000</td>\n",
       "      <td>14.900000</td>\n",
       "      <td>3.621000</td>\n",
       "      <td>0.055000</td>\n",
       "      <td>1.700000</td>\n",
       "      <td>2.300000</td>\n",
       "      <td>...</td>\n",
       "      <td>12.80000</td>\n",
       "      <td>0.604000</td>\n",
       "      <td>14.1</td>\n",
       "      <td>1.5</td>\n",
       "      <td>4.6</td>\n",
       "      <td>6.3</td>\n",
       "      <td>4.246</td>\n",
       "      <td>0.044</td>\n",
       "      <td>3.1</td>\n",
       "      <td>14.3</td>\n",
       "    </tr>\n",
       "    <tr>\n",
       "      <th>1</th>\n",
       "      <td>2013-01-14</td>\n",
       "      <td>0</td>\n",
       "      <td>15.300000</td>\n",
       "      <td>0.70000</td>\n",
       "      <td>3.200000</td>\n",
       "      <td>1.700000</td>\n",
       "      <td>3.659000</td>\n",
       "      <td>0.021000</td>\n",
       "      <td>1.700000</td>\n",
       "      <td>1.700000</td>\n",
       "      <td>...</td>\n",
       "      <td>13.50000</td>\n",
       "      <td>0.611000</td>\n",
       "      <td>13.7</td>\n",
       "      <td>1.2</td>\n",
       "      <td>4.1</td>\n",
       "      <td>6.0</td>\n",
       "      <td>3.273</td>\n",
       "      <td>0.041</td>\n",
       "      <td>3.0</td>\n",
       "      <td>11.0</td>\n",
       "    </tr>\n",
       "    <tr>\n",
       "      <th>2</th>\n",
       "      <td>2013-01-21</td>\n",
       "      <td>0</td>\n",
       "      <td>15.289844</td>\n",
       "      <td>1.53681</td>\n",
       "      <td>4.391654</td>\n",
       "      <td>12.515545</td>\n",
       "      <td>3.967192</td>\n",
       "      <td>0.037781</td>\n",
       "      <td>2.554906</td>\n",
       "      <td>11.657649</td>\n",
       "      <td>...</td>\n",
       "      <td>13.54174</td>\n",
       "      <td>0.873418</td>\n",
       "      <td>14.0</td>\n",
       "      <td>1.9</td>\n",
       "      <td>4.8</td>\n",
       "      <td>6.3</td>\n",
       "      <td>3.654</td>\n",
       "      <td>0.036</td>\n",
       "      <td>2.7</td>\n",
       "      <td>18.5</td>\n",
       "    </tr>\n",
       "    <tr>\n",
       "      <th>3</th>\n",
       "      <td>2013-01-28</td>\n",
       "      <td>0</td>\n",
       "      <td>15.400000</td>\n",
       "      <td>2.30000</td>\n",
       "      <td>5.800000</td>\n",
       "      <td>5.100000</td>\n",
       "      <td>4.199000</td>\n",
       "      <td>0.031000</td>\n",
       "      <td>3.400000</td>\n",
       "      <td>20.500000</td>\n",
       "      <td>...</td>\n",
       "      <td>8.00000</td>\n",
       "      <td>0.910000</td>\n",
       "      <td>14.8</td>\n",
       "      <td>2.4</td>\n",
       "      <td>5.6</td>\n",
       "      <td>7.7</td>\n",
       "      <td>4.194</td>\n",
       "      <td>0.037</td>\n",
       "      <td>4.4</td>\n",
       "      <td>23.3</td>\n",
       "    </tr>\n",
       "    <tr>\n",
       "      <th>4</th>\n",
       "      <td>2013-02-04</td>\n",
       "      <td>0</td>\n",
       "      <td>14.500000</td>\n",
       "      <td>1.30000</td>\n",
       "      <td>5.700000</td>\n",
       "      <td>8.600000</td>\n",
       "      <td>4.670000</td>\n",
       "      <td>0.050000</td>\n",
       "      <td>4.600000</td>\n",
       "      <td>20.700000</td>\n",
       "      <td>...</td>\n",
       "      <td>22.10000</td>\n",
       "      <td>3.187000</td>\n",
       "      <td>13.5</td>\n",
       "      <td>1.9</td>\n",
       "      <td>5.4</td>\n",
       "      <td>24.3</td>\n",
       "      <td>4.172</td>\n",
       "      <td>0.072</td>\n",
       "      <td>5.7</td>\n",
       "      <td>15.5</td>\n",
       "    </tr>\n",
       "  </tbody>\n",
       "</table>\n",
       "<p>5 rows × 85 columns</p>\n",
       "</div>"
      ],
      "text/plain": [
       "        함안_일자  개방유무1  덕곡_DO(㎎/L)  덕곡_BOD(㎎/L)  덕곡_COD(㎎/L)  덕곡_SS(㎎/L)  \\\n",
       "0  2013-01-07      0   15.600000      1.20000     3.000000   14.900000   \n",
       "1  2013-01-14      0   15.300000      0.70000     3.200000    1.700000   \n",
       "2  2013-01-21      0   15.289844      1.53681     4.391654   12.515545   \n",
       "3  2013-01-28      0   15.400000      2.30000     5.800000    5.100000   \n",
       "4  2013-02-04      0   14.500000      1.30000     5.700000    8.600000   \n",
       "\n",
       "   덕곡_TN(㎎/L)  덕곡_TP(㎎/L)  덕곡_수온(℃)  덕곡_클로로필a(㎎/㎥)  ...  토평천2_클로로필a(㎎/㎥)  \\\n",
       "0    3.621000    0.055000  1.700000       2.300000  ...         12.80000   \n",
       "1    3.659000    0.021000  1.700000       1.700000  ...         13.50000   \n",
       "2    3.967192    0.037781  2.554906      11.657649  ...         13.54174   \n",
       "3    4.199000    0.031000  3.400000      20.500000  ...          8.00000   \n",
       "4    4.670000    0.050000  4.600000      20.700000  ...         22.10000   \n",
       "\n",
       "   토평천2_유량(㎥/s)  함안_DO(㎎/L)  함안_BOD(㎎/L)  함안_COD(㎎/L)  함안_SS(㎎/L)  함안_TN(㎎/L)  \\\n",
       "0      0.604000        14.1          1.5          4.6         6.3       4.246   \n",
       "1      0.611000        13.7          1.2          4.1         6.0       3.273   \n",
       "2      0.873418        14.0          1.9          4.8         6.3       3.654   \n",
       "3      0.910000        14.8          2.4          5.6         7.7       4.194   \n",
       "4      3.187000        13.5          1.9          5.4        24.3       4.172   \n",
       "\n",
       "   함안_TP(㎎/L)  함안_수온(℃)  함안_클로로필a(㎎/㎥)  \n",
       "0       0.044       3.1           14.3  \n",
       "1       0.041       3.0           11.0  \n",
       "2       0.036       2.7           18.5  \n",
       "3       0.037       4.4           23.3  \n",
       "4       0.072       5.7           15.5  \n",
       "\n",
       "[5 rows x 85 columns]"
      ]
     },
     "execution_count": 16,
     "metadata": {},
     "output_type": "execute_result"
    }
   ],
   "source": [
    "df.head()"
   ]
  },
  {
   "cell_type": "code",
   "execution_count": 17,
   "metadata": {},
   "outputs": [],
   "source": [
    "# df = df.drop('논공_일자', axis = 1)\n",
    "# df = df.drop('대암-1_일자', axis = 1)\n",
    "df = df.drop('함안_일자', axis = 1)\n",
    "df = df.drop('개방유무1', axis = 1)"
   ]
  },
  {
   "cell_type": "code",
   "execution_count": 18,
   "metadata": {},
   "outputs": [
    {
     "name": "stdout",
     "output_type": "stream",
     "text": [
      "<class 'pandas.core.frame.DataFrame'>\n",
      "RangeIndex: 349 entries, 0 to 348\n",
      "Data columns (total 83 columns):\n",
      " #   Column                 Non-Null Count  Dtype  \n",
      "---  ------                 --------------  -----  \n",
      " 0   덕곡_DO(㎎/L)             349 non-null    float64\n",
      " 1   덕곡_BOD(㎎/L)            349 non-null    float64\n",
      " 2   덕곡_COD(㎎/L)            349 non-null    float64\n",
      " 3   덕곡_SS(㎎/L)             349 non-null    float64\n",
      " 4   덕곡_TN(㎎/L)             349 non-null    float64\n",
      " 5   덕곡_TP(㎎/L)             349 non-null    float64\n",
      " 6   덕곡_수온(℃)               349 non-null    float64\n",
      " 7   덕곡_클로로필a(㎎/㎥)          349 non-null    float64\n",
      " 8   칠서산단_COD(㎎/L)          349 non-null    float64\n",
      " 9   칠서산단_SS(㎎/L)           349 non-null    float64\n",
      " 10  칠서산단_TN(㎎/L)           349 non-null    float64\n",
      " 11  칠서산단_TP(㎎/L)           349 non-null    float64\n",
      " 12  칠서산단_적산유량(평균)(㎥/Hour)  349 non-null    float64\n",
      " 13  칠서산단_일적산유량(㎥/일)        349 non-null    float64\n",
      " 14  칠서산단_BOD부하(kg/일)       0 non-null      float64\n",
      " 15  칠서산단_COD부하(kg/일)       349 non-null    float64\n",
      " 16  칠서산단_SS부하(kg/일)        349 non-null    float64\n",
      " 17  칠서산단_TN부하(kg/일)        349 non-null    float64\n",
      " 18  칠서산단_TP부하(kg/일)        349 non-null    float64\n",
      " 19  북창원_일주누적강수량(mm)        349 non-null    float64\n",
      " 20  북창원_일주평균일사량(MJ/m2)     349 non-null    float64\n",
      " 21  황강5_DO(㎎/L)            349 non-null    float64\n",
      " 22  황강5_BOD(㎎/L)           349 non-null    float64\n",
      " 23  황강5_COD(㎎/L)           349 non-null    float64\n",
      " 24  황강5_SS(㎎/L)            349 non-null    float64\n",
      " 25  황강5_TN(㎎/L)            349 non-null    float64\n",
      " 26  황강5_TP(㎎/L)            349 non-null    float64\n",
      " 27  황강5_수온(℃)              349 non-null    float64\n",
      " 28  황강5_클로로필a(㎎/㎥)         349 non-null    float64\n",
      " 29  황강5_유량(㎥/s)            349 non-null    float64\n",
      " 30  신반천_DO(㎎/L)            349 non-null    float64\n",
      " 31  신반천_BOD(㎎/L)           349 non-null    float64\n",
      " 32  신반천_COD(㎎/L)           349 non-null    float64\n",
      " 33  신반천_SS(㎎/L)            349 non-null    float64\n",
      " 34  신반천_TN(㎎/L)            349 non-null    float64\n",
      " 35  신반천_TP(㎎/L)            349 non-null    float64\n",
      " 36  신반천_수온(℃)              349 non-null    float64\n",
      " 37  신반천_클로로필a(㎎/㎥)         349 non-null    float64\n",
      " 38  신반천_유량(㎥/s)            349 non-null    float64\n",
      " 39  남강4-1_DO(㎎/L)          349 non-null    float64\n",
      " 40  남강4-1_BOD(㎎/L)         349 non-null    float64\n",
      " 41  남강4-1_COD(㎎/L)         349 non-null    float64\n",
      " 42  남강4-1_SS(㎎/L)          349 non-null    float64\n",
      " 43  남강4-1_TN(㎎/L)          349 non-null    float64\n",
      " 44  남강4-1_TP(㎎/L)          349 non-null    float64\n",
      " 45  남강4-1_수온(℃)            349 non-null    float64\n",
      " 46  남강4-1_클로로필a(㎎/㎥)       349 non-null    float64\n",
      " 47  남강4-1_유량(㎥/s)          349 non-null    float64\n",
      " 48  계성천_DO(㎎/L)            349 non-null    float64\n",
      " 49  계성천_BOD(㎎/L)           349 non-null    float64\n",
      " 50  계성천_COD(㎎/L)           349 non-null    float64\n",
      " 51  계성천_SS(㎎/L)            349 non-null    float64\n",
      " 52  계성천_TN(㎎/L)            349 non-null    float64\n",
      " 53  계성천_TP(㎎/L)            349 non-null    float64\n",
      " 54  계성천_수온(℃)              349 non-null    float64\n",
      " 55  계성천_클로로필a(㎎/㎥)         349 non-null    float64\n",
      " 56  계성천_유량(㎥/s)            349 non-null    float64\n",
      " 57  광려천3_DO(㎎/L)           349 non-null    float64\n",
      " 58  광려천3_BOD(㎎/L)          349 non-null    float64\n",
      " 59  광려천3_COD(㎎/L)          349 non-null    float64\n",
      " 60  광려천3_SS(㎎/L)           349 non-null    float64\n",
      " 61  광려천3_TN(㎎/L)           349 non-null    float64\n",
      " 62  광려천3_TP(㎎/L)           349 non-null    float64\n",
      " 63  광려천3_수온(℃)             349 non-null    float64\n",
      " 64  광려천3_클로로필a(㎎/㎥)        349 non-null    float64\n",
      " 65  광려천3_유량(㎥/s)           349 non-null    float64\n",
      " 66  토평천2_DO(㎎/L)           349 non-null    float64\n",
      " 67  토평천2_BOD(㎎/L)          349 non-null    float64\n",
      " 68  토평천2_COD(㎎/L)          349 non-null    float64\n",
      " 69  토평천2_SS(㎎/L)           349 non-null    float64\n",
      " 70  토평천2_TN(㎎/L)           349 non-null    float64\n",
      " 71  토평천2_TP(㎎/L)           349 non-null    float64\n",
      " 72  토평천2_수온(℃)             349 non-null    float64\n",
      " 73  토평천2_클로로필a(㎎/㎥)        349 non-null    float64\n",
      " 74  토평천2_유량(㎥/s)           349 non-null    float64\n",
      " 75  함안_DO(㎎/L)             349 non-null    float64\n",
      " 76  함안_BOD(㎎/L)            349 non-null    float64\n",
      " 77  함안_COD(㎎/L)            349 non-null    float64\n",
      " 78  함안_SS(㎎/L)             349 non-null    float64\n",
      " 79  함안_TN(㎎/L)             349 non-null    float64\n",
      " 80  함안_TP(㎎/L)             349 non-null    float64\n",
      " 81  함안_수온(℃)               349 non-null    float64\n",
      " 82  함안_클로로필a(㎎/㎥)          349 non-null    float64\n",
      "dtypes: float64(83)\n",
      "memory usage: 226.4 KB\n"
     ]
    }
   ],
   "source": [
    "df.info()"
   ]
  },
  {
   "cell_type": "code",
   "execution_count": 19,
   "metadata": {},
   "outputs": [],
   "source": [
    "# pearson 상관계수\n",
    "corr_p = df.corr(method='pearson')"
   ]
  },
  {
   "cell_type": "code",
   "execution_count": 20,
   "metadata": {},
   "outputs": [],
   "source": [
    "# spearman 상관계수\n",
    "corr_s = df.corr(method='spearman')"
   ]
  },
  {
   "cell_type": "code",
   "execution_count": null,
   "metadata": {},
   "outputs": [],
   "source": [
    "# kendall 상관계수\n",
    "# corr_k = df.corr(method='kendall')"
   ]
  },
  {
   "cell_type": "code",
   "execution_count": null,
   "metadata": {},
   "outputs": [],
   "source": [
    "# corr_p.to_excel('corr_p(논공_현풍).xlsx')\n",
    "# corr_s.to_excel('corr_s(논공_현풍).xlsx')\n",
    "# corr_k.to_excel('corr_k(논공_현풍).xlsx')"
   ]
  },
  {
   "cell_type": "code",
   "execution_count": null,
   "metadata": {},
   "outputs": [],
   "source": [
    "# corr_p.to_excel('corr_p(현풍_대암).xlsx')\n",
    "# corr_s.to_excel('corr_s(현풍_대암).xlsx')\n",
    "# corr_k.to_excel('corr_k(현풍_대암).xlsx')"
   ]
  },
  {
   "cell_type": "code",
   "execution_count": null,
   "metadata": {},
   "outputs": [],
   "source": [
    "# corr_p.to_excel('corr_p(대암_덕곡).xlsx')\n",
    "# corr_s.to_excel('corr_s(대암_덕곡).xlsx')\n",
    "# corr_k.to_excel('corr_k(대암_덕곡).xlsx')"
   ]
  },
  {
   "cell_type": "code",
   "execution_count": 21,
   "metadata": {},
   "outputs": [],
   "source": [
    "corr_p.to_excel('corr_p(덕곡_함안).xlsx')\n",
    "corr_s.to_excel('corr_s(덕곡_함안).xlsx')\n",
    "# corr_k.to_excel('corr_k(대암_덕곡).xlsx')"
   ]
  },
  {
   "cell_type": "code",
   "execution_count": null,
   "metadata": {},
   "outputs": [],
   "source": []
  }
 ],
 "metadata": {
  "kernelspec": {
   "display_name": "Python 3",
   "language": "python",
   "name": "python3"
  },
  "language_info": {
   "codemirror_mode": {
    "name": "ipython",
    "version": 3
   },
   "file_extension": ".py",
   "mimetype": "text/x-python",
   "name": "python",
   "nbconvert_exporter": "python",
   "pygments_lexer": "ipython3",
   "version": "3.7.6"
  }
 },
 "nbformat": 4,
 "nbformat_minor": 4
}
