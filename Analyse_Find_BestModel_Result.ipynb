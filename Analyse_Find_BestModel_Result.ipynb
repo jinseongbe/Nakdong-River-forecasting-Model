{
 "cells": [
  {
   "cell_type": "code",
   "execution_count": 1,
   "metadata": {},
   "outputs": [
    {
     "name": "stderr",
     "output_type": "stream",
     "text": [
      "Setting up a new session...\n"
     ]
    }
   ],
   "source": [
    "import pandas as pd\n",
    "import numpy as np\n",
    "import os\n",
    "import visdom\n",
    "import torch\n",
    "vis = visdom.Visdom()"
   ]
  },
  {
   "cell_type": "markdown",
   "metadata": {},
   "source": [
    "## Define"
   ]
  },
  {
   "cell_type": "code",
   "execution_count": 18,
   "metadata": {},
   "outputs": [],
   "source": [
    "def loss_graph(data, exp_num):\n",
    "    df = data\n",
    "    num = exp_num\n",
    "    A = torch.Tensor(df['train_losses']).view(-1,1)\n",
    "    B = torch.Tensor(df['val_losses']).view(-1,1)\n",
    "    axis = torch.Tensor(range(len(df['train_losses']))).view(-1,1)\n",
    "\n",
    "    Y_axis = torch.cat((A, B), -1)\n",
    "    X_axis = torch.cat((axis, axis), -1)\n",
    "\n",
    "    vis.line(Y = Y_axis,\n",
    "             X = X_axis,\n",
    "             opts=dict(title='exp_{:03d}_loss'\n",
    "                       .format(num),\n",
    "                       legend=['train','val'],\n",
    "                       showlegend=True,\n",
    "                       layoutopts = {'plotly': {'legend': {'x':0, 'y':0}}}))\n",
    "    return"
   ]
  },
  {
   "cell_type": "code",
   "execution_count": 3,
   "metadata": {},
   "outputs": [],
   "source": [
    "#Acc Graph\n",
    "def acc_graph(data, exp_num):\n",
    "    df = data\n",
    "    num = exp_num\n",
    "\n",
    "    A = torch.Tensor(df_info['val_accs_RMSE']).view(-1,1)\n",
    "    B = torch.Tensor(df_info['val_accs_R2']).view(-1,1)\n",
    "    axis = torch.Tensor(range(len(df_info['train_losses']))).view(-1,1)\n",
    "\n",
    "    Y_axis = torch.cat((A, B), -1)\n",
    "    X_axis = torch.cat((axis, axis), -1)\n",
    "\n",
    "    vis.line(Y = Y_axis,\n",
    "             X = X_axis,\n",
    "             opts=dict(title='exp_{:03d}_acc'\n",
    "                       .format(num),\n",
    "                       legend=['RMSE','R2'],\n",
    "                       showlegend=True,\n",
    "                       layoutopts = {'plotly': {'legend': {'x':0, 'y':0}}}))\n",
    "    return"
   ]
  },
  {
   "cell_type": "code",
   "execution_count": 4,
   "metadata": {},
   "outputs": [],
   "source": [
    "def best_epoch_by_RMSE(data, high_rank):\n",
    "    data = data.sort_values(by=['val_accs_RMSE'], axis=0, ascending=True, inplace=False)\n",
    "    data['index'] =list(range(0,200))\n",
    "    data = data.set_index('index')\n",
    "    \n",
    "    epoch_list = []\n",
    "\n",
    "    for i in list(range(high_rank)):\n",
    "        epoch_num = data['Unnamed: 0'][i] - 1 # 모델 설계할떄 df_data의 데이터 조장이 1epoch부터 시작하여 epoch수를 맞춰주려면 df_info에서 1을 뺴줘야 한다 //df_info의 epoch은 실제로 0~199, df_data의 epoch은 실제로 1~199(198개여서 0~198로 표기됨),\n",
    "        epoch_list.append(epoch_num)\n",
    "    \n",
    "    return epoch_list\n",
    "\n",
    "def best_epoch_by_R2(data, high_rank):\n",
    "    data = data.sort_values(by=['val_accs_R2'], axis=0, ascending=False, inplace=False)\n",
    "    data['index'] =list(range(0,200))\n",
    "    data = data.set_index('index')\n",
    "    \n",
    "    epoch_list = []\n",
    "\n",
    "    for i in list(range(high_rank)):\n",
    "        epoch_num = data['Unnamed: 0'][i] - 1 # 모델 설계할떄 df_data의 데이터 조장이 1epoch부터 시작하여 epoch수를 맞춰주려면 df_info에서 1을 뺴줘야 한다 //df_info의 epoch은 실제로 0~199, df_data의 epoch은 실제로 1~199(198개여서 0~198로 표기됨),\n",
    "        epoch_list.append(epoch_num)\n",
    "    \n",
    "    return epoch_list"
   ]
  },
  {
   "cell_type": "code",
   "execution_count": 5,
   "metadata": {},
   "outputs": [],
   "source": [
    "def result_graph(data, exp_num, epoch_num):\n",
    "    z = epoch_num*2\n",
    "    data = data.iloc[:,[z,z+1]]\n",
    "\n",
    "    A = torch.Tensor(data.iloc[:,0]).view(-1,1)\n",
    "    B = torch.Tensor(data.iloc[:,1]).view(-1,1)\n",
    "    axis = torch.Tensor(range(len(data.iloc[:,0]))).view(-1,1)\n",
    "\n",
    "    Y_axis = torch.cat((A, B), -1)\n",
    "    X_axis = torch.cat((axis, axis), -1)\n",
    "\n",
    "    vis.line(Y = Y_axis,\n",
    "             X = X_axis,\n",
    "             opts=dict(title='exp_{}_result_epoch[{}]'\n",
    "                       .format(exp_num,epoch_num+1),\n",
    "                       legend=['pred','true'],\n",
    "                       showlegend=True,\n",
    "                       layoutopts = {'plotly': {'legend': {'x':0, 'y':0}}}))\n",
    "    return\n"
   ]
  },
  {
   "cell_type": "markdown",
   "metadata": {},
   "source": [
    "## analysis"
   ]
  },
  {
   "cell_type": "code",
   "execution_count": 19,
   "metadata": {},
   "outputs": [
    {
     "name": "stdout",
     "output_type": "stream",
     "text": [
      "/Users/jinsungpark/Desktop/DSNG_ALL_TN\n"
     ]
    }
   ],
   "source": [
    "cd /Users/jinsungpark/Desktop/DSNG_ALL_TN"
   ]
  },
  {
   "cell_type": "code",
   "execution_count": 20,
   "metadata": {},
   "outputs": [],
   "source": [
    "# cd /Users/jinsungpark/Desktop/TP(DG_HA)_exp01"
   ]
  },
  {
   "cell_type": "code",
   "execution_count": 21,
   "metadata": {},
   "outputs": [],
   "source": [
    "# ls"
   ]
  },
  {
   "cell_type": "code",
   "execution_count": 22,
   "metadata": {},
   "outputs": [
    {
     "data": {
      "text/plain": [
       "'/Users/jinsungpark/Desktop/DSNG_ALL_TN'"
      ]
     },
     "execution_count": 22,
     "metadata": {},
     "output_type": "execute_result"
    }
   ],
   "source": [
    "pwd"
   ]
  },
  {
   "cell_type": "code",
   "execution_count": 23,
   "metadata": {},
   "outputs": [
    {
     "data": {
      "text/plain": [
       "['exp001_data_RMSE[0.4990]_R2[-0.0073].csv',\n",
       " 'exp001_info_RMSE[0.4990]_R2[-0.0073].csv',\n",
       " 'exp002_data_RMSE[0.4976]_R2[-0.0016].csv',\n",
       " 'exp002_info_RMSE[0.4976]_R2[-0.0016].csv',\n",
       " 'exp003_data_RMSE[0.4973]_R2[-0.0004].csv',\n",
       " 'exp003_info_RMSE[0.4973]_R2[-0.0004].csv',\n",
       " 'exp004_data_RMSE[0.5017]_R2[-0.0182].csv',\n",
       " 'exp004_info_RMSE[0.5017]_R2[-0.0182].csv',\n",
       " 'exp005_data_RMSE[0.2684]_R2[0.7086].csv',\n",
       " 'exp005_info_RMSE[0.2684]_R2[0.7086].csv',\n",
       " 'exp006_data_RMSE[0.2451]_R2[0.7571].csv',\n",
       " 'exp006_info_RMSE[0.2451]_R2[0.7571].csv',\n",
       " 'exp007_data_RMSE[0.5069]_R2[-0.0394].csv',\n",
       " 'exp007_info_RMSE[0.5069]_R2[-0.0394].csv',\n",
       " 'exp008_data_RMSE[0.2892]_R2[0.6617].csv',\n",
       " 'exp008_info_RMSE[0.2892]_R2[0.6617].csv',\n",
       " 'exp009_data_RMSE[0.2701]_R2[0.7048].csv',\n",
       " 'exp009_info_RMSE[0.2701]_R2[0.7048].csv',\n",
       " 'exp010_data_RMSE[0.4976]_R2[-0.0016].csv',\n",
       " 'exp010_info_RMSE[0.4976]_R2[-0.0016].csv',\n",
       " 'exp011_data_RMSE[0.4974]_R2[-0.0007].csv',\n",
       " 'exp011_info_RMSE[0.4974]_R2[-0.0007].csv',\n",
       " 'exp012_data_RMSE[0.4964]_R2[0.0033].csv',\n",
       " 'exp012_info_RMSE[0.4964]_R2[0.0033].csv',\n",
       " 'exp013_data_RMSE[0.5015]_R2[-0.0175].csv',\n",
       " 'exp013_info_RMSE[0.5015]_R2[-0.0175].csv',\n",
       " 'exp014_data_RMSE[0.2463]_R2[0.7545].csv',\n",
       " 'exp014_info_RMSE[0.2463]_R2[0.7545].csv',\n",
       " 'exp015_data_RMSE[0.2356]_R2[0.7755].csv',\n",
       " 'exp015_info_RMSE[0.2356]_R2[0.7755].csv',\n",
       " 'exp016_data_RMSE[0.5054]_R2[-0.0331].csv',\n",
       " 'exp016_info_RMSE[0.5054]_R2[-0.0331].csv',\n",
       " 'exp017_data_RMSE[0.2884]_R2[0.6636].csv',\n",
       " 'exp017_info_RMSE[0.2884]_R2[0.6636].csv',\n",
       " 'exp018_data_RMSE[0.2666]_R2[0.7126].csv',\n",
       " 'exp018_info_RMSE[0.2666]_R2[0.7126].csv',\n",
       " 'exp019_data_RMSE[0.4844]_R2[0.0507].csv',\n",
       " 'exp019_info_RMSE[0.4844]_R2[0.0507].csv',\n",
       " 'exp020_data_RMSE[0.2651]_R2[0.7158].csv',\n",
       " 'exp020_info_RMSE[0.2651]_R2[0.7158].csv',\n",
       " 'exp021_data_RMSE[0.2544]_R2[0.7382].csv',\n",
       " 'exp021_info_RMSE[0.2544]_R2[0.7382].csv',\n",
       " 'exp022_data_RMSE[0.2651]_R2[0.7158].csv',\n",
       " 'exp022_info_RMSE[0.2651]_R2[0.7158].csv',\n",
       " 'exp023_data_RMSE[0.2375]_R2[0.7719].csv',\n",
       " 'exp023_info_RMSE[0.2375]_R2[0.7719].csv',\n",
       " 'exp024_data_RMSE[0.2359]_R2[0.7748].csv',\n",
       " 'exp024_info_RMSE[0.2359]_R2[0.7748].csv',\n",
       " 'exp025_data_RMSE[0.2821]_R2[0.6782].csv',\n",
       " 'exp025_info_RMSE[0.2821]_R2[0.6782].csv',\n",
       " 'exp026_data_RMSE[0.2559]_R2[0.7351].csv',\n",
       " 'exp026_info_RMSE[0.2559]_R2[0.7351].csv',\n",
       " 'exp027_data_RMSE[0.2817]_R2[0.6790].csv',\n",
       " 'exp027_info_RMSE[0.2817]_R2[0.6790].csv',\n",
       " 'exp028_data_RMSE[0.4979]_R2[-0.0029].csv',\n",
       " 'exp028_info_RMSE[0.4979]_R2[-0.0029].csv',\n",
       " 'exp029_data_RMSE[0.4972]_R2[-0.0000].csv',\n",
       " 'exp029_info_RMSE[0.4972]_R2[-0.0000].csv',\n",
       " 'exp030_data_RMSE[0.4995]_R2[-0.0093].csv',\n",
       " 'exp030_info_RMSE[0.4995]_R2[-0.0093].csv',\n",
       " 'exp031_data_RMSE[0.5018]_R2[-0.0187].csv',\n",
       " 'exp031_info_RMSE[0.5018]_R2[-0.0187].csv',\n",
       " 'exp032_data_RMSE[0.2716]_R2[0.7016].csv',\n",
       " 'exp032_info_RMSE[0.2716]_R2[0.7016].csv',\n",
       " 'exp033_data_RMSE[0.2359]_R2[0.7750].csv',\n",
       " 'exp033_info_RMSE[0.2359]_R2[0.7750].csv',\n",
       " 'exp034_data_RMSE[0.5066]_R2[-0.0384].csv',\n",
       " 'exp034_info_RMSE[0.5066]_R2[-0.0384].csv',\n",
       " 'exp035_data_RMSE[0.2762]_R2[0.6913].csv',\n",
       " 'exp035_info_RMSE[0.2762]_R2[0.6913].csv',\n",
       " 'exp036_data_RMSE[0.2706]_R2[0.7038].csv',\n",
       " 'exp036_info_RMSE[0.2706]_R2[0.7038].csv',\n",
       " 'exp037_data_RMSE[0.4980]_R2[-0.0032].csv',\n",
       " 'exp037_info_RMSE[0.4980]_R2[-0.0032].csv',\n",
       " 'exp038_data_RMSE[0.4974]_R2[-0.0010].csv',\n",
       " 'exp038_info_RMSE[0.4974]_R2[-0.0010].csv',\n",
       " 'exp039_data_RMSE[0.4958]_R2[0.0057].csv',\n",
       " 'exp039_info_RMSE[0.4958]_R2[0.0057].csv',\n",
       " 'exp040_data_RMSE[0.5018]_R2[-0.0187].csv',\n",
       " 'exp040_info_RMSE[0.5018]_R2[-0.0187].csv',\n",
       " 'exp041_data_RMSE[0.2432]_R2[0.7607].csv',\n",
       " 'exp041_info_RMSE[0.2432]_R2[0.7607].csv',\n",
       " 'exp042_data_RMSE[0.2393]_R2[0.7683].csv',\n",
       " 'exp042_info_RMSE[0.2393]_R2[0.7683].csv',\n",
       " 'exp043_data_RMSE[0.4953]_R2[0.0078].csv',\n",
       " 'exp043_info_RMSE[0.4953]_R2[0.0078].csv',\n",
       " 'exp044_data_RMSE[0.2912]_R2[0.6569].csv',\n",
       " 'exp044_info_RMSE[0.2912]_R2[0.6569].csv',\n",
       " 'exp045_data_RMSE[0.2892]_R2[0.6616].csv',\n",
       " 'exp045_info_RMSE[0.2892]_R2[0.6616].csv',\n",
       " 'exp046_data_RMSE[0.4974]_R2[-0.0007].csv',\n",
       " 'exp046_info_RMSE[0.4974]_R2[-0.0007].csv',\n",
       " 'exp047_data_RMSE[0.2765]_R2[0.6907].csv',\n",
       " 'exp047_info_RMSE[0.2765]_R2[0.6907].csv',\n",
       " 'exp048_data_RMSE[0.2401]_R2[0.7668].csv',\n",
       " 'exp048_info_RMSE[0.2401]_R2[0.7668].csv',\n",
       " 'exp049_data_RMSE[0.2613]_R2[0.7237].csv',\n",
       " 'exp049_info_RMSE[0.2613]_R2[0.7237].csv',\n",
       " 'exp050_data_RMSE[0.2443]_R2[0.7585].csv',\n",
       " 'exp050_info_RMSE[0.2443]_R2[0.7585].csv',\n",
       " 'exp051_data_RMSE[0.2535]_R2[0.7401].csv',\n",
       " 'exp051_info_RMSE[0.2535]_R2[0.7401].csv',\n",
       " 'exp052_data_RMSE[0.2789]_R2[0.6854].csv',\n",
       " 'exp052_info_RMSE[0.2789]_R2[0.6854].csv',\n",
       " 'exp053_data_RMSE[0.2796]_R2[0.6837].csv',\n",
       " 'exp053_info_RMSE[0.2796]_R2[0.6837].csv',\n",
       " 'exp054_data_RMSE[0.2764]_R2[0.6910].csv',\n",
       " 'exp054_info_RMSE[0.2764]_R2[0.6910].csv',\n",
       " 'exp055_data_RMSE[0.5050]_R2[-0.0302].csv',\n",
       " 'exp055_info_RMSE[0.5050]_R2[-0.0302].csv',\n",
       " 'exp056_data_RMSE[0.5036]_R2[-0.0245].csv',\n",
       " 'exp056_info_RMSE[0.5036]_R2[-0.0245].csv',\n",
       " 'exp057_data_RMSE[0.2655]_R2[0.7152].csv',\n",
       " 'exp057_info_RMSE[0.2655]_R2[0.7152].csv',\n",
       " 'exp058_data_RMSE[0.5043]_R2[-0.0273].csv',\n",
       " 'exp058_info_RMSE[0.5043]_R2[-0.0273].csv',\n",
       " 'exp059_data_RMSE[0.2701]_R2[0.7054].csv',\n",
       " 'exp059_info_RMSE[0.2701]_R2[0.7054].csv',\n",
       " 'exp060_data_RMSE[0.2600]_R2[0.7270].csv',\n",
       " 'exp060_info_RMSE[0.2600]_R2[0.7270].csv',\n",
       " 'exp061_data_RMSE[0.5155]_R2[-0.0734].csv',\n",
       " 'exp061_info_RMSE[0.5155]_R2[-0.0734].csv',\n",
       " 'exp062_data_RMSE[0.2532]_R2[0.7411].csv',\n",
       " 'exp062_info_RMSE[0.2532]_R2[0.7411].csv',\n",
       " 'exp063_data_RMSE[0.2571]_R2[0.7331].csv',\n",
       " 'exp063_info_RMSE[0.2571]_R2[0.7331].csv',\n",
       " 'exp064_data_RMSE[0.5054]_R2[-0.0318].csv',\n",
       " 'exp064_info_RMSE[0.5054]_R2[-0.0318].csv',\n",
       " 'exp065_data_RMSE[0.2410]_R2[0.7653].csv',\n",
       " 'exp065_info_RMSE[0.2410]_R2[0.7653].csv',\n",
       " 'exp066_data_RMSE[0.2499]_R2[0.7477].csv',\n",
       " 'exp066_info_RMSE[0.2499]_R2[0.7477].csv',\n",
       " 'exp067_data_RMSE[0.5066]_R2[-0.0366].csv',\n",
       " 'exp067_info_RMSE[0.5066]_R2[-0.0366].csv',\n",
       " 'exp068_data_RMSE[0.2814]_R2[0.6802].csv',\n",
       " 'exp068_info_RMSE[0.2814]_R2[0.6802].csv',\n",
       " 'exp069_data_RMSE[0.2570]_R2[0.7332].csv',\n",
       " 'exp069_info_RMSE[0.2570]_R2[0.7332].csv',\n",
       " 'exp070_data_RMSE[0.2578]_R2[0.7315].csv',\n",
       " 'exp070_info_RMSE[0.2578]_R2[0.7315].csv',\n",
       " 'exp071_data_RMSE[0.2543]_R2[0.7387].csv',\n",
       " 'exp071_info_RMSE[0.2543]_R2[0.7387].csv',\n",
       " 'exp072_data_RMSE[0.2816]_R2[0.6796].csv',\n",
       " 'exp072_info_RMSE[0.2816]_R2[0.6796].csv',\n",
       " 'exp073_data_RMSE[0.2493]_R2[0.7489].csv',\n",
       " 'exp073_info_RMSE[0.2493]_R2[0.7489].csv',\n",
       " 'exp074_data_RMSE[0.2170]_R2[0.8097].csv',\n",
       " 'exp074_info_RMSE[0.2170]_R2[0.8097].csv',\n",
       " 'exp075_data_RMSE[0.2501]_R2[0.7472].csv',\n",
       " 'exp075_info_RMSE[0.2501]_R2[0.7472].csv',\n",
       " 'exp076_data_RMSE[0.2592]_R2[0.7286].csv',\n",
       " 'exp076_info_RMSE[0.2592]_R2[0.7286].csv',\n",
       " 'exp077_data_RMSE[0.2634]_R2[0.7198].csv',\n",
       " 'exp077_info_RMSE[0.2634]_R2[0.7198].csv',\n",
       " 'exp078_data_RMSE[0.2552]_R2[0.7370].csv',\n",
       " 'exp078_info_RMSE[0.2552]_R2[0.7370].csv',\n",
       " 'exp079_data_RMSE[0.2475]_R2[0.7525].csv',\n",
       " 'exp079_info_RMSE[0.2475]_R2[0.7525].csv',\n",
       " 'exp080_data_RMSE[0.2764]_R2[0.6913].csv',\n",
       " 'exp080_info_RMSE[0.2764]_R2[0.6913].csv',\n",
       " 'exp081_data_RMSE[0.2633]_R2[0.7199].csv',\n",
       " 'exp081_info_RMSE[0.2633]_R2[0.7199].csv',\n",
       " 'exp082_data_RMSE[0.5049]_R2[-0.0299].csv',\n",
       " 'exp082_info_RMSE[0.5049]_R2[-0.0299].csv',\n",
       " 'exp083_data_RMSE[0.5043]_R2[-0.0273].csv',\n",
       " 'exp083_info_RMSE[0.5043]_R2[-0.0273].csv',\n",
       " 'exp084_data_RMSE[0.2702]_R2[0.7050].csv',\n",
       " 'exp084_info_RMSE[0.2702]_R2[0.7050].csv',\n",
       " 'exp085_data_RMSE[0.5070]_R2[-0.0383].csv',\n",
       " 'exp085_info_RMSE[0.5070]_R2[-0.0383].csv',\n",
       " 'exp086_data_RMSE[0.2597]_R2[0.7275].csv',\n",
       " 'exp086_info_RMSE[0.2597]_R2[0.7275].csv',\n",
       " 'exp087_data_RMSE[0.2677]_R2[0.7104].csv',\n",
       " 'exp087_info_RMSE[0.2677]_R2[0.7104].csv',\n",
       " 'exp088_data_RMSE[0.5147]_R2[-0.0702].csv',\n",
       " 'exp088_info_RMSE[0.5147]_R2[-0.0702].csv',\n",
       " 'exp089_data_RMSE[0.2580]_R2[0.7310].csv',\n",
       " 'exp089_info_RMSE[0.2580]_R2[0.7310].csv',\n",
       " 'exp090_data_RMSE[0.2614]_R2[0.7240].csv',\n",
       " 'exp090_info_RMSE[0.2614]_R2[0.7240].csv',\n",
       " 'exp091_data_RMSE[0.5047]_R2[-0.0291].csv',\n",
       " 'exp091_info_RMSE[0.5047]_R2[-0.0291].csv',\n",
       " 'exp092_data_RMSE[0.2404]_R2[0.7666].csv',\n",
       " 'exp092_info_RMSE[0.2404]_R2[0.7666].csv',\n",
       " 'exp093_data_RMSE[0.2652]_R2[0.7159].csv',\n",
       " 'exp093_info_RMSE[0.2652]_R2[0.7159].csv',\n",
       " 'exp094_data_RMSE[0.5066]_R2[-0.0368].csv',\n",
       " 'exp094_info_RMSE[0.5066]_R2[-0.0368].csv',\n",
       " 'exp095_data_RMSE[0.2638]_R2[0.7188].csv',\n",
       " 'exp095_info_RMSE[0.2638]_R2[0.7188].csv',\n",
       " 'exp096_data_RMSE[0.2612]_R2[0.7244].csv',\n",
       " 'exp096_info_RMSE[0.2612]_R2[0.7244].csv',\n",
       " 'exp097_data_RMSE[0.5128]_R2[-0.0623].csv',\n",
       " 'exp097_info_RMSE[0.5128]_R2[-0.0623].csv',\n",
       " 'exp098_data_RMSE[0.2558]_R2[0.7357].csv',\n",
       " 'exp098_info_RMSE[0.2558]_R2[0.7357].csv',\n",
       " 'exp099_data_RMSE[0.2675]_R2[0.7109].csv',\n",
       " 'exp099_info_RMSE[0.2675]_R2[0.7109].csv',\n",
       " 'exp100_data_RMSE[0.2525]_R2[0.7424].csv',\n",
       " 'exp100_info_RMSE[0.2525]_R2[0.7424].csv',\n",
       " 'exp101_data_RMSE[0.2592]_R2[0.7286].csv',\n",
       " 'exp101_info_RMSE[0.2592]_R2[0.7286].csv',\n",
       " 'exp102_data_RMSE[0.2376]_R2[0.7720].csv',\n",
       " 'exp102_info_RMSE[0.2376]_R2[0.7720].csv',\n",
       " 'exp103_data_RMSE[0.2528]_R2[0.7419].csv',\n",
       " 'exp103_info_RMSE[0.2528]_R2[0.7419].csv',\n",
       " 'exp104_data_RMSE[0.2447]_R2[0.7580].csv',\n",
       " 'exp104_info_RMSE[0.2447]_R2[0.7580].csv',\n",
       " 'exp105_data_RMSE[0.2422]_R2[0.7630].csv',\n",
       " 'exp105_info_RMSE[0.2422]_R2[0.7630].csv',\n",
       " 'exp106_data_RMSE[0.2518]_R2[0.7438].csv',\n",
       " 'exp106_info_RMSE[0.2518]_R2[0.7438].csv',\n",
       " 'exp107_data_RMSE[0.2530]_R2[0.7415].csv',\n",
       " 'exp107_info_RMSE[0.2530]_R2[0.7415].csv',\n",
       " 'exp108_data_RMSE[0.2649]_R2[0.7165].csv',\n",
       " 'exp108_info_RMSE[0.2649]_R2[0.7165].csv',\n",
       " 'exp_index.txt']"
      ]
     },
     "execution_count": 23,
     "metadata": {},
     "output_type": "execute_result"
    }
   ],
   "source": [
    "# file_path = '/Users/jinsungpark/Desktop/jupyter/Data_river/TP_200epoch_01'\n",
    "# file_path = '/Users/jinsungpark/Desktop/jupyter/Data_river/TP_200epoch_03'\n",
    "# file_path = '/Users/jinsungpark/Desktop/jupyter/Data_river/TN_200epoch_01'\n",
    "# file_path = '/Users/jinsungpark/Desktop/jupyter/Data_river/TN_200epoch_02'\n",
    "# file_path = '/Users/jinsungpark/Desktop/jupyter/Data_river/exp_run_04'\n",
    "# file_path = '/Users/jinsungpark/Desktop/jupyter/Data_river/exp_HPtoDA_TP'\n",
    "# file_path = '/Users/jinsungpark/Desktop/TP(DG_HA)_exp01'\n",
    "file_path = '/Users/jinsungpark/Desktop/DSNG_ALL_TN'\n",
    "file_names = os.listdir(file_path)\n",
    "file_names.sort()\n",
    "# del file_names[0]\n",
    "file_names"
   ]
  },
  {
   "cell_type": "code",
   "execution_count": 24,
   "metadata": {},
   "outputs": [
    {
     "data": {
      "text/plain": [
       "['exp_index.txt',\n",
       " 'exp074_data_RMSE[0.2170]_R2[0.8097].csv',\n",
       " 'exp074_info_RMSE[0.2170]_R2[0.8097].csv',\n",
       " 'exp015_data_RMSE[0.2356]_R2[0.7755].csv',\n",
       " 'exp015_info_RMSE[0.2356]_R2[0.7755].csv',\n",
       " 'exp024_data_RMSE[0.2359]_R2[0.7748].csv',\n",
       " 'exp024_info_RMSE[0.2359]_R2[0.7748].csv',\n",
       " 'exp033_data_RMSE[0.2359]_R2[0.7750].csv',\n",
       " 'exp033_info_RMSE[0.2359]_R2[0.7750].csv',\n",
       " 'exp023_data_RMSE[0.2375]_R2[0.7719].csv',\n",
       " 'exp023_info_RMSE[0.2375]_R2[0.7719].csv',\n",
       " 'exp102_data_RMSE[0.2376]_R2[0.7720].csv',\n",
       " 'exp102_info_RMSE[0.2376]_R2[0.7720].csv',\n",
       " 'exp042_data_RMSE[0.2393]_R2[0.7683].csv',\n",
       " 'exp042_info_RMSE[0.2393]_R2[0.7683].csv',\n",
       " 'exp048_data_RMSE[0.2401]_R2[0.7668].csv',\n",
       " 'exp048_info_RMSE[0.2401]_R2[0.7668].csv',\n",
       " 'exp092_data_RMSE[0.2404]_R2[0.7666].csv',\n",
       " 'exp092_info_RMSE[0.2404]_R2[0.7666].csv',\n",
       " 'exp065_data_RMSE[0.2410]_R2[0.7653].csv',\n",
       " 'exp065_info_RMSE[0.2410]_R2[0.7653].csv',\n",
       " 'exp105_data_RMSE[0.2422]_R2[0.7630].csv',\n",
       " 'exp105_info_RMSE[0.2422]_R2[0.7630].csv']"
      ]
     },
     "execution_count": 24,
     "metadata": {},
     "output_type": "execute_result"
    }
   ],
   "source": [
    "RMSE_lower = sorted(file_names, key = lambda x : x[17:23])\n",
    "RMSE_lower[0:23]\n",
    "# RMSE_lower[23:43]"
   ]
  },
  {
   "cell_type": "code",
   "execution_count": 25,
   "metadata": {},
   "outputs": [
    {
     "data": {
      "text/plain": [
       "['exp074_data_RMSE[0.2170]_R2[0.8097].csv',\n",
       " 'exp074_info_RMSE[0.2170]_R2[0.8097].csv',\n",
       " 'exp015_data_RMSE[0.2356]_R2[0.7755].csv',\n",
       " 'exp015_info_RMSE[0.2356]_R2[0.7755].csv',\n",
       " 'exp033_data_RMSE[0.2359]_R2[0.7750].csv',\n",
       " 'exp033_info_RMSE[0.2359]_R2[0.7750].csv',\n",
       " 'exp024_data_RMSE[0.2359]_R2[0.7748].csv',\n",
       " 'exp024_info_RMSE[0.2359]_R2[0.7748].csv',\n",
       " 'exp102_data_RMSE[0.2376]_R2[0.7720].csv',\n",
       " 'exp102_info_RMSE[0.2376]_R2[0.7720].csv',\n",
       " 'exp023_data_RMSE[0.2375]_R2[0.7719].csv',\n",
       " 'exp023_info_RMSE[0.2375]_R2[0.7719].csv',\n",
       " 'exp042_data_RMSE[0.2393]_R2[0.7683].csv',\n",
       " 'exp042_info_RMSE[0.2393]_R2[0.7683].csv',\n",
       " 'exp048_data_RMSE[0.2401]_R2[0.7668].csv',\n",
       " 'exp048_info_RMSE[0.2401]_R2[0.7668].csv',\n",
       " 'exp092_data_RMSE[0.2404]_R2[0.7666].csv',\n",
       " 'exp092_info_RMSE[0.2404]_R2[0.7666].csv',\n",
       " 'exp065_data_RMSE[0.2410]_R2[0.7653].csv',\n",
       " 'exp065_info_RMSE[0.2410]_R2[0.7653].csv',\n",
       " 'exp105_data_RMSE[0.2422]_R2[0.7630].csv',\n",
       " 'exp105_info_RMSE[0.2422]_R2[0.7630].csv',\n",
       " 'exp041_data_RMSE[0.2432]_R2[0.7607].csv',\n",
       " 'exp041_info_RMSE[0.2432]_R2[0.7607].csv']"
      ]
     },
     "execution_count": 25,
     "metadata": {},
     "output_type": "execute_result"
    }
   ],
   "source": [
    "R2_higher = sorted(file_names, key = lambda x : x[28:35], reverse=True)\n",
    "R2_higher[0:24]\n",
    "# R2_higher[24:44]"
   ]
  },
  {
   "cell_type": "code",
   "execution_count": 28,
   "metadata": {},
   "outputs": [
    {
     "name": "stdout",
     "output_type": "stream",
     "text": [
      "df_data = exp023_data_RMSE[0.2375]_R2[0.7719].csv\n",
      "df_info = exp023_info_RMSE[0.2375]_R2[0.7719].csv\n"
     ]
    }
   ],
   "source": [
    "#알고싶은 실험 넘버 & 알고싶은 상위 epoch 수 적기 \n",
    "exp_num = 23\n",
    "#TP_01 = RM : 205,, 009,, 159,, 099, 147 // R2 : 205,, 193, 121, 009,, 159,,\n",
    "#TP_03 = RM : 001, 004, 016, 011, 040, // R2 : 001, 004, 016, 011, 010, 040,\n",
    "#TN_01 = RMSE : 287,, 269,, 054,, 270,, 264,, // R2 : 287,, 269,, 054,, 270,, 264,, - 205, 123\n",
    "#TN_02 = RMSE : 67, 49, 55, 43, 205\n",
    "#exp_run = RM : 30,45,126,42,33,36 // R2 : 126,45,30,42,143,36\n",
    "high_rank_num = 3\n",
    "\n",
    "print('df_data =',file_names[(exp_num-1)*2])\n",
    "df_data = pd.DataFrame(pd.read_csv('{}'.format(file_names[(exp_num-1)*2])))\n",
    "df_data = df_data.drop('Unnamed: 0', axis=1)\n",
    "# print(df_data.head())\n",
    "print('df_info =',file_names[(exp_num-1)*2+1])\n",
    "df_info = pd.DataFrame(pd.read_csv('{}'.format(file_names[(exp_num-1)*2+1])))\n",
    "# print(df_info.head())\n",
    "\n",
    "loss_graph(df_info, exp_num)\n",
    "acc_graph(df_info, exp_num)\n",
    "\n",
    "epoch_list_RM = best_epoch_by_RMSE(df_info, high_rank_num)\n",
    "epoch_list_R2 = best_epoch_by_R2(df_info, high_rank_num)\n",
    "\n",
    "for i in epoch_list_RM:\n",
    "    result_graph(df_data, exp_num, i)\n",
    "    \n",
    "# for i in epoch_list_R2:\n",
    "#     result_graph(df_data, exp_num, i)"
   ]
  },
  {
   "cell_type": "markdown",
   "metadata": {},
   "source": [
    "## "
   ]
  },
  {
   "cell_type": "code",
   "execution_count": null,
   "metadata": {},
   "outputs": [],
   "source": []
  },
  {
   "cell_type": "code",
   "execution_count": null,
   "metadata": {},
   "outputs": [],
   "source": []
  },
  {
   "cell_type": "code",
   "execution_count": null,
   "metadata": {},
   "outputs": [],
   "source": []
  },
  {
   "cell_type": "code",
   "execution_count": null,
   "metadata": {},
   "outputs": [],
   "source": []
  },
  {
   "cell_type": "code",
   "execution_count": null,
   "metadata": {},
   "outputs": [],
   "source": [
    "# #loss Graph\n",
    "\n",
    "# A = torch.Tensor(df_info['train_losses']).view(-1,1)\n",
    "# B = torch.Tensor(df_info['val_losses']).view(-1,1)\n",
    "# axis = torch.Tensor(range(len(df_info['train_losses']))).view(-1,1)\n",
    "\n",
    "# Y_axis = torch.cat((A, B), -1)\n",
    "# X_axis = torch.cat((axis, axis), -1)\n",
    "\n",
    "# vis.line(Y = Y_axis,\n",
    "#          X = X_axis,\n",
    "#          opts=dict(title='exp_{}_loss'\n",
    "#                    .format(exp_num),\n",
    "#                    legend=['train','val'],\n",
    "#                    showlegend=True,\n",
    "#                    layoutopts = {'plotly': {'legend': {'x':0, 'y':0}}}))"
   ]
  },
  {
   "cell_type": "code",
   "execution_count": null,
   "metadata": {},
   "outputs": [],
   "source": [
    "# df_info.sort_values(by=['val_accs_RMSE'], axis=0, ascending=True, inplace=True)\n",
    "# df_info['index'] =list(range(0,200))\n",
    "# df_info = df_info.set_index('index')\n",
    "# df_info.head(10)"
   ]
  },
  {
   "cell_type": "code",
   "execution_count": null,
   "metadata": {},
   "outputs": [],
   "source": [
    "# df_info.sort_values(by=['val_accs_RMSE'], axis=0, ascending=True, inplace=False).head(10)\n",
    "# df_info.sort_values(by=['val_accs_R2'], axis=0, ascending=True, inplace=False).head(10)"
   ]
  },
  {
   "cell_type": "code",
   "execution_count": null,
   "metadata": {},
   "outputs": [],
   "source": [
    "# # 모델 설계할떄 df_data의 데이터 조장이 1epoch부터 시작하여 epoch수를 맞춰주려면 df_info에서 1을 뺴줘야 한다\n",
    "# # ex) df_info의 epoch은 실제로 0~199, df_data의 epoch은 실제로 1~199(198개여서 0~198로 표기됨),\n",
    "# high_rank = 4\n",
    "\n",
    "# epoch_num = df_info['Unnamed: 0'][high_rank] - 1\n",
    "# epoch_num"
   ]
  },
  {
   "cell_type": "code",
   "execution_count": null,
   "metadata": {},
   "outputs": [],
   "source": [
    "# z = 198*2\n",
    "\n",
    "# df_edit = df_data.iloc[:,[z,z+1]]\n",
    "# df_edit.head()"
   ]
  },
  {
   "cell_type": "code",
   "execution_count": null,
   "metadata": {},
   "outputs": [],
   "source": [
    "# numnum = 198\n",
    "\n",
    "# Aaa = torch.Tensor(df_edit.iloc[:,0]).view(-1,1)\n",
    "# Bbb = torch.Tensor(df_edit.iloc[:,1]).view(-1,1)\n",
    "# axis = torch.Tensor(range(len(df_edit.iloc[:,0]))).view(-1,1)\n",
    "\n",
    "# Y_axis = torch.cat((Aaa, Bbb), -1)\n",
    "# X_axis = torch.cat((axis, axis), -1)\n",
    "\n",
    "# vis.line(Y = Y_axis,\n",
    "#          X = X_axis,\n",
    "#          opts=dict(title='exp_{}_result_epoch[{}]'\n",
    "#                    .format(exp_num,numnum+1),\n",
    "#                    legend=['pred','true'],\n",
    "#                    showlegend=True,\n",
    "#                    layoutopts = {'plotly': {'legend': {'x':0, 'y':0}}}))"
   ]
  },
  {
   "cell_type": "code",
   "execution_count": null,
   "metadata": {},
   "outputs": [],
   "source": [
    "# print(best_epoch_by_RMSE(df_info, 10))\n",
    "# print(best_epoch_by_R2(df_info, 10))"
   ]
  },
  {
   "cell_type": "code",
   "execution_count": null,
   "metadata": {},
   "outputs": [],
   "source": []
  }
 ],
 "metadata": {
  "kernelspec": {
   "display_name": "PyTorch",
   "language": "python",
   "name": "pytorch"
  },
  "language_info": {
   "codemirror_mode": {
    "name": "ipython",
    "version": 3
   },
   "file_extension": ".py",
   "mimetype": "text/x-python",
   "name": "python",
   "nbconvert_exporter": "python",
   "pygments_lexer": "ipython3",
   "version": "3.8.1"
  }
 },
 "nbformat": 4,
 "nbformat_minor": 4
}
