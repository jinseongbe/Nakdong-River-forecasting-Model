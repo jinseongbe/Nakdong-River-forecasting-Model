{
 "cells": [
  {
   "cell_type": "code",
   "execution_count": null,
   "metadata": {},
   "outputs": [],
   "source": [
    "import pandas as pd\n",
    "import os"
   ]
  },
  {
   "cell_type": "markdown",
   "metadata": {},
   "source": [
    "### 1. 퇴적물데이터 모두 합치기"
   ]
  },
  {
   "cell_type": "code",
   "execution_count": null,
   "metadata": {},
   "outputs": [],
   "source": [
    "print(os.getcwd())\n",
    "os.chdir(\"/Users/jinsungpark/Desktop/퇴적물데이터\")\n",
    "print(os.getcwd())"
   ]
  },
  {
   "cell_type": "code",
   "execution_count": null,
   "metadata": {},
   "outputs": [],
   "source": [
    "def fileNameFilter(x):\n",
    "    return x.startswith('퇴적물데이터')\n",
    "\n",
    "file_lst = os.listdir()\n",
    "\n",
    "#results = list(filter(isStartWithF, animals)) # filter() 방법\n",
    "file_lst = [x for x in file_lst if fileNameFilter(x)] # list comprehension 방법\n"
   ]
  },
  {
   "cell_type": "code",
   "execution_count": null,
   "metadata": {},
   "outputs": [],
   "source": [
    "for i in range(0, len(file_lst)):\n",
    "    if i == 0:\n",
    "        data = pd.read_excel(file_lst[i], index_col=0)\n",
    "    \n",
    "    temp_data = pd.read_excel(file_lst[i], index_col=0)\n",
    "    data = pd.concat([temp_data, data])\n",
    "\n",
    "print(data)"
   ]
  },
  {
   "cell_type": "code",
   "execution_count": null,
   "metadata": {},
   "outputs": [],
   "source": [
    "data.to_excel(\"/Users/jinsungpark/Desktop/퇴적물데이터전체.xlsx\", index = False)"
   ]
  },
  {
   "cell_type": "markdown",
   "metadata": {},
   "source": [
    "### 2. 퇴적물데이터에 연도, 위도, 경도, 주소 추가"
   ]
  },
  {
   "cell_type": "markdown",
   "metadata": {},
   "source": [
    "##### 2.1퇴덕물데이터 연도 추가"
   ]
  },
  {
   "cell_type": "code",
   "execution_count": null,
   "metadata": {},
   "outputs": [],
   "source": [
    "print(os.getcwd())\n",
    "os.chdir(\"/Users/jinsungpark/Desktop\")\n",
    "print(os.getcwd())"
   ]
  },
  {
   "cell_type": "code",
   "execution_count": null,
   "metadata": {},
   "outputs": [],
   "source": [
    "sedimData = pd.read_excel(\"퇴적물데이터전체.xlsx\")\n",
    "\n",
    "sedimData[\"연도\"] = None\n",
    "sedimData[\"위도\"] = None\n",
    "sedimData[\"경도\"] = None\n",
    "sedimData[\"주소\"] = None\n",
    "del sedimData[\"번호\"]"
   ]
  },
  {
   "cell_type": "code",
   "execution_count": null,
   "metadata": {},
   "outputs": [],
   "source": [
    "for i in range(0, len(sedimData)):\n",
    "    year = list(sedimData[\"채취일자\"])\n",
    "    sedimData.loc[i,\"연도\"] = year[i][1:5]"
   ]
  },
  {
   "cell_type": "markdown",
   "metadata": {},
   "source": [
    "##### 2.2 퇴적물 데이터 경도,위도, 주소 추가"
   ]
  },
  {
   "cell_type": "code",
   "execution_count": null,
   "metadata": {},
   "outputs": [],
   "source": [
    "sedimSite2019 = pd.read_excel(\"퇴적물측정지점정보(2019).xlsx\")\n",
    "sedimSite2018 = pd.read_excel(\"퇴적물측정지점정보(2018).xlsx\")\n",
    "sedimSite2017 = pd.read_excel(\"퇴적물측정지점정보(2017).xlsx\")\n",
    "sedimSite2016 = pd.read_excel(\"퇴적물측정지점정보(2016).xlsx\")\n",
    "sedimSite2015 = pd.read_excel(\"퇴적물측정지점정보(2015).xlsx\")\n",
    "\n",
    "# 2019년도 데이터에는 누락된 지점명이 있어 아래에서 분류번호를 통해 2018 지점명으로 업데이트함\n",
    "# 2015년도는 위도경도 데이터가 누락되어있음, 2016년도 이후의 지점명에 대한 위도 경도로 업데이트 하게됨"
   ]
  },
  {
   "cell_type": "code",
   "execution_count": null,
   "metadata": {},
   "outputs": [],
   "source": [
    "# 지점명에 있는 앞뒤 공백 제거\n",
    "for i in range(0, len(sedimData)):\n",
    "    sedimData.지점명[i] = sedimData.지점명[i].strip()\n",
    "    \n",
    "for i in range(0, len(sedimSite2019)):\n",
    "    sedimSite2019.지점명[i] = str(sedimSite2019.지점명[i]).strip()\n",
    "\n",
    "for i in range(0, len(sedimSite2018)):\n",
    "    sedimSite2018.지점명[i] = sedimSite2018.지점명[i].strip()\n",
    "    \n",
    "for i in range(0, len(sedimSite2017)):\n",
    "    sedimSite2017.지점명[i] = sedimSite2017.지점명[i].strip()\n",
    "    \n",
    "for i in range(0, len(sedimSite2016)):\n",
    "    sedimSite2016.지점명[i] = sedimSite2016.지점명[i].strip()\n",
    "    \n",
    "for i in range(0, len(sedimSite2015)):\n",
    "    sedimSite2015.지점명[i] = sedimSite2015.지점명[i].strip()\n",
    "    "
   ]
  },
  {
   "cell_type": "code",
   "execution_count": null,
   "metadata": {},
   "outputs": [],
   "source": [
    "# 퇴적물측정지점정보(2019)파일의 누락된 지점명을 2018년도 파일에서 분류번호가 같은 지점명으로 수정하는 작업\n",
    "\n",
    "for i in range(0, len(sedimSite2019)):\n",
    "    for j in range(0, len(sedimSite2019)):\n",
    "        if sedimSite2019.loc[i, \"분류번호\"] == sedimSite2018.loc[j, \"분류번호\"] and sedimSite2019.loc[i, \"지점명\"] != sedimSite2018.loc[j, \"지점명\"]:\n",
    "            print(\"2019년도 파일에서 누락된 지점명 : {}, 2018년도 같은 분류번호인 {}로 업데이트함\".format(sedimSite2019.loc[i, \"지점명\"],sedimSite2018.loc[j, \"지점명\"]))\n",
    "            sedimSite2019.loc[i, \"지점명\"] = sedimSite2018.loc[j, \"지점명\"]"
   ]
  },
  {
   "cell_type": "code",
   "execution_count": null,
   "metadata": {},
   "outputs": [],
   "source": [
    "cnt = 0\n",
    "\n",
    "for i in range(0, len(sedimData)):\n",
    "    for j in range(0, len(sedimSite2019)):\n",
    "        year = \"2019\"\n",
    "        if sedimData.loc[i,\"지점명\"] == sedimSite2019.loc[j,\"지점명\"] and sedimData.연도[i] == year:\n",
    "            sedimData.loc[i, \"위도\"] = sedimSite2019.loc[j,\"위도\"]\n",
    "            sedimData.loc[i, \"경도\"] = sedimSite2019.loc[j,\"경도\"]\n",
    "            sedimData.loc[i, \"주소\"] = sedimSite2019.loc[j,\"주소\"]\n",
    "            cnt += 1\n",
    "            print(\"{}년도 {}지점 위도 경도 업데이트, {}/{}\".format(year, sedimData.loc[i,\"지점명\"], cnt, len(sedimData)))\n",
    "\n",
    "    for j in range(0, len(sedimSite2018)):\n",
    "        year = \"2018\"\n",
    "        if sedimData.loc[i,\"지점명\"] == sedimSite2018.loc[j,\"지점명\"] and sedimData.연도[i] == year:\n",
    "            sedimData.loc[i, \"위도\"] = sedimSite2018.loc[j,\"위도\"]\n",
    "            sedimData.loc[i, \"경도\"] = sedimSite2018.loc[j,\"경도\"]\n",
    "            sedimData.loc[i, \"주소\"] = sedimSite2018.loc[j,\"주소\"]\n",
    "            cnt += 1\n",
    "            print(\"{}년도 {}지점 위도 경도 업데이트, {}/{}\".format(year, sedimData.loc[i,\"지점명\"], cnt, len(sedimData)))\n",
    "\n",
    "    for j in range(0, len(sedimSite2017)):\n",
    "        year = \"2017\"\n",
    "        if sedimData.loc[i,\"지점명\"] == sedimSite2017.loc[j,\"지점명\"] and sedimData.연도[i] == year:\n",
    "            sedimData.loc[i, \"위도\"] = sedimSite2017.loc[j,\"위도\"]\n",
    "            sedimData.loc[i, \"경도\"] = sedimSite2017.loc[j,\"경도\"]\n",
    "            sedimData.loc[i, \"주소\"] = sedimSite2017.loc[j,\"주소\"]\n",
    "            cnt += 1\n",
    "            print(\"{}년도 {}지점 위도 경도 업데이트, {}/{}\".format(year, sedimData.loc[i,\"지점명\"], cnt, len(sedimData)))\n",
    "\n",
    "    for j in range(0, len(sedimSite2016)):\n",
    "        year = \"2016\"\n",
    "        if sedimData.loc[i,\"지점명\"] == sedimSite2016.loc[j,\"지점명\"] and sedimData.연도[i] == year:\n",
    "            sedimData.loc[i, \"위도\"] = sedimSite2016.loc[j,\"위도\"]\n",
    "            sedimData.loc[i, \"경도\"] = sedimSite2016.loc[j,\"경도\"]\n",
    "            sedimData.loc[i, \"주소\"] = sedimSite2016.loc[j,\"주소\"]\n",
    "            cnt += 1\n",
    "            print(\"{}년도 {}지점 위도 경도 업데이트, {}/{}\".format(year, sedimData.loc[i,\"지점명\"], cnt, len(sedimData)))\n",
    "\n",
    "    for j in range(0, len(sedimSite2016)):\n",
    "        year = \"2015\"\n",
    "        if sedimData.loc[i,\"지점명\"] == sedimSite2016.loc[j,\"지점명\"] and sedimData.연도[i] == year:\n",
    "            sedimData.loc[i, \"위도\"] = sedimSite2016.loc[j,\"위도\"]\n",
    "            sedimData.loc[i, \"경도\"] = sedimSite2016.loc[j,\"경도\"]\n",
    "            sedimData.loc[i, \"주소\"] = sedimSite2016.loc[j,\"주소\"]\n",
    "            cnt += 1\n",
    "            print(\"{}년도 {}지점 위도 경도 업데이트, {}/{}\".format(year, sedimData.loc[i,\"지점명\"], cnt, len(sedimData)))\n",
    "            \n",
    "print(\"All done!\")"
   ]
  },
  {
   "cell_type": "code",
   "execution_count": null,
   "metadata": {},
   "outputs": [],
   "source": [
    "# sedimData.to_excel(\"퇴적물데이터최종_test.xlsx\")"
   ]
  },
  {
   "cell_type": "code",
   "execution_count": null,
   "metadata": {},
   "outputs": [],
   "source": []
  }
 ],
 "metadata": {
  "kernelspec": {
   "display_name": "Python 3",
   "language": "python",
   "name": "python3"
  },
  "language_info": {
   "codemirror_mode": {
    "name": "ipython",
    "version": 3
   },
   "file_extension": ".py",
   "mimetype": "text/x-python",
   "name": "python",
   "nbconvert_exporter": "python",
   "pygments_lexer": "ipython3",
   "version": "3.7.6"
  }
 },
 "nbformat": 4,
 "nbformat_minor": 4
}
