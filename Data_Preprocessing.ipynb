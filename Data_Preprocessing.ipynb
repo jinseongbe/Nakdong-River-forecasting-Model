{
 "cells": [
  {
   "cell_type": "code",
   "execution_count": 1,
   "metadata": {},
   "outputs": [],
   "source": [
    "import pandas as pd\n",
    "import numpy as np"
   ]
  },
  {
   "cell_type": "code",
   "execution_count": 2,
   "metadata": {},
   "outputs": [
    {
     "data": {
      "text/plain": [
       "'/Users/jinsungpark/Desktop/jupyter'"
      ]
     },
     "execution_count": 2,
     "metadata": {},
     "output_type": "execute_result"
    }
   ],
   "source": [
    "pwd"
   ]
  },
  {
   "cell_type": "code",
   "execution_count": 3,
   "metadata": {},
   "outputs": [
    {
     "name": "stdout",
     "output_type": "stream",
     "text": [
      "Analyse_Find_BestModel_Result.ipynb\r\n",
      "Correlation_analysis.ipynb\r\n",
      "Data_Preprocessing.ipynb\r\n",
      "\u001b[34mData_river\u001b[m\u001b[m/\r\n",
      "Lab10_Stock_Price_Prediction_with_LSTM.ipynb\r\n",
      "Pandas_tutorial.ipynb\r\n",
      "\u001b[34mProject_Git\u001b[m\u001b[m/\r\n",
      "Project_River_Backup.ipynb\r\n",
      "Project_River_Backup_change_TN.ipynb\r\n",
      "Project_River_Backup_change_TP.ipynb\r\n",
      "Project_River_Backup_change_test.ver.ipynb\r\n",
      "Project_River_Find_BestModel.ipynb\r\n",
      "Project_River_Find_BestModel_01.ipynb\r\n",
      "Project_River_Find_BestModel_TN.ipynb\r\n",
      "Project_River_Find_BestModel_TP(현풍-대암).ipynb\r\n",
      "Project_River_Find_BestModel_TP(현풍-대암_input적은버전).ipynb\r\n",
      "Project_River_Find_BestModel_TP.ipynb\r\n",
      "Project_River_matplotlib.ipynb\r\n",
      "Project_River_matplotlib_01.ipynb\r\n",
      "Untitled.ipynb\r\n",
      "\u001b[34mresults\u001b[m\u001b[m/\r\n"
     ]
    }
   ],
   "source": [
    "ls"
   ]
  },
  {
   "cell_type": "code",
   "execution_count": 4,
   "metadata": {},
   "outputs": [
    {
     "name": "stdout",
     "output_type": "stream",
     "text": [
      "/Users/jinsungpark/Desktop/jupyter/Data_river/original02\n"
     ]
    }
   ],
   "source": [
    "cd /Users/jinsungpark/Desktop/jupyter/Data_river/original02"
   ]
  },
  {
   "cell_type": "code",
   "execution_count": 24,
   "metadata": {},
   "outputs": [],
   "source": [
    "df = pd.read_excel('논공_덕곡.xlsx', sheet_name = '논공_현풍')\n",
    "# df = df.set_index('Date')"
   ]
  },
  {
   "cell_type": "code",
   "execution_count": 25,
   "metadata": {},
   "outputs": [
    {
     "name": "stdout",
     "output_type": "stream",
     "text": [
      "<class 'pandas.core.frame.DataFrame'>\n",
      "RangeIndex: 290 entries, 0 to 289\n",
      "Data columns (total 27 columns):\n",
      " #   Column                 Non-Null Count  Dtype         \n",
      "---  ------                 --------------  -----         \n",
      " 0   현풍_일자                  290 non-null    datetime64[ns]\n",
      " 1   논공_DO(㎎/L)             290 non-null    float64       \n",
      " 2   논공_BOD(㎎/L)            290 non-null    float64       \n",
      " 3   논공_COD(㎎/L)            290 non-null    float64       \n",
      " 4   논공_SS(㎎/L)             290 non-null    float64       \n",
      " 5   논공_TN(㎎/L)             290 non-null    float64       \n",
      " 6   논공_TP(㎎/L)             290 non-null    float64       \n",
      " 7   논공_수온(℃)               290 non-null    float64       \n",
      " 8   논공_클로로필a(㎎/L)          290 non-null    float64       \n",
      " 9   달성산단_COD(㎎/L)          290 non-null    float64       \n",
      " 10  달성산단_SS(㎎/L)           290 non-null    float64       \n",
      " 11  달성산단_TN(㎎/L)           290 non-null    float64       \n",
      " 12  달성산단_TP(㎎/L)           290 non-null    float64       \n",
      " 13  달성산단_적산유량(평균)(㎥/Hour)  290 non-null    float64       \n",
      " 14  달성산단_일적산유량(㎥/일)        290 non-null    float64       \n",
      " 15  의령군_일강수량(mm)           290 non-null    float64       \n",
      " 16  의령군_일주누적강수량(mm)        290 non-null    float64       \n",
      " 17  의령군_합계일사량(MJ/m2)       290 non-null    float64       \n",
      " 18  의령군_일주평균일사량(MJ/m2)     290 non-null    float64       \n",
      " 19  현풍_DO(㎎/L)             290 non-null    float64       \n",
      " 20  현풍_BOD(㎎/L)            290 non-null    float64       \n",
      " 21  현풍_COD(㎎/L)            290 non-null    float64       \n",
      " 22  현풍_SS(㎎/L)             290 non-null    float64       \n",
      " 23  현풍_TN(㎎/L)             290 non-null    float64       \n",
      " 24  현풍_TP(㎎/L)             290 non-null    float64       \n",
      " 25  현풍_수온(℃)               290 non-null    float64       \n",
      " 26  현풍_클로로필a(㎎/㎥)          290 non-null    float64       \n",
      "dtypes: datetime64[ns](1), float64(26)\n",
      "memory usage: 61.3 KB\n"
     ]
    }
   ],
   "source": [
    "df.info()"
   ]
  },
  {
   "cell_type": "code",
   "execution_count": 26,
   "metadata": {},
   "outputs": [],
   "source": [
    "df.rename(columns=lambda x: x.replace('다사', 'DS'), inplace=True)\n",
    "df.rename(columns=lambda x: x.replace('논공', 'NG'), inplace=True)\n",
    "df.rename(columns=lambda x: x.replace('금호강6', 'GumHo'), inplace=True)\n",
    "df.rename(columns=lambda x: x.replace('대구서부', 'SeoBu'), inplace=True)\n",
    "df.rename(columns=lambda x: x.replace('성서폐수', 'SungSeo'), inplace=True)\n",
    "df.rename(columns=lambda x: x.replace('강정고령보', 'GJ'), inplace=True)\n",
    "df.rename(columns=lambda x: x.replace('클로로필a', 'Chl_a'), inplace=True)\n",
    "df.rename(columns=lambda x: x.replace('유해남조류세포수', 'Cells'), inplace=True)\n",
    "df.rename(columns=lambda x: x.replace('일주평균일사량', 'Solar'), inplace=True)\n",
    "df.rename(columns=lambda x: x.replace('일주누적강수량', 'Rain'), inplace=True)\n",
    "df.rename(columns=lambda x: x.replace('대구', 'DaeGu'), inplace=True)\n",
    "df.rename(columns=lambda x: x.replace('수온', 'Temp'), inplace=True)\n",
    "df.rename(columns=lambda x: x.replace('부하', '_load'), inplace=True)\n",
    "df.rename(columns=lambda x: x.replace('개방유무1', 'Door'), inplace=True)\n",
    "df.rename(columns=lambda x: x.replace('수심', 'Deep'), inplace=True)\n",
    "df.rename(columns=lambda x: x.replace('총방류량', 'Outflow'), inplace=True)\n",
    "df.rename(columns=lambda x: x.replace('일적산유량', 'Flow_day'), inplace=True)\n",
    "df.rename(columns=lambda x: x.replace('적산유량(㎥/일)', 'Flow_day'), inplace=True)\n",
    "df.rename(columns=lambda x: x.replace('적산유량(평균)', 'Flow_mean'), inplace=True)\n",
    "df.rename(columns=lambda x: x.replace('유량', 'Flow'), inplace=True)\n",
    "df.rename(columns=lambda x: x.replace('수위', 'Level'), inplace=True)\n",
    "\n",
    "df.rename(columns=lambda x: x.replace('현풍_일자', 'Date'), inplace=True)\n",
    "df.rename(columns=lambda x: x.replace('덕곡_일자', 'Date'), inplace=True)\n",
    "df.rename(columns=lambda x: x.replace('대암-1_일자', 'Date'), inplace=True)\n",
    "df.rename(columns=lambda x: x.replace('대암-1_', 'DA_'), inplace=True)\n",
    "df.rename(columns=lambda x: x.replace('현풍_', 'HP_'), inplace=True)\n",
    "df.rename(columns=lambda x: x.replace('차천_', 'ChaCh_'), inplace=True)\n",
    "df.rename(columns=lambda x: x.replace('의령군_', 'UiR_'), inplace=True)\n",
    "df.rename(columns=lambda x: x.replace('덕곡_', 'DG_'), inplace=True)\n",
    "df.rename(columns=lambda x: x.replace('회천2-1', 'HCh_'), inplace=True)\n",
    "df.rename(columns=lambda x: x.replace('차천_', 'ChaCh_'), inplace=True)\n",
    "df.rename(columns=lambda x: x.replace('달성산단', 'DalS'), inplace=True)\n",
    "\n",
    "df.rename(columns=lambda x: x.replace('(㎎/L)', ''), inplace=True)\n",
    "df.rename(columns=lambda x: x.replace('(℃)', ''), inplace=True)\n",
    "df.rename(columns=lambda x: x.replace('(cells/mL)', ''), inplace=True)\n",
    "df.rename(columns=lambda x: x.replace('(El.m)', ''), inplace=True)\n",
    "df.rename(columns=lambda x: x.replace('(MJ/m2)', ''), inplace=True)\n",
    "df.rename(columns=lambda x: x.replace('(㎥/Hour)', ''), inplace=True)\n",
    "df.rename(columns=lambda x: x.replace('(kg/일)', ''), inplace=True)\n",
    "df.rename(columns=lambda x: x.replace('(mm)', ''), inplace=True)\n",
    "df.rename(columns=lambda x: x.replace('(㎎/㎥)', ''), inplace=True)\n",
    "df.rename(columns=lambda x: x.replace('(㎥/s)', ''), inplace=True)\n",
    "df.rename(columns=lambda x: x.replace('(m)', ''), inplace=True)\n",
    "df.rename(columns=lambda x: x.replace('(㎥/일)', ''), inplace=True)"
   ]
  },
  {
   "cell_type": "code",
   "execution_count": 27,
   "metadata": {},
   "outputs": [
    {
     "name": "stdout",
     "output_type": "stream",
     "text": [
      "<class 'pandas.core.frame.DataFrame'>\n",
      "RangeIndex: 290 entries, 0 to 289\n",
      "Data columns (total 27 columns):\n",
      " #   Column          Non-Null Count  Dtype         \n",
      "---  ------          --------------  -----         \n",
      " 0   Date            290 non-null    datetime64[ns]\n",
      " 1   NG_DO           290 non-null    float64       \n",
      " 2   NG_BOD          290 non-null    float64       \n",
      " 3   NG_COD          290 non-null    float64       \n",
      " 4   NG_SS           290 non-null    float64       \n",
      " 5   NG_TN           290 non-null    float64       \n",
      " 6   NG_TP           290 non-null    float64       \n",
      " 7   NG_Temp         290 non-null    float64       \n",
      " 8   NG_Chl_a        290 non-null    float64       \n",
      " 9   DalS_COD        290 non-null    float64       \n",
      " 10  DalS_SS         290 non-null    float64       \n",
      " 11  DalS_TN         290 non-null    float64       \n",
      " 12  DalS_TP         290 non-null    float64       \n",
      " 13  DalS_Flow_mean  290 non-null    float64       \n",
      " 14  DalS_Flow_day   290 non-null    float64       \n",
      " 15  UiR_일강수량        290 non-null    float64       \n",
      " 16  UiR_Rain        290 non-null    float64       \n",
      " 17  UiR_합계일사량       290 non-null    float64       \n",
      " 18  UiR_Solar       290 non-null    float64       \n",
      " 19  HP_DO           290 non-null    float64       \n",
      " 20  HP_BOD          290 non-null    float64       \n",
      " 21  HP_COD          290 non-null    float64       \n",
      " 22  HP_SS           290 non-null    float64       \n",
      " 23  HP_TN           290 non-null    float64       \n",
      " 24  HP_TP           290 non-null    float64       \n",
      " 25  HP_Temp         290 non-null    float64       \n",
      " 26  HP_Chl_a        290 non-null    float64       \n",
      "dtypes: datetime64[ns](1), float64(26)\n",
      "memory usage: 61.3 KB\n"
     ]
    }
   ],
   "source": [
    "df.info()"
   ]
  },
  {
   "cell_type": "code",
   "execution_count": 31,
   "metadata": {},
   "outputs": [],
   "source": [
    "# UpStream_Data = df.iloc[:,[0,1,2,3,4,5,6,7,8,9,10,11,12,13,14,15,16,17,18,20,22]]\n",
    "# DownStream_Data = df.iloc[:,[0,23,24,25,26,27,28,29,30]]\n",
    "\n",
    "UpStream_Data = df.iloc[:,[0,1,2,3,4,5,6,7,8,9,10,11,12,13,14,16,18]]\n",
    "DownStream_Data = df.iloc[:,[0,19,20,21,22,23,24,25,26]]"
   ]
  },
  {
   "cell_type": "code",
   "execution_count": 32,
   "metadata": {},
   "outputs": [
    {
     "name": "stdout",
     "output_type": "stream",
     "text": [
      "<class 'pandas.core.frame.DataFrame'>\n",
      "RangeIndex: 290 entries, 0 to 289\n",
      "Data columns (total 17 columns):\n",
      " #   Column          Non-Null Count  Dtype         \n",
      "---  ------          --------------  -----         \n",
      " 0   Date            290 non-null    datetime64[ns]\n",
      " 1   NG_DO           290 non-null    float64       \n",
      " 2   NG_BOD          290 non-null    float64       \n",
      " 3   NG_COD          290 non-null    float64       \n",
      " 4   NG_SS           290 non-null    float64       \n",
      " 5   NG_TN           290 non-null    float64       \n",
      " 6   NG_TP           290 non-null    float64       \n",
      " 7   NG_Temp         290 non-null    float64       \n",
      " 8   NG_Chl_a        290 non-null    float64       \n",
      " 9   DalS_COD        290 non-null    float64       \n",
      " 10  DalS_SS         290 non-null    float64       \n",
      " 11  DalS_TN         290 non-null    float64       \n",
      " 12  DalS_TP         290 non-null    float64       \n",
      " 13  DalS_Flow_mean  290 non-null    float64       \n",
      " 14  DalS_Flow_day   290 non-null    float64       \n",
      " 15  UiR_Rain        290 non-null    float64       \n",
      " 16  UiR_Solar       290 non-null    float64       \n",
      "dtypes: datetime64[ns](1), float64(16)\n",
      "memory usage: 38.6 KB\n"
     ]
    }
   ],
   "source": [
    "UpStream_Data.info()"
   ]
  },
  {
   "cell_type": "code",
   "execution_count": 33,
   "metadata": {},
   "outputs": [
    {
     "name": "stdout",
     "output_type": "stream",
     "text": [
      "<class 'pandas.core.frame.DataFrame'>\n",
      "RangeIndex: 290 entries, 0 to 289\n",
      "Data columns (total 9 columns):\n",
      " #   Column    Non-Null Count  Dtype         \n",
      "---  ------    --------------  -----         \n",
      " 0   Date      290 non-null    datetime64[ns]\n",
      " 1   HP_DO     290 non-null    float64       \n",
      " 2   HP_BOD    290 non-null    float64       \n",
      " 3   HP_COD    290 non-null    float64       \n",
      " 4   HP_SS     290 non-null    float64       \n",
      " 5   HP_TN     290 non-null    float64       \n",
      " 6   HP_TP     290 non-null    float64       \n",
      " 7   HP_Temp   290 non-null    float64       \n",
      " 8   HP_Chl_a  290 non-null    float64       \n",
      "dtypes: datetime64[ns](1), float64(8)\n",
      "memory usage: 20.5 KB\n"
     ]
    }
   ],
   "source": [
    "DownStream_Data.info()"
   ]
  },
  {
   "cell_type": "code",
   "execution_count": 34,
   "metadata": {},
   "outputs": [],
   "source": [
    "UpStream_Data = UpStream_Data.set_index('Date')\n",
    "DownStream_Data = DownStream_Data.set_index('Date')"
   ]
  },
  {
   "cell_type": "code",
   "execution_count": 35,
   "metadata": {},
   "outputs": [
    {
     "data": {
      "text/html": [
       "<div>\n",
       "<style scoped>\n",
       "    .dataframe tbody tr th:only-of-type {\n",
       "        vertical-align: middle;\n",
       "    }\n",
       "\n",
       "    .dataframe tbody tr th {\n",
       "        vertical-align: top;\n",
       "    }\n",
       "\n",
       "    .dataframe thead th {\n",
       "        text-align: right;\n",
       "    }\n",
       "</style>\n",
       "<table border=\"1\" class=\"dataframe\">\n",
       "  <thead>\n",
       "    <tr style=\"text-align: right;\">\n",
       "      <th></th>\n",
       "      <th>NG_DO</th>\n",
       "      <th>NG_BOD</th>\n",
       "      <th>NG_COD</th>\n",
       "      <th>NG_SS</th>\n",
       "      <th>NG_TN</th>\n",
       "      <th>NG_TP</th>\n",
       "      <th>NG_Temp</th>\n",
       "      <th>NG_Chl_a</th>\n",
       "      <th>DalS_COD</th>\n",
       "      <th>DalS_SS</th>\n",
       "      <th>DalS_TN</th>\n",
       "      <th>DalS_TP</th>\n",
       "      <th>DalS_Flow_mean</th>\n",
       "      <th>DalS_Flow_day</th>\n",
       "      <th>UiR_Rain</th>\n",
       "      <th>UiR_Solar</th>\n",
       "    </tr>\n",
       "    <tr>\n",
       "      <th>Date</th>\n",
       "      <th></th>\n",
       "      <th></th>\n",
       "      <th></th>\n",
       "      <th></th>\n",
       "      <th></th>\n",
       "      <th></th>\n",
       "      <th></th>\n",
       "      <th></th>\n",
       "      <th></th>\n",
       "      <th></th>\n",
       "      <th></th>\n",
       "      <th></th>\n",
       "      <th></th>\n",
       "      <th></th>\n",
       "      <th></th>\n",
       "      <th></th>\n",
       "    </tr>\n",
       "  </thead>\n",
       "  <tbody>\n",
       "    <tr>\n",
       "      <th>2013-01-04</th>\n",
       "      <td>14.280825</td>\n",
       "      <td>1.393833</td>\n",
       "      <td>4.839123</td>\n",
       "      <td>5.557241</td>\n",
       "      <td>5.127618</td>\n",
       "      <td>0.048337</td>\n",
       "      <td>2.265772</td>\n",
       "      <td>18.796285</td>\n",
       "      <td>8.7</td>\n",
       "      <td>1.0</td>\n",
       "      <td>3.723</td>\n",
       "      <td>0.024</td>\n",
       "      <td>716.1</td>\n",
       "      <td>17187.0</td>\n",
       "      <td>2.0</td>\n",
       "      <td>10.138571</td>\n",
       "    </tr>\n",
       "    <tr>\n",
       "      <th>2013-01-10</th>\n",
       "      <td>14.200000</td>\n",
       "      <td>1.300000</td>\n",
       "      <td>4.800000</td>\n",
       "      <td>5.100000</td>\n",
       "      <td>5.150000</td>\n",
       "      <td>0.049000</td>\n",
       "      <td>2.200000</td>\n",
       "      <td>18.900000</td>\n",
       "      <td>7.7</td>\n",
       "      <td>0.8</td>\n",
       "      <td>3.534</td>\n",
       "      <td>0.018</td>\n",
       "      <td>808.4</td>\n",
       "      <td>19402.0</td>\n",
       "      <td>0.0</td>\n",
       "      <td>12.467143</td>\n",
       "    </tr>\n",
       "    <tr>\n",
       "      <th>2013-01-17</th>\n",
       "      <td>15.000000</td>\n",
       "      <td>1.400000</td>\n",
       "      <td>5.100000</td>\n",
       "      <td>6.900000</td>\n",
       "      <td>4.977000</td>\n",
       "      <td>0.046000</td>\n",
       "      <td>3.400000</td>\n",
       "      <td>15.000000</td>\n",
       "      <td>8.3</td>\n",
       "      <td>0.9</td>\n",
       "      <td>4.830</td>\n",
       "      <td>0.056</td>\n",
       "      <td>848.3</td>\n",
       "      <td>20360.0</td>\n",
       "      <td>0.0</td>\n",
       "      <td>9.705714</td>\n",
       "    </tr>\n",
       "    <tr>\n",
       "      <th>2013-01-24</th>\n",
       "      <td>15.400000</td>\n",
       "      <td>2.200000</td>\n",
       "      <td>5.300000</td>\n",
       "      <td>7.100000</td>\n",
       "      <td>4.592000</td>\n",
       "      <td>0.034000</td>\n",
       "      <td>3.200000</td>\n",
       "      <td>24.700000</td>\n",
       "      <td>7.6</td>\n",
       "      <td>1.0</td>\n",
       "      <td>5.247</td>\n",
       "      <td>0.027</td>\n",
       "      <td>840.5</td>\n",
       "      <td>20173.0</td>\n",
       "      <td>13.5</td>\n",
       "      <td>6.662857</td>\n",
       "    </tr>\n",
       "    <tr>\n",
       "      <th>2013-02-07</th>\n",
       "      <td>15.200000</td>\n",
       "      <td>1.100000</td>\n",
       "      <td>4.100000</td>\n",
       "      <td>8.300000</td>\n",
       "      <td>4.130000</td>\n",
       "      <td>0.047000</td>\n",
       "      <td>3.400000</td>\n",
       "      <td>11.100000</td>\n",
       "      <td>7.4</td>\n",
       "      <td>0.8</td>\n",
       "      <td>4.988</td>\n",
       "      <td>0.025</td>\n",
       "      <td>850.8</td>\n",
       "      <td>20420.0</td>\n",
       "      <td>47.2</td>\n",
       "      <td>7.932857</td>\n",
       "    </tr>\n",
       "  </tbody>\n",
       "</table>\n",
       "</div>"
      ],
      "text/plain": [
       "                NG_DO    NG_BOD    NG_COD     NG_SS     NG_TN     NG_TP  \\\n",
       "Date                                                                      \n",
       "2013-01-04  14.280825  1.393833  4.839123  5.557241  5.127618  0.048337   \n",
       "2013-01-10  14.200000  1.300000  4.800000  5.100000  5.150000  0.049000   \n",
       "2013-01-17  15.000000  1.400000  5.100000  6.900000  4.977000  0.046000   \n",
       "2013-01-24  15.400000  2.200000  5.300000  7.100000  4.592000  0.034000   \n",
       "2013-02-07  15.200000  1.100000  4.100000  8.300000  4.130000  0.047000   \n",
       "\n",
       "             NG_Temp   NG_Chl_a  DalS_COD  DalS_SS  DalS_TN  DalS_TP  \\\n",
       "Date                                                                   \n",
       "2013-01-04  2.265772  18.796285       8.7      1.0    3.723    0.024   \n",
       "2013-01-10  2.200000  18.900000       7.7      0.8    3.534    0.018   \n",
       "2013-01-17  3.400000  15.000000       8.3      0.9    4.830    0.056   \n",
       "2013-01-24  3.200000  24.700000       7.6      1.0    5.247    0.027   \n",
       "2013-02-07  3.400000  11.100000       7.4      0.8    4.988    0.025   \n",
       "\n",
       "            DalS_Flow_mean  DalS_Flow_day  UiR_Rain  UiR_Solar  \n",
       "Date                                                            \n",
       "2013-01-04           716.1        17187.0       2.0  10.138571  \n",
       "2013-01-10           808.4        19402.0       0.0  12.467143  \n",
       "2013-01-17           848.3        20360.0       0.0   9.705714  \n",
       "2013-01-24           840.5        20173.0      13.5   6.662857  \n",
       "2013-02-07           850.8        20420.0      47.2   7.932857  "
      ]
     },
     "execution_count": 35,
     "metadata": {},
     "output_type": "execute_result"
    }
   ],
   "source": [
    "UpStream_Data.head()"
   ]
  },
  {
   "cell_type": "code",
   "execution_count": 36,
   "metadata": {},
   "outputs": [],
   "source": [
    "# UpStream_Data.to_excel('NG_Up_data.xlsx', index = True)\n",
    "# DownStream_Data.to_excel('HP_Down_data.xlsx', index = True)"
   ]
  },
  {
   "cell_type": "markdown",
   "metadata": {},
   "source": [
    "# Normalize"
   ]
  },
  {
   "cell_type": "code",
   "execution_count": 37,
   "metadata": {},
   "outputs": [],
   "source": [
    "import pandas as pd\n",
    "import numpy as np"
   ]
  },
  {
   "cell_type": "code",
   "execution_count": null,
   "metadata": {},
   "outputs": [],
   "source": [
    "Up = pd.read_excel('DS_data.xlsx', index = False)"
   ]
  },
  {
   "cell_type": "code",
   "execution_count": null,
   "metadata": {},
   "outputs": [],
   "source": [
    "Up_B = Up.filter(like='Temp',axis=1)\n",
    "Up_C = Up.filter(like='Date',axis=1)"
   ]
  },
  {
   "cell_type": "code",
   "execution_count": null,
   "metadata": {},
   "outputs": [],
   "source": [
    "Up_A = Up.drop(['DS_Temp','GumHo_Temp','Date','Door'], axis=1)"
   ]
  },
  {
   "cell_type": "code",
   "execution_count": null,
   "metadata": {},
   "outputs": [],
   "source": [
    "Up_A.columns"
   ]
  },
  {
   "cell_type": "code",
   "execution_count": null,
   "metadata": {},
   "outputs": [],
   "source": [
    "Up_A.min()"
   ]
  },
  {
   "cell_type": "code",
   "execution_count": null,
   "metadata": {},
   "outputs": [],
   "source": [
    "n = 0\n",
    "\n",
    "for column in Up_A:\n",
    "    Data = Up_A.iloc[:,n]\n",
    "    Data = list(Data)\n",
    "    while min(Data) == 0:\n",
    "        Data.remove(0)\n",
    "    none_zero_min = min(Data)/2\n",
    "    \n",
    "    for m in range(0,len(Data)):\n",
    "        if Up_A.iloc[m,n] == 0:\n",
    "            Up_A.iloc[m,n] = none_zero_min\n",
    "            \n",
    "    n += 1\n",
    "print('\\n all done\\n')"
   ]
  },
  {
   "cell_type": "code",
   "execution_count": null,
   "metadata": {},
   "outputs": [],
   "source": [
    "Up_A.min()"
   ]
  },
  {
   "cell_type": "code",
   "execution_count": null,
   "metadata": {},
   "outputs": [],
   "source": [
    "Up_A.head()"
   ]
  },
  {
   "cell_type": "code",
   "execution_count": null,
   "metadata": {},
   "outputs": [],
   "source": [
    "Up_A = Up_A.apply(lambda x: np.log(x))"
   ]
  },
  {
   "cell_type": "code",
   "execution_count": null,
   "metadata": {},
   "outputs": [],
   "source": [
    "# Up_A.head()"
   ]
  },
  {
   "cell_type": "code",
   "execution_count": null,
   "metadata": {},
   "outputs": [],
   "source": [
    "result_UP = pd.concat([Up_C, Up_A, Up_B], axis=1, ignore_index=False)"
   ]
  },
  {
   "cell_type": "code",
   "execution_count": null,
   "metadata": {},
   "outputs": [],
   "source": [
    "result_UP.to_excel('DS_Data_edit_log.xlsx', index = False)"
   ]
  },
  {
   "cell_type": "code",
   "execution_count": null,
   "metadata": {},
   "outputs": [],
   "source": []
  },
  {
   "cell_type": "code",
   "execution_count": null,
   "metadata": {},
   "outputs": [],
   "source": [
    "Down = pd.read_excel('NG_data.xlsx', index = False)\n",
    "Down.min()"
   ]
  },
  {
   "cell_type": "code",
   "execution_count": null,
   "metadata": {},
   "outputs": [],
   "source": [
    "Down = Down.drop(['NG_Temp','NG_Cells'], axis=1)"
   ]
  },
  {
   "cell_type": "code",
   "execution_count": null,
   "metadata": {},
   "outputs": [],
   "source": [
    "Down_data = Down.set_index('Date')"
   ]
  },
  {
   "cell_type": "code",
   "execution_count": null,
   "metadata": {},
   "outputs": [],
   "source": [
    "Down_data = Down_data.apply(lambda x: np.log(x))"
   ]
  },
  {
   "cell_type": "code",
   "execution_count": null,
   "metadata": {},
   "outputs": [],
   "source": [
    "Down_data.head()"
   ]
  },
  {
   "cell_type": "code",
   "execution_count": null,
   "metadata": {},
   "outputs": [],
   "source": [
    "# Down_data.to_excel('NG_Data_edit_log.xlsx')"
   ]
  },
  {
   "cell_type": "code",
   "execution_count": null,
   "metadata": {},
   "outputs": [],
   "source": []
  },
  {
   "cell_type": "code",
   "execution_count": null,
   "metadata": {},
   "outputs": [],
   "source": [
    "# n = 0\n",
    "\n",
    "# for column in Up:\n",
    "#     if column == 'DS_DO':\n",
    "#         print(Up.iloc[:,n])\n",
    "#         data = Up.iloc[:,n]\n",
    "#         data = data.apply(lambda x: np.log(x))\n",
    "#         print(data)\n",
    "\n",
    "#     n += 1\n",
    "# #     elif column != 'Date':\n",
    "# #         Up['DS_DO'].apply(lambda x: np.log(x))\n",
    "# #     elif row >= 70:\n",
    "# #         grades.append('C')\n",
    "# #     else:\n",
    "# #         grades.append('F')"
   ]
  },
  {
   "cell_type": "code",
   "execution_count": null,
   "metadata": {},
   "outputs": [],
   "source": [
    "# data.head()"
   ]
  },
  {
   "cell_type": "code",
   "execution_count": null,
   "metadata": {},
   "outputs": [],
   "source": [
    "# lst = Up.DS_DO.value_counts(5)"
   ]
  },
  {
   "cell_type": "code",
   "execution_count": null,
   "metadata": {},
   "outputs": [],
   "source": [
    "# for row in df['average']:\n",
    "#     if row >= 90:\n",
    "#         grades.append('A')\n",
    "#     elif row >= 80:\n",
    "#         grades.append('B')\n",
    "#     elif row >= 70:\n",
    "#         grades.append('C')\n",
    "#     else:\n",
    "#         grades.append('F')"
   ]
  },
  {
   "cell_type": "code",
   "execution_count": null,
   "metadata": {},
   "outputs": [],
   "source": []
  },
  {
   "cell_type": "code",
   "execution_count": null,
   "metadata": {},
   "outputs": [],
   "source": [
    "# from sklearn.preprocessing import MinMaxScaler\n",
    "\n",
    "# UpScaler = MinMaxScaler() #상류데이터용\n",
    "# DownScaler = MinMaxScaler() #하류데이터용\n",
    "\n",
    "# #나중에 결과를 DeNormalizing 하기 위해 나누어 사용 하였다.\n",
    "\n",
    "# def DeNormalize(Y, Data_name, column_num, Scaler_Type):\n",
    "    \n",
    "#     data = Data_name\n",
    "#     Scaler = Scaler_Type\n",
    "    \n",
    "#     _max = Scaler.data_max_[column_num] # 역정규화 하려는 데이터의 컬럼 번호\n",
    "#     _min = Scaler.data_min_[column_num] \n",
    "    \n",
    "#     X = Y*(_max-_min) + _min\n",
    "    \n",
    "#     return X"
   ]
  },
  {
   "cell_type": "code",
   "execution_count": null,
   "metadata": {},
   "outputs": [],
   "source": [
    "df_log = df['다사_TP(㎎/L)'].apply(lambda x: np.log(x))"
   ]
  },
  {
   "cell_type": "code",
   "execution_count": null,
   "metadata": {},
   "outputs": [],
   "source": [
    "def select_log(row):\n",
    "    row = np.log(row)\n",
    "    return row"
   ]
  },
  {
   "cell_type": "code",
   "execution_count": null,
   "metadata": {},
   "outputs": [],
   "source": [
    "Up.DS_DO = Up.DS_DO.apply(lambda x: np.log(x))"
   ]
  },
  {
   "cell_type": "code",
   "execution_count": null,
   "metadata": {},
   "outputs": [],
   "source": [
    "a = 'DS_DO'\n",
    "Up.a"
   ]
  },
  {
   "cell_type": "code",
   "execution_count": null,
   "metadata": {},
   "outputs": [],
   "source": [
    "Up.head()"
   ]
  },
  {
   "cell_type": "code",
   "execution_count": null,
   "metadata": {},
   "outputs": [],
   "source": [
    "n = 0\n",
    "\n",
    "for column in Up:\n",
    "    print(column)\n",
    "    print(Up.iloc[:,n])\n",
    "#     if column == 'DS_DO':\n",
    "#         print(Up.iloc[:,n])\n",
    "#         data = Up.iloc[:,n]\n",
    "#         data = data.apply(lambda x: np.log(x))\n",
    "#         print(data)\n",
    "\n",
    "    n += 1"
   ]
  },
  {
   "cell_type": "code",
   "execution_count": null,
   "metadata": {},
   "outputs": [],
   "source": [
    "n = 0\n",
    "\n",
    "for column in Up:\n",
    "    if column == 'DS_DO':\n",
    "        print(Up.iloc[:,n])\n",
    "        data = Up.iloc[:,n]\n",
    "        data = data.apply(lambda x: np.log(x))\n",
    "        print(data)\n",
    "\n",
    "    n += 1\n",
    "#     elif column != 'Date':\n",
    "#         Up['DS_DO'].apply(lambda x: np.log(x))\n",
    "#     elif row >= 70:\n",
    "#         grades.append('C')\n",
    "#     else:\n",
    "#         grades.append('F')"
   ]
  },
  {
   "cell_type": "code",
   "execution_count": null,
   "metadata": {},
   "outputs": [],
   "source": [
    "# if list(Up.DS_DO.unique()) == 0:\n",
    "#     print('Check')\n",
    "# else:\n",
    "#     print('Pass')"
   ]
  },
  {
   "cell_type": "code",
   "execution_count": null,
   "metadata": {},
   "outputs": [],
   "source": [
    "# pd.Series.value_counts(normalize=False, # False면 개수, True면 상대 비율 구함\n",
    "#                        sort=True, # True면 개수 기준 정렬, False면 유일한 값 기준 정렬\n",
    "#                        ascending=False, # False면 내림차순 정렬, True면 오름차순 정렬\n",
    "#                        bins=None, # None이면 유일값 기준 개수, None아니면 Bins Group별 개수\n",
    "#                        dropna=True # True면 NaN 무시, False면 유일값에 NaN 포함)"
   ]
  },
  {
   "cell_type": "code",
   "execution_count": null,
   "metadata": {},
   "outputs": [],
   "source": [
    "# Up.DS_DO.value_counts(ascending=True) ###################################################"
   ]
  },
  {
   "cell_type": "code",
   "execution_count": null,
   "metadata": {},
   "outputs": [],
   "source": [
    "#################################################################\n",
    "#################################################################\n",
    "#################################################################\n",
    "#################################################################\n",
    "#################################################################\n",
    "#################################################################"
   ]
  }
 ],
 "metadata": {
  "kernelspec": {
   "display_name": "Python 3",
   "language": "python",
   "name": "python3"
  },
  "language_info": {
   "codemirror_mode": {
    "name": "ipython",
    "version": 3
   },
   "file_extension": ".py",
   "mimetype": "text/x-python",
   "name": "python",
   "nbconvert_exporter": "python",
   "pygments_lexer": "ipython3",
   "version": "3.7.10"
  }
 },
 "nbformat": 4,
 "nbformat_minor": 4
}
