{
 "cells": [
  {
   "cell_type": "code",
   "execution_count": 3,
   "metadata": {
    "colab": {},
    "colab_type": "code",
    "id": "FMKHTsedaum7"
   },
   "outputs": [
    {
     "name": "stderr",
     "output_type": "stream",
     "text": [
      "Setting up a new session...\n"
     ]
    },
    {
     "name": "stdout",
     "output_type": "stream",
     "text": [
      "1.4.0\n",
      "Populating the interactive namespace from numpy and matplotlib\n"
     ]
    }
   ],
   "source": [
    "import pandas as pd \n",
    "import torch \n",
    "import torch.nn as nn \n",
    "from torch.utils.data import Dataset, DataLoader\n",
    "import torch.optim as optim\n",
    "import numpy as np \n",
    "import argparse\n",
    "from copy import deepcopy #Add Deepcopy for args\n",
    "import visdom\n",
    "vis = visdom.Visdom()\n",
    "\n",
    "from sklearn.metrics import mean_squared_error\n",
    "from sklearn.metrics import r2_score\n",
    "\n",
    "print(torch.__version__)\n",
    "%matplotlib inline\n",
    "%pylab inline\n",
    "pylab.rcParams['figure.figsize'] = (15, 9)"
   ]
  },
  {
   "cell_type": "markdown",
   "metadata": {
    "colab_type": "text",
    "id": "N1gRd7qVcEwI"
   },
   "source": [
    "# 1. Data loading & Preprocessing"
   ]
  },
  {
   "cell_type": "markdown",
   "metadata": {
    "colab_type": "text",
    "id": "KShxDU_Jcj3u"
   },
   "source": [
    "### 1.1 Data loading"
   ]
  },
  {
   "cell_type": "code",
   "execution_count": 4,
   "metadata": {
    "colab": {},
    "colab_type": "code",
    "id": "f39evpcvc1KK"
   },
   "outputs": [
    {
     "name": "stdout",
     "output_type": "stream",
     "text": [
      "/Users/jinsungpark/Desktop/jupyter/Data_river/original02/HP_DA\n"
     ]
    }
   ],
   "source": [
    "cd /Users/jinsungpark/Desktop/jupyter/Data_river/original02/HP_DA"
   ]
  },
  {
   "cell_type": "code",
   "execution_count": 5,
   "metadata": {
    "colab": {},
    "colab_type": "code",
    "id": "nTiRk82qctLD"
   },
   "outputs": [
    {
     "name": "stdout",
     "output_type": "stream",
     "text": [
      "DA_Down_data.xlsx  DA_Down_log.xlsx   HP_Up_data.xlsx    HP_Up_log.xlsx\r\n"
     ]
    }
   ],
   "source": [
    "ls #현재경로에 있는 항목 확인"
   ]
  },
  {
   "cell_type": "code",
   "execution_count": 6,
   "metadata": {
    "colab": {},
    "colab_type": "code",
    "id": "dln4LnKpc1CX"
   },
   "outputs": [],
   "source": [
    "UpStream_data = pd.read_excel('HP_Up_log.xlsx')\n",
    "DownStream_data = pd.read_excel('DA_Down_log.xlsx')"
   ]
  },
  {
   "cell_type": "code",
   "execution_count": 7,
   "metadata": {
    "colab": {},
    "colab_type": "code",
    "id": "5GRAwoM_c068"
   },
   "outputs": [
    {
     "name": "stdout",
     "output_type": "stream",
     "text": [
      "Index(['Date', 'HP_DO', 'HP_BOD', 'HP_COD', 'HP_SS', 'HP_TN', 'HP_TP',\n",
      "       'HP_Chl_a', 'HP_Flow', 'ChaCh_DO', 'ChaCh_BOD', 'ChaCh_COD', 'ChaCh_SS',\n",
      "       'ChaCh_TN', 'ChaCh_TP', 'ChaCh_Chl_a', 'ChaCh_Flow', 'UiR_Rain',\n",
      "       'UiR_Solar', 'HP_Temp', 'ChaCh_Temp'],\n",
      "      dtype='object')\n",
      "Index(['Date', 'DA_DO', 'DA_BOD', 'DA_COD', 'DA_SS', 'DA_TN', 'DA_TP',\n",
      "       'DA_Chl_a'],\n",
      "      dtype='object')\n"
     ]
    }
   ],
   "source": [
    "print(UpStream_data.columns)\n",
    "print(DownStream_data.columns)"
   ]
  },
  {
   "cell_type": "code",
   "execution_count": 8,
   "metadata": {
    "colab": {},
    "colab_type": "code",
    "id": "uneezLbLdGiC"
   },
   "outputs": [],
   "source": [
    "#날짜 인덱스화\n",
    "UpData = UpStream_data.set_index('Date')\n",
    "DownData = DownStream_data.set_index('Date')"
   ]
  },
  {
   "cell_type": "code",
   "execution_count": 9,
   "metadata": {},
   "outputs": [
    {
     "name": "stdout",
     "output_type": "stream",
     "text": [
      "<class 'pandas.core.frame.DataFrame'>\n",
      "DatetimeIndex: 265 entries, 2013-01-08 to 2019-09-23\n",
      "Data columns (total 20 columns):\n",
      " #   Column       Non-Null Count  Dtype  \n",
      "---  ------       --------------  -----  \n",
      " 0   HP_DO        265 non-null    float64\n",
      " 1   HP_BOD       265 non-null    float64\n",
      " 2   HP_COD       265 non-null    float64\n",
      " 3   HP_SS        265 non-null    float64\n",
      " 4   HP_TN        265 non-null    float64\n",
      " 5   HP_TP        265 non-null    float64\n",
      " 6   HP_Chl_a     265 non-null    float64\n",
      " 7   HP_Flow      265 non-null    float64\n",
      " 8   ChaCh_DO     265 non-null    float64\n",
      " 9   ChaCh_BOD    265 non-null    float64\n",
      " 10  ChaCh_COD    265 non-null    float64\n",
      " 11  ChaCh_SS     265 non-null    float64\n",
      " 12  ChaCh_TN     265 non-null    float64\n",
      " 13  ChaCh_TP     265 non-null    float64\n",
      " 14  ChaCh_Chl_a  265 non-null    float64\n",
      " 15  ChaCh_Flow   265 non-null    float64\n",
      " 16  UiR_Rain     265 non-null    float64\n",
      " 17  UiR_Solar    265 non-null    float64\n",
      " 18  HP_Temp      265 non-null    float64\n",
      " 19  ChaCh_Temp   265 non-null    float64\n",
      "dtypes: float64(20)\n",
      "memory usage: 43.5 KB\n"
     ]
    }
   ],
   "source": [
    "UpData.info()"
   ]
  },
  {
   "cell_type": "code",
   "execution_count": 10,
   "metadata": {
    "colab": {},
    "colab_type": "code",
    "id": "4rSPrna-c0pt"
   },
   "outputs": [
    {
     "name": "stdout",
     "output_type": "stream",
     "text": [
      "Index(['HP_DO', 'HP_COD', 'HP_SS', 'HP_TN', 'HP_TP', 'HP_Temp', 'ChaCh_TN',\n",
      "       'ChaCh_TP', 'ChaCh_Flow', 'UiR_Rain'],\n",
      "      dtype='object')\n"
     ]
    }
   ],
   "source": [
    "#넣고싶은 상류 항목 컬럼 선택 - TP setting\n",
    "UpData = UpData.iloc[:,[0,2,3,4,5,18,12,13,15,16]]\n",
    "print(UpData.columns)"
   ]
  },
  {
   "cell_type": "code",
   "execution_count": 11,
   "metadata": {},
   "outputs": [],
   "source": [
    "# #넣고싶은 상류 항목 컬럼 선택 - TN setting\n",
    "# UpData = UpData.iloc[:,[0,4,5,18,7,8,10,12,13,19,15,16,17]]\n",
    "# UpData.info()"
   ]
  },
  {
   "cell_type": "code",
   "execution_count": 12,
   "metadata": {},
   "outputs": [
    {
     "name": "stdout",
     "output_type": "stream",
     "text": [
      "<class 'pandas.core.frame.DataFrame'>\n",
      "DatetimeIndex: 265 entries, 2013-01-08 to 2019-09-23\n",
      "Data columns (total 7 columns):\n",
      " #   Column    Non-Null Count  Dtype  \n",
      "---  ------    --------------  -----  \n",
      " 0   DA_DO     265 non-null    float64\n",
      " 1   DA_BOD    265 non-null    float64\n",
      " 2   DA_COD    265 non-null    float64\n",
      " 3   DA_SS     265 non-null    float64\n",
      " 4   DA_TN     265 non-null    float64\n",
      " 5   DA_TP     265 non-null    float64\n",
      " 6   DA_Chl_a  265 non-null    float64\n",
      "dtypes: float64(7)\n",
      "memory usage: 16.6 KB\n"
     ]
    }
   ],
   "source": [
    "DownData.info()"
   ]
  },
  {
   "cell_type": "code",
   "execution_count": 13,
   "metadata": {
    "colab": {},
    "colab_type": "code",
    "id": "4rSPrna-c0pt"
   },
   "outputs": [
    {
     "name": "stdout",
     "output_type": "stream",
     "text": [
      "DA_TP\n"
     ]
    }
   ],
   "source": [
    "#알고싶은 하류 항목 컬럼 넘버 넣기('Date'항목이 인덱스화 돼서 컬럼 넘버가 -1씩 됨)\n",
    "Colum = 5\n",
    "print(DownData.columns[Colum])"
   ]
  },
  {
   "cell_type": "markdown",
   "metadata": {
    "colab_type": "text",
    "id": "KShxDU_Jcj3u"
   },
   "source": [
    "### 1.1 Data loading"
   ]
  },
  {
   "cell_type": "markdown",
   "metadata": {
    "colab_type": "text",
    "id": "J2Tp4o0Hc0ZL"
   },
   "source": [
    "### 1.2 Data Preprocessing(normalization)"
   ]
  },
  {
   "cell_type": "code",
   "execution_count": 14,
   "metadata": {
    "colab": {},
    "colab_type": "code",
    "id": "ChKYCAtTdGpA"
   },
   "outputs": [],
   "source": [
    "from sklearn.preprocessing import MinMaxScaler\n",
    "\n",
    "UpScaler = MinMaxScaler() #상류데이터용\n",
    "DownScaler = MinMaxScaler() #하류데이터용\n",
    "\n",
    "#나중에 결과를 DeNormalizing 하기 위해 나누어 사용 하였다.\n",
    "\n",
    "def DeNormalize(Y, Data_name, column_num, Scaler_Type):\n",
    "    \n",
    "    data = Data_name\n",
    "    Scaler = Scaler_Type\n",
    "    \n",
    "    _max = Scaler.data_max_[column_num] # 역정규화 하려는 데이터의 컬럼 번호\n",
    "    _min = Scaler.data_min_[column_num] \n",
    "    \n",
    "    X = Y*(_max-_min) + _min\n",
    "    \n",
    "    return X"
   ]
  },
  {
   "cell_type": "code",
   "execution_count": 15,
   "metadata": {
    "colab": {},
    "colab_type": "code",
    "id": "uneezLbLdGiC"
   },
   "outputs": [
    {
     "name": "stdout",
     "output_type": "stream",
     "text": [
      "HP_DO         0\n",
      "HP_COD        0\n",
      "HP_SS         0\n",
      "HP_TN         0\n",
      "HP_TP         0\n",
      "HP_Temp       0\n",
      "ChaCh_TN      0\n",
      "ChaCh_TP      0\n",
      "ChaCh_Flow    0\n",
      "UiR_Rain      0\n",
      "dtype: int64\n"
     ]
    }
   ],
   "source": [
    "#데이터 정규화\n",
    "UpData = pd.DataFrame(UpScaler.fit_transform(UpData), columns=UpData.columns, index=UpData.index)\n",
    "DownData = pd.DataFrame(DownScaler.fit_transform(DownData), columns=DownData.columns, index=DownData.index)\n",
    "\n",
    "print(UpData.isna().sum())"
   ]
  },
  {
   "cell_type": "markdown",
   "metadata": {
    "colab_type": "text",
    "id": "pDSVZGiUdGYz"
   },
   "source": [
    "#2. Data Preparation"
   ]
  },
  {
   "cell_type": "code",
   "execution_count": 16,
   "metadata": {
    "colab": {},
    "colab_type": "code",
    "id": "Hxm2moSudGQD"
   },
   "outputs": [],
   "source": [
    "class RiverDataset(Dataset):\n",
    "    def __init__(self, UpData, DownData, x_frames, y_frames, start, end):\n",
    "        \n",
    "        self.x_frames = x_frames\n",
    "        self.y_frames = y_frames\n",
    "        \n",
    "        self.start = start\n",
    "        self.end = end\n",
    "\n",
    "        self.UpData = UpData[start:end]\n",
    "        self.DownData = DownData[start:end]\n",
    "\n",
    "    def __len__(self):\n",
    "        return len(self.UpData) - (self.x_frames + self.y_frames) + 1\n",
    "    #데이터를 전처리 할때 UpData와 DownData의 길이가 동일해짐(날짜를 동일한것만 추출해야 하므로), 따라서 전체길이는 둘중 하나를 사용\n",
    "\n",
    "    def __getitem__(self, idx):\n",
    "        idx += self.x_frames\n",
    "\n",
    "        X = self.UpData.iloc[idx-self.x_frames:idx].values\n",
    "        Y = self.DownData.iloc[idx:idx+self.y_frames].values\n",
    "        \n",
    "        return X, Y"
   ]
  },
  {
   "cell_type": "markdown",
   "metadata": {
    "colab_type": "text",
    "id": "fj80CahhdGG9"
   },
   "source": [
    "# 3. Model Define"
   ]
  },
  {
   "cell_type": "code",
   "execution_count": 17,
   "metadata": {
    "colab": {},
    "colab_type": "code",
    "id": "EuBGEc51dF-V"
   },
   "outputs": [],
   "source": [
    "class LSTM(nn.Module):\n",
    "    \n",
    "    def __init__(self, input_dim, hidden_dim, output_dim, num_layers, batch_size, dropout, use_bn):\n",
    "        super(LSTM, self).__init__()\n",
    "        self.input_dim = input_dim \n",
    "        self.hidden_dim = hidden_dim\n",
    "        self.output_dim = output_dim\n",
    "        self.num_layers = num_layers\n",
    "\n",
    "        self.batch_size = batch_size\n",
    "        self.dropout = dropout\n",
    "        self.use_bn = use_bn \n",
    "        \n",
    "        self.lstm = nn.LSTM(self.input_dim, self.hidden_dim, self.num_layers) #\n",
    "        self.hidden = self.init_hidden()\n",
    "        self.regressor = self.make_regressor()\n",
    "        \n",
    "    def init_hidden(self):\n",
    "        return (torch.zeros(self.num_layers, self.batch_size, self.hidden_dim),\n",
    "                torch.zeros(self.num_layers, self.batch_size, self.hidden_dim))\n",
    "    \n",
    "    def make_regressor(self):\n",
    "        layers = []\n",
    "        if self.use_bn:\n",
    "            layers.append(nn.BatchNorm1d(self.hidden_dim))\n",
    "        layers.append(nn.Dropout(self.dropout))\n",
    "        \n",
    "        layers.append(nn.Linear(self.hidden_dim, self.hidden_dim // 2))\n",
    "        layers.append(nn.ReLU())\n",
    "        layers.append(nn.Linear(self.hidden_dim // 2, self.output_dim))\n",
    "        regressor = nn.Sequential(*layers)\n",
    "        return regressor\n",
    "    \n",
    "    def forward(self, x):\n",
    "        lstm_out, self.hidden = self.lstm(x, self.hidden)\n",
    "        y_pred = self.regressor(lstm_out[-1].view(self.batch_size, -1))\n",
    "        return y_pred"
   ]
  },
  {
   "cell_type": "code",
   "execution_count": 18,
   "metadata": {},
   "outputs": [],
   "source": [
    "class LSTM_edit(nn.Module):\n",
    "    \n",
    "    def __init__(self):\n",
    "        super(LSTM_edit, self).__init__()\n",
    "        self.input_dim = 10\n",
    "        self.hidden_dim = 32\n",
    "        self.output_dim = 1\n",
    "        self.num_layers = 2\n",
    "\n",
    "        self.batch_size = 8\n",
    "        self.dropout = 0.1\n",
    "        self.use_bn = False\n",
    "        \n",
    "        self.lstm = nn.LSTM(self.input_dim, self.hidden_dim, self.num_layers) #\n",
    "        self.hidden = self.init_hidden()\n",
    "        self.regressor = self.make_regressor()\n",
    "        \n",
    "    def init_hidden(self):\n",
    "        return (torch.zeros(self.num_layers, self.batch_size, self.hidden_dim),\n",
    "                torch.zeros(self.num_layers, self.batch_size, self.hidden_dim))\n",
    "    \n",
    "    def make_regressor(self):\n",
    "        layers = []\n",
    "        if self.use_bn:\n",
    "            layers.append(nn.BatchNorm1d(self.hidden_dim))\n",
    "        layers.append(nn.Dropout(self.dropout))\n",
    "        \n",
    "        layers.append(nn.Linear(self.hidden_dim, self.hidden_dim // 2))\n",
    "        layers.append(nn.ReLU())\n",
    "        layers.append(nn.Linear(self.hidden_dim // 2, self.output_dim))\n",
    "        regressor = nn.Sequential(*layers)\n",
    "        return regressor\n",
    "    \n",
    "    def forward(self, x):\n",
    "        lstm_out, self.hidden = self.lstm(x, self.hidden)\n",
    "        y_pred = self.regressor(lstm_out[-1].view(self.batch_size, -1))\n",
    "        return y_pred"
   ]
  },
  {
   "cell_type": "code",
   "execution_count": 19,
   "metadata": {
    "colab": {},
    "colab_type": "code",
    "id": "PTpV_o6Wdglq"
   },
   "outputs": [],
   "source": [
    "# 정확도 : 예측확률을 100%로 봤을때 MAPE에 따른 오차비율을 빼줌 (100-MAPE) ##RMSE, MAPE 두개로 볼 수 있게\n",
    "def MAPE(y_true, y_pred):\n",
    "    return np.mean(np.abs((y_true - y_pred) / y_true)) * 100"
   ]
  },
  {
   "cell_type": "code",
   "execution_count": 20,
   "metadata": {},
   "outputs": [],
   "source": [
    "def RMSE(y_true, y_pred):\n",
    "    mse = mean_squared_error(y_true, y_pred, multioutput='raw_values')\n",
    "    return np.sqrt(mse)"
   ]
  },
  {
   "cell_type": "code",
   "execution_count": 21,
   "metadata": {},
   "outputs": [],
   "source": [
    "def R2(y_true, y_pred):\n",
    "    R2_score = r2_score(y_true, y_pred, multioutput='raw_values')\n",
    "    return R2_score"
   ]
  },
  {
   "cell_type": "markdown",
   "metadata": {
    "colab_type": "text",
    "id": "_GPb8H8-djwB"
   },
   "source": [
    "# 4. Train, Validate, Test"
   ]
  },
  {
   "cell_type": "code",
   "execution_count": 22,
   "metadata": {
    "colab": {},
    "colab_type": "code",
    "id": "qrT2W-pqdjh6"
   },
   "outputs": [],
   "source": [
    "def train(model, partition, optimizer, loss_fn, args):\n",
    "    trainloader = DataLoader(partition['train'],\n",
    "                             batch_size=args.batch_size,\n",
    "                             shuffle=False, drop_last=True)\n",
    "    model.train()\n",
    "    model.zero_grad()\n",
    "    optimizer.zero_grad()\n",
    "\n",
    "    bat_siz = args.batch_size\n",
    "    pred = []\n",
    "    true = []\n",
    "    pred_results = []\n",
    "    true_results = []\n",
    "    train_acc = 0.0\n",
    "    train_loss = 0.0\n",
    "    \n",
    "    for i, (X, y) in enumerate(trainloader):\n",
    "\n",
    "        X = X.transpose(0, 1).float().to(args.device)#파이토치는 순서가 달라서 바꿔줌\n",
    "        y_true = y[:, :, Colum].float().to(args.device)\n",
    "        model.zero_grad()\n",
    "        optimizer.zero_grad()\n",
    "        model.hidden = [hidden.to(args.device) for hidden in model.init_hidden()]\n",
    "\n",
    "        y_pred = model(X)\n",
    "        loss = loss_fn(y_pred.view(-1), y_true.view(-1))\n",
    "        loss.backward()\n",
    "        optimizer.step()\n",
    "\n",
    "        train_loss += loss.item()\n",
    "\n",
    "        pred.append(y_pred)\n",
    "        true.append(y_true)\n",
    "\n",
    "    # ==== test 데이터 시각화를 위해 x,y데이터 저장 (배치사이즈의 텐서들을 한개씩 추가해주기) ==== #\n",
    "    for i in range(len(trainloader)):\n",
    "        tems1 = pred[i].view(bat_siz).cpu().detach().numpy()\n",
    "        tems2 = true[i].view(bat_siz).cpu().detach().numpy()\n",
    "        \n",
    "        for j in range(bat_siz):\n",
    "            value1 = np.exp(DeNormalize(tems1[j], DownData, Colum, DownScaler))\n",
    "            value2 = np.exp(DeNormalize(tems2[j], DownData, Colum, DownScaler))\n",
    "            \n",
    "            pred_results.append(value1)\n",
    "            true_results.append(value2)\n",
    "    # ========================================================================== #   \n",
    "\n",
    "    train_loss = train_loss / len(trainloader)\n",
    "    train_acc1 = RMSE(np.array(true_results), np.array(pred_results))\n",
    "    train_acc2 = R2(np.array(true_results), np.array(pred_results))\n",
    "#     train_acc3 = (100 - MAPE(np.array(true_results), np.array(pred_results)))\n",
    "\n",
    "    return model, train_loss, train_acc1[0], train_acc2[0]"
   ]
  },
  {
   "cell_type": "code",
   "execution_count": 23,
   "metadata": {
    "colab": {},
    "colab_type": "code",
    "id": "JvAO-LVCdjgG"
   },
   "outputs": [],
   "source": [
    "def validate(model, partition, loss_fn, args):\n",
    "    valloader = DataLoader(partition['val'],\n",
    "                           batch_size=args.batch_size,\n",
    "                           shuffle=False, drop_last=True)\n",
    "    model.eval()\n",
    "\n",
    "    bat_siz = args.batch_size\n",
    "    pred = []\n",
    "    true = []\n",
    "    pred_results = []\n",
    "    true_results = []\n",
    "    val_acc = 0.0\n",
    "    val_loss = 0.0\n",
    "    \n",
    "    with torch.no_grad():\n",
    "        for i, (X, y) in enumerate(valloader):\n",
    "\n",
    "            X = X.transpose(0, 1).float().to(args.device)\n",
    "            y_true = y[:, :, Colum].float().to(args.device)\n",
    "            model.hidden = [hidden.to(args.device) for hidden in model.init_hidden()]\n",
    "\n",
    "            y_pred = model(X)\n",
    "            loss = loss_fn(y_pred.view(-1), y_true.view(-1))\n",
    "\n",
    "            val_loss += loss.item()\n",
    "\n",
    "            pred.append(y_pred)\n",
    "            true.append(y_true)\n",
    "\n",
    "    # ==== test 데이터 시각화를 위해 x,y데이터 저장 (배치사이즈의 텐서들을 한개씩 추가해주기) ==== #\n",
    "    for i in range(len(valloader)):\n",
    "        tems1 = pred[i].view(bat_siz).cpu().detach().numpy()\n",
    "        tems2 = true[i].view(bat_siz).cpu().detach().numpy()\n",
    "        \n",
    "        for j in range(bat_siz):\n",
    "            value1 = np.exp(DeNormalize(tems1[j], DownData, Colum, DownScaler))\n",
    "            value2 = np.exp(DeNormalize(tems2[j], DownData, Colum, DownScaler))\n",
    "            pred_results.append(value1)\n",
    "            true_results.append(value2)\n",
    "    # ========================================================================== #   \n",
    "    \n",
    "    val_loss = val_loss / len(valloader)\n",
    "    val_acc1 = RMSE(np.array(true_results), np.array(pred_results))\n",
    "    val_acc2 = R2(np.array(true_results), np.array(pred_results))\n",
    "#     val_acc3 = (100 - MAPE(np.array(true_results), np.array(pred_results)))\n",
    "\n",
    "    \n",
    "    return val_loss, val_acc1[0], val_acc2[0]"
   ]
  },
  {
   "cell_type": "code",
   "execution_count": 24,
   "metadata": {
    "colab": {},
    "colab_type": "code",
    "id": "LHWmu5EtdjXu"
   },
   "outputs": [],
   "source": [
    "def test(model, partition, args):\n",
    "    testloader = DataLoader(partition['test'],\n",
    "                           batch_size=args.batch_size,\n",
    "                           shuffle=False, drop_last=True)\n",
    "    model.eval()\n",
    "\n",
    "    bat_siz = args.batch_size\n",
    "    pred = []\n",
    "    true = []\n",
    "    pred_results = []\n",
    "    true_results = []\n",
    "    test_acc = 0.0\n",
    "    \n",
    "    with torch.no_grad():\n",
    "        for i, (X, y) in enumerate(testloader):\n",
    "            X = X.transpose(0, 1).float().to(args.device)\n",
    "            y_true = y[:, :, Colum].float().to(args.device)\n",
    "            model.hidden = [hidden.to(args.device) for hidden in model.init_hidden()]\n",
    "\n",
    "            y_pred = model(X)\n",
    "\n",
    "            pred.append(y_pred)\n",
    "            true.append(y_true)\n",
    "\n",
    "    # ==== test 데이터 시각화를 위해 x,y데이터 저장 ==== #\n",
    "    for i in range(len(testloader)):\n",
    "        tems1 = pred[i].view(bat_siz).cpu().detach().numpy()\n",
    "        tems2 = true[i].view(bat_siz).cpu().detach().numpy()\n",
    "        \n",
    "        for j in range(bat_siz):\n",
    "            value1 = np.exp(DeNormalize(tems1[j], DownData, Colum, DownScaler))\n",
    "            value2 = np.exp(DeNormalize(tems2[j], DownData, Colum, DownScaler))\n",
    "            \n",
    "            pred_results.append(value1)\n",
    "            true_results.append(value2)\n",
    "    # ========================================== #   \n",
    "\n",
    "    test_acc1 =  RMSE(np.array( true_results), np.array(pred_results))\n",
    "    test_acc2 =  R2(np.array( true_results), np.array(pred_results))\n",
    "#     test_acc3 =  (100 - MAPE(np.array( true_results), np.array(pred_results)))\n",
    "    \n",
    "    return test_acc1[0], test_acc2[0], pred_results, true_results"
   ]
  },
  {
   "cell_type": "code",
   "execution_count": 25,
   "metadata": {},
   "outputs": [],
   "source": [
    "def test_edit(model):\n",
    "    testloader = DataLoader(testset,\n",
    "                           batch_size=8,\n",
    "                           shuffle=False, drop_last=True)\n",
    "    print('start')\n",
    "    model.eval()\n",
    "\n",
    "    bat_siz = 8\n",
    "    pred = []\n",
    "    true = []\n",
    "    pred_results = []\n",
    "    true_results = []\n",
    "    test_acc = 0.0\n",
    "    \n",
    "    with torch.no_grad():\n",
    "        for i, (X, y) in enumerate(testloader):\n",
    "            X = X.transpose(0, 1).float().to(args.device)\n",
    "            y_true = y[:, :, Colum].float().to(args.device)\n",
    "            model.hidden = [hidden.to(args.device) for hidden in model.init_hidden()]\n",
    "\n",
    "            y_pred = model(X)\n",
    "\n",
    "            pred.append(y_pred)\n",
    "            true.append(y_true)\n",
    "\n",
    "    # ==== test 데이터 시각화를 위해 x,y데이터 저장 ==== #\n",
    "    for i in range(len(testloader)):\n",
    "        tems1 = pred[i].view(bat_siz).cpu().detach().numpy()\n",
    "        tems2 = true[i].view(bat_siz).cpu().detach().numpy()\n",
    "        \n",
    "        for j in range(bat_siz):\n",
    "            value1 = np.exp(DeNormalize(tems1[j], DownData, Colum, DownScaler))\n",
    "            value2 = np.exp(DeNormalize(tems2[j], DownData, Colum, DownScaler))\n",
    "            \n",
    "            pred_results.append(value1)\n",
    "            true_results.append(value2)\n",
    "    # ========================================== #   \n",
    "\n",
    "    test_acc1 =  RMSE(np.array( true_results), np.array(pred_results))\n",
    "    test_acc2 =  R2(np.array( true_results), np.array(pred_results))\n",
    "#     test_acc3 =  (100 - MAPE(np.array( true_results), np.array(pred_results)))\n",
    "    print('end')\n",
    "    \n",
    "    return test_acc1[0], test_acc2[0], pred_results, true_results"
   ]
  },
  {
   "cell_type": "markdown",
   "metadata": {
    "colab_type": "text",
    "id": "vkkF0-qmeOMq"
   },
   "source": [
    "# 5. Experiment"
   ]
  },
  {
   "cell_type": "code",
   "execution_count": 31,
   "metadata": {
    "colab": {},
    "colab_type": "code",
    "id": "-EOe2j_udjNv"
   },
   "outputs": [],
   "source": [
    "def experiment(partition, args):\n",
    "\n",
    "#     model = LSTM(args.input_dim, args.hid_dim, args.y_frames, args.n_layers, args.batch_size, args.dropout, args.use_bn)\n",
    "    model = LSTM_edit()\n",
    "    model.to(args.device)\n",
    "#     loss_fn = torch.nn.MSELoss() ##loss는 mse를 사용\n",
    "#     loss_fn = nn.MSELoss()\n",
    "    \n",
    "    if args.loss == 'MSELoss':\n",
    "        loss_fn = torch.nn.MSELoss()\n",
    "        loss_fn = nn.MSELoss()\n",
    "    elif args.loss == 'L1Loss':\n",
    "        loss_fn = torch.nn.L1Loss()\n",
    "        loss_fn = nn.L1Loss()\n",
    "    elif args.loss == 'PoissonNLLLoss':\n",
    "        loss_fn = torch.nn.PoissonNLLLoss()\n",
    "        loss_fn = nn.PoissonNLLLoss()\n",
    "    elif args.loss == 'KLDivLoss':\n",
    "        loss_fn = torch.nn.KLDivLoss()\n",
    "        loss_fn = nn.KLDivLoss()\n",
    "    elif args.loss == 'BCELoss':\n",
    "        loss_fn = torch.nn.BCELoss()\n",
    "        loss_fn = nn.BCELoss()\n",
    "    elif args.loss == 'BCEWithLogitsLoss':\n",
    "        loss_fn = torch.nn.BCEWithLogitsLoss()\n",
    "        loss_fn = nn.BCEWithLogitsLoss()\n",
    "    else:\n",
    "        raise ValueError('In-valid LossFuction choice')\n",
    "    \n",
    "    \n",
    "    \n",
    "    if args.optim == 'SGD':\n",
    "        optimizer = optim.SGD(model.parameters(), lr=args.lr, weight_decay=args.l2)\n",
    "    elif args.optim == 'RMSprop':\n",
    "        optimizer = optim.RMSprop(model.parameters(), lr=args.lr, weight_decay=args.l2)\n",
    "    elif args.optim == 'Adam':\n",
    "        optimizer = optim.Adam(model.parameters(), lr=args.lr, weight_decay=args.l2)\n",
    "    else:\n",
    "        raise ValueError('In-valid optimizer choice')\n",
    "    \n",
    "    # ===== List for epoch-wise data ====== #\n",
    "    train_losses = []\n",
    "    val_losses = []\n",
    "    train_accs_RMSE = []\n",
    "    train_accs_R2 = []\n",
    "    val_accs_RMSE = []\n",
    "    val_accs_R2 = []\n",
    "    axis = []\n",
    "    # ===================================== #\n",
    "    \n",
    "    ## model starting point ##    \n",
    "    ts = time.time()\n",
    "    model, train_loss, train_acc_RMSE, train_acc_R2 = train(model, partition, optimizer, loss_fn, args)\n",
    "    val_loss, val_acc_RMSE, val_acc_R2 = validate(model, partition, loss_fn, args)\n",
    "    te = time.time()\n",
    "\n",
    "    # ====== Add Epoch Data ====== #\n",
    "    train_losses.append(train_loss)\n",
    "    val_losses.append(val_loss)\n",
    "    train_accs_RMSE.append(train_acc_RMSE)\n",
    "    val_accs_RMSE.append(val_acc_RMSE)\n",
    "    train_accs_R2.append(train_acc_R2)\n",
    "    val_accs_R2.append(val_acc_R2)\n",
    "    # ============================ #\n",
    "\n",
    "    # # ===== Visdom visualizing ================================================================================== #\n",
    "    axis.append(0)\n",
    "    \n",
    "    plot1 = vis.line(Y=torch.cat((torch.Tensor(train_losses).view(-1,1), torch.Tensor(val_losses).view(-1,1)), -1),\n",
    "                     X=torch.cat((torch.Tensor(axis).view(-1,1), torch.Tensor(axis).view(-1,1)), -1),\n",
    "                     opts=dict(title='exp_{}_loss'.format(num), legend=['train_loss','val_loss'], showlegend=True))\n",
    "    \n",
    "    plot2 = vis.line(Y=torch.cat((torch.Tensor(train_accs_RMSE).view(-1,1), torch.Tensor(val_accs_RMSE).view(-1,1)), -1),\n",
    "                     X=torch.cat((torch.Tensor(axis).view(-1,1), torch.Tensor(axis).view(-1,1)), -1),\n",
    "                     opts=dict(title='exp_{}_acc_RMSE'.format(num), legend=['train_acc','val_acc'], showlegend=True))\n",
    "    \n",
    "    plot3 = vis.line(Y=torch.cat((torch.Tensor(train_accs_R2).view(-1,1), torch.Tensor(val_accs_R2).view(-1,1)), -1),\n",
    "                     X=torch.cat((torch.Tensor(axis).view(-1,1), torch.Tensor(axis).view(-1,1)), -1),\n",
    "                     opts=dict(title='exp_{}_acc_R2'.format(num), legend=['train_acc','val_acc'], showlegend=True))    \n",
    "    # # =========================================================================================================== #\n",
    "    \n",
    "    print('Epoch {}, Acc_RMSE(train/val): {:2.2f}/{:2.2f}, Loss(train/val) {:2.5f}/{:2.5f}. Took {:2.2f} sec'\n",
    "          .format(0, train_acc_RMSE, val_acc_RMSE, train_loss, val_loss, te-ts))\n",
    "    \n",
    "    for epoch in range(args.epoch-1):  # loop over the dataset multiple times\n",
    "        \n",
    "        ts = time.time()\n",
    "        model, train_loss, train_acc_RMSE, train_acc_R2 = train(model, partition, optimizer, loss_fn, args)\n",
    "        val_loss, val_acc_RMSE, val_acc_R2 = validate(model, partition, loss_fn, args)\n",
    "        te = time.time()\n",
    "\n",
    "        # ====== Add Epoch Data ====== #\n",
    "        train_losses.append(train_loss)\n",
    "        val_losses.append(val_loss)\n",
    "        train_accs_RMSE.append(train_acc_RMSE)\n",
    "        val_accs_RMSE.append(val_acc_RMSE)\n",
    "        train_accs_R2.append(train_acc_R2)\n",
    "        val_accs_R2.append(val_acc_R2)\n",
    "        # ============================ #\n",
    "\n",
    "        # # ===== Visdom visualizing ============================================================================== #\n",
    "        axis.append(epoch+1)\n",
    "        \n",
    "        vis.line(Y=torch.cat((torch.Tensor(train_losses).view(-1,1), torch.Tensor(val_losses).view(-1,1)), -1),\n",
    "                 X=torch.cat((torch.Tensor(axis).view(-1,1), torch.Tensor(axis).view(-1,1)), -1),\n",
    "                 win=plot1, update='replace')\n",
    "        \n",
    "        vis.line(Y=torch.cat((torch.Tensor(train_accs_RMSE).view(-1,1), torch.Tensor(val_accs_RMSE).view(-1,1)), -1),\n",
    "                 X=torch.cat((torch.Tensor(axis).view(-1,1), torch.Tensor(axis).view(-1,1)), -1),\n",
    "                 win=plot2, update='replace')\n",
    "        \n",
    "        vis.line(Y=torch.cat((torch.Tensor(train_accs_R2).view(-1,1), torch.Tensor(val_accs_R2).view(-1,1)), -1),\n",
    "                 X=torch.cat((torch.Tensor(axis).view(-1,1), torch.Tensor(axis).view(-1,1)), -1),\n",
    "                 win=plot3, update='replace')\n",
    "        # # ====================================================================================================== #\n",
    "        \n",
    "        print('Epoch {}, Acc_RMSE(train/val): {:2.2f}/{:2.2f}, Loss(train/val) {:2.5f}/{:2.5f}. Took {:2.2f} sec'\n",
    "              .format(epoch+1, train_acc_RMSE, val_acc_RMSE, train_loss, val_loss, te-ts))\n",
    "        \n",
    "    test_acc_RMSE, test_acc_R2, Pred_data, True_data = test(model, partition, args)\n",
    "    \n",
    "    # ======= Add Result to Dictionary ======= #\n",
    "    result = {}\n",
    "    result['train_losses'] = train_losses\n",
    "    result['val_losses'] = val_losses\n",
    "    \n",
    "    result['train_accs_RMSE'] = train_accs_RMSE\n",
    "    result['train_accs_R2'] = train_accs_R2\n",
    "    result['val_accs_RMSE'] = val_accs_RMSE\n",
    "    result['val_accs_R2'] = val_accs_R2\n",
    "#     result['train_acc'] = train_acc\n",
    "#     result['val_acc'] = val_acc\n",
    "    result['test_RMSE'] = test_acc_RMSE\n",
    "    result['test_R2'] = test_acc_R2\n",
    "    \n",
    "    result['test_pred'] = Pred_data\n",
    "    result['test_true'] = True_data\n",
    "    \n",
    "    network = model\n",
    "    torch.save(network.state_dict(),'lstm05.pt')\n",
    "    return result"
   ]
  },
  {
   "cell_type": "markdown",
   "metadata": {
    "colab_type": "text",
    "id": "FNi-f5HyeJYi"
   },
   "source": [
    "# 6. LSTM Run"
   ]
  },
  {
   "cell_type": "code",
   "execution_count": 32,
   "metadata": {
    "colab": {},
    "colab_type": "code",
    "id": "X4Bu6kFUdizj"
   },
   "outputs": [
    {
     "name": "stdout",
     "output_type": "stream",
     "text": [
      "size of trainset :212 size of valset :45 size of testset :45\n",
      "\n",
      " exp_1\n",
      "loseFunc = MSELoss, optim=Adam, x_frames=4, n_layers=2, batch_size=8, hid_dim=32, epoch=127, lr=0.0001, l2=0.001, dropout=0.1, use_bn=False\n",
      "Epoch 0, Acc_RMSE(train/val): 0.04/0.04, Loss(train/val) 0.10150/0.08615. Took 0.34 sec\n",
      "Epoch 1, Acc_RMSE(train/val): 0.04/0.04, Loss(train/val) 0.09078/0.07722. Took 0.36 sec\n",
      "Epoch 2, Acc_RMSE(train/val): 0.04/0.04, Loss(train/val) 0.08117/0.06874. Took 0.35 sec\n",
      "Epoch 3, Acc_RMSE(train/val): 0.04/0.03, Loss(train/val) 0.07156/0.06148. Took 0.35 sec\n",
      "Epoch 4, Acc_RMSE(train/val): 0.04/0.03, Loss(train/val) 0.06321/0.05527. Took 0.35 sec\n",
      "Epoch 5, Acc_RMSE(train/val): 0.03/0.03, Loss(train/val) 0.05576/0.05012. Took 0.35 sec\n",
      "Epoch 6, Acc_RMSE(train/val): 0.03/0.03, Loss(train/val) 0.05037/0.04629. Took 0.36 sec\n",
      "Epoch 7, Acc_RMSE(train/val): 0.03/0.03, Loss(train/val) 0.04477/0.04389. Took 0.36 sec\n",
      "Epoch 8, Acc_RMSE(train/val): 0.03/0.03, Loss(train/val) 0.04223/0.04282. Took 0.37 sec\n",
      "Epoch 9, Acc_RMSE(train/val): 0.03/0.03, Loss(train/val) 0.04037/0.04237. Took 0.36 sec\n",
      "Epoch 10, Acc_RMSE(train/val): 0.03/0.03, Loss(train/val) 0.03919/0.04220. Took 0.36 sec\n",
      "Epoch 11, Acc_RMSE(train/val): 0.03/0.03, Loss(train/val) 0.03759/0.04212. Took 0.36 sec\n",
      "Epoch 12, Acc_RMSE(train/val): 0.03/0.03, Loss(train/val) 0.03866/0.04207. Took 0.37 sec\n",
      "Epoch 13, Acc_RMSE(train/val): 0.03/0.03, Loss(train/val) 0.03759/0.04198. Took 0.36 sec\n",
      "Epoch 14, Acc_RMSE(train/val): 0.03/0.03, Loss(train/val) 0.03696/0.04186. Took 0.36 sec\n",
      "Epoch 15, Acc_RMSE(train/val): 0.03/0.03, Loss(train/val) 0.03753/0.04176. Took 0.37 sec\n",
      "Epoch 16, Acc_RMSE(train/val): 0.03/0.03, Loss(train/val) 0.03625/0.04164. Took 0.36 sec\n",
      "Epoch 17, Acc_RMSE(train/val): 0.03/0.03, Loss(train/val) 0.03706/0.04154. Took 0.36 sec\n",
      "Epoch 18, Acc_RMSE(train/val): 0.03/0.03, Loss(train/val) 0.03570/0.04134. Took 0.36 sec\n",
      "Epoch 19, Acc_RMSE(train/val): 0.03/0.03, Loss(train/val) 0.03608/0.04116. Took 0.35 sec\n",
      "Epoch 20, Acc_RMSE(train/val): 0.03/0.03, Loss(train/val) 0.03661/0.04094. Took 0.36 sec\n",
      "Epoch 21, Acc_RMSE(train/val): 0.03/0.03, Loss(train/val) 0.03574/0.04061. Took 0.35 sec\n",
      "Epoch 22, Acc_RMSE(train/val): 0.03/0.03, Loss(train/val) 0.03555/0.04034. Took 0.36 sec\n",
      "Epoch 23, Acc_RMSE(train/val): 0.03/0.03, Loss(train/val) 0.03547/0.04000. Took 0.35 sec\n",
      "Epoch 24, Acc_RMSE(train/val): 0.03/0.03, Loss(train/val) 0.03479/0.03969. Took 0.36 sec\n",
      "Epoch 25, Acc_RMSE(train/val): 0.03/0.03, Loss(train/val) 0.03515/0.03932. Took 0.35 sec\n",
      "Epoch 26, Acc_RMSE(train/val): 0.03/0.03, Loss(train/val) 0.03527/0.03905. Took 0.35 sec\n",
      "Epoch 27, Acc_RMSE(train/val): 0.03/0.03, Loss(train/val) 0.03515/0.03878. Took 0.35 sec\n",
      "Epoch 28, Acc_RMSE(train/val): 0.03/0.03, Loss(train/val) 0.03461/0.03852. Took 0.36 sec\n",
      "Epoch 29, Acc_RMSE(train/val): 0.03/0.03, Loss(train/val) 0.03403/0.03824. Took 0.35 sec\n",
      "Epoch 30, Acc_RMSE(train/val): 0.03/0.03, Loss(train/val) 0.03497/0.03801. Took 0.35 sec\n",
      "Epoch 31, Acc_RMSE(train/val): 0.03/0.03, Loss(train/val) 0.03370/0.03776. Took 0.36 sec\n",
      "Epoch 32, Acc_RMSE(train/val): 0.03/0.03, Loss(train/val) 0.03382/0.03745. Took 0.36 sec\n",
      "Epoch 33, Acc_RMSE(train/val): 0.03/0.03, Loss(train/val) 0.03380/0.03713. Took 0.36 sec\n",
      "Epoch 34, Acc_RMSE(train/val): 0.03/0.03, Loss(train/val) 0.03355/0.03683. Took 0.37 sec\n",
      "Epoch 35, Acc_RMSE(train/val): 0.03/0.03, Loss(train/val) 0.03392/0.03652. Took 0.35 sec\n",
      "Epoch 36, Acc_RMSE(train/val): 0.03/0.03, Loss(train/val) 0.03300/0.03620. Took 0.37 sec\n",
      "Epoch 37, Acc_RMSE(train/val): 0.03/0.03, Loss(train/val) 0.03278/0.03589. Took 0.36 sec\n",
      "Epoch 38, Acc_RMSE(train/val): 0.03/0.03, Loss(train/val) 0.03182/0.03560. Took 0.35 sec\n",
      "Epoch 39, Acc_RMSE(train/val): 0.03/0.03, Loss(train/val) 0.03229/0.03527. Took 0.35 sec\n",
      "Epoch 40, Acc_RMSE(train/val): 0.03/0.03, Loss(train/val) 0.03205/0.03491. Took 0.35 sec\n",
      "Epoch 41, Acc_RMSE(train/val): 0.03/0.03, Loss(train/val) 0.03146/0.03454. Took 0.35 sec\n",
      "Epoch 42, Acc_RMSE(train/val): 0.03/0.03, Loss(train/val) 0.03200/0.03422. Took 0.35 sec\n",
      "Epoch 43, Acc_RMSE(train/val): 0.03/0.03, Loss(train/val) 0.03085/0.03387. Took 0.35 sec\n",
      "Epoch 44, Acc_RMSE(train/val): 0.03/0.03, Loss(train/val) 0.03043/0.03348. Took 0.36 sec\n",
      "Epoch 45, Acc_RMSE(train/val): 0.03/0.03, Loss(train/val) 0.03045/0.03309. Took 0.36 sec\n",
      "Epoch 46, Acc_RMSE(train/val): 0.03/0.03, Loss(train/val) 0.03028/0.03270. Took 0.36 sec\n",
      "Epoch 47, Acc_RMSE(train/val): 0.03/0.03, Loss(train/val) 0.03017/0.03236. Took 0.36 sec\n",
      "Epoch 48, Acc_RMSE(train/val): 0.03/0.02, Loss(train/val) 0.03064/0.03198. Took 0.35 sec\n",
      "Epoch 49, Acc_RMSE(train/val): 0.03/0.02, Loss(train/val) 0.02850/0.03156. Took 0.36 sec\n",
      "Epoch 50, Acc_RMSE(train/val): 0.03/0.02, Loss(train/val) 0.02973/0.03114. Took 0.35 sec\n",
      "Epoch 51, Acc_RMSE(train/val): 0.03/0.02, Loss(train/val) 0.02992/0.03075. Took 0.35 sec\n",
      "Epoch 52, Acc_RMSE(train/val): 0.03/0.02, Loss(train/val) 0.02910/0.03035. Took 0.36 sec\n",
      "Epoch 53, Acc_RMSE(train/val): 0.03/0.02, Loss(train/val) 0.02915/0.02999. Took 0.36 sec\n",
      "Epoch 54, Acc_RMSE(train/val): 0.03/0.02, Loss(train/val) 0.02814/0.02961. Took 0.35 sec\n",
      "Epoch 55, Acc_RMSE(train/val): 0.03/0.02, Loss(train/val) 0.02829/0.02922. Took 0.35 sec\n",
      "Epoch 56, Acc_RMSE(train/val): 0.03/0.02, Loss(train/val) 0.02795/0.02881. Took 0.36 sec\n",
      "Epoch 57, Acc_RMSE(train/val): 0.03/0.02, Loss(train/val) 0.02715/0.02850. Took 0.36 sec\n",
      "Epoch 58, Acc_RMSE(train/val): 0.03/0.02, Loss(train/val) 0.02766/0.02820. Took 0.36 sec\n",
      "Epoch 59, Acc_RMSE(train/val): 0.03/0.02, Loss(train/val) 0.02802/0.02779. Took 0.36 sec\n",
      "Epoch 60, Acc_RMSE(train/val): 0.03/0.02, Loss(train/val) 0.02851/0.02743. Took 0.35 sec\n",
      "Epoch 61, Acc_RMSE(train/val): 0.03/0.02, Loss(train/val) 0.02724/0.02711. Took 0.35 sec\n",
      "Epoch 62, Acc_RMSE(train/val): 0.03/0.02, Loss(train/val) 0.02792/0.02679. Took 0.36 sec\n",
      "Epoch 63, Acc_RMSE(train/val): 0.03/0.02, Loss(train/val) 0.02660/0.02642. Took 0.35 sec\n",
      "Epoch 64, Acc_RMSE(train/val): 0.03/0.02, Loss(train/val) 0.02630/0.02615. Took 0.35 sec\n",
      "Epoch 65, Acc_RMSE(train/val): 0.03/0.02, Loss(train/val) 0.02666/0.02586. Took 0.37 sec\n",
      "Epoch 66, Acc_RMSE(train/val): 0.03/0.02, Loss(train/val) 0.02720/0.02560. Took 0.35 sec\n",
      "Epoch 67, Acc_RMSE(train/val): 0.03/0.02, Loss(train/val) 0.02604/0.02537. Took 0.35 sec\n",
      "Epoch 68, Acc_RMSE(train/val): 0.03/0.02, Loss(train/val) 0.02666/0.02519. Took 0.35 sec\n",
      "Epoch 69, Acc_RMSE(train/val): 0.02/0.02, Loss(train/val) 0.02592/0.02496. Took 0.35 sec\n",
      "Epoch 70, Acc_RMSE(train/val): 0.02/0.02, Loss(train/val) 0.02594/0.02470. Took 0.36 sec\n",
      "Epoch 71, Acc_RMSE(train/val): 0.02/0.02, Loss(train/val) 0.02538/0.02454. Took 0.35 sec\n",
      "Epoch 72, Acc_RMSE(train/val): 0.02/0.02, Loss(train/val) 0.02603/0.02438. Took 0.35 sec\n",
      "Epoch 73, Acc_RMSE(train/val): 0.02/0.02, Loss(train/val) 0.02522/0.02420. Took 0.36 sec\n",
      "Epoch 74, Acc_RMSE(train/val): 0.02/0.02, Loss(train/val) 0.02561/0.02408. Took 0.35 sec\n",
      "Epoch 75, Acc_RMSE(train/val): 0.02/0.02, Loss(train/val) 0.02517/0.02396. Took 0.35 sec\n",
      "Epoch 76, Acc_RMSE(train/val): 0.02/0.02, Loss(train/val) 0.02510/0.02381. Took 0.35 sec\n",
      "Epoch 77, Acc_RMSE(train/val): 0.02/0.02, Loss(train/val) 0.02455/0.02373. Took 0.35 sec\n",
      "Epoch 78, Acc_RMSE(train/val): 0.02/0.02, Loss(train/val) 0.02519/0.02366. Took 0.35 sec\n",
      "Epoch 79, Acc_RMSE(train/val): 0.02/0.02, Loss(train/val) 0.02481/0.02357. Took 0.35 sec\n",
      "Epoch 80, Acc_RMSE(train/val): 0.02/0.02, Loss(train/val) 0.02575/0.02345. Took 0.36 sec\n",
      "Epoch 81, Acc_RMSE(train/val): 0.02/0.02, Loss(train/val) 0.02524/0.02335. Took 0.35 sec\n",
      "Epoch 82, Acc_RMSE(train/val): 0.02/0.02, Loss(train/val) 0.02480/0.02328. Took 0.35 sec\n",
      "Epoch 83, Acc_RMSE(train/val): 0.02/0.02, Loss(train/val) 0.02462/0.02322. Took 0.35 sec\n",
      "Epoch 84, Acc_RMSE(train/val): 0.02/0.02, Loss(train/val) 0.02459/0.02315. Took 0.35 sec\n",
      "Epoch 85, Acc_RMSE(train/val): 0.02/0.02, Loss(train/val) 0.02400/0.02313. Took 0.35 sec\n",
      "Epoch 86, Acc_RMSE(train/val): 0.02/0.02, Loss(train/val) 0.02482/0.02305. Took 0.34 sec\n",
      "Epoch 87, Acc_RMSE(train/val): 0.02/0.02, Loss(train/val) 0.02481/0.02301. Took 0.35 sec\n",
      "Epoch 88, Acc_RMSE(train/val): 0.02/0.02, Loss(train/val) 0.02469/0.02296. Took 0.35 sec\n",
      "Epoch 89, Acc_RMSE(train/val): 0.02/0.02, Loss(train/val) 0.02527/0.02295. Took 0.35 sec\n"
     ]
    },
    {
     "name": "stdout",
     "output_type": "stream",
     "text": [
      "Epoch 90, Acc_RMSE(train/val): 0.02/0.02, Loss(train/val) 0.02514/0.02285. Took 0.36 sec\n",
      "Epoch 91, Acc_RMSE(train/val): 0.02/0.02, Loss(train/val) 0.02482/0.02277. Took 0.38 sec\n",
      "Epoch 92, Acc_RMSE(train/val): 0.02/0.02, Loss(train/val) 0.02491/0.02279. Took 0.36 sec\n",
      "Epoch 93, Acc_RMSE(train/val): 0.02/0.02, Loss(train/val) 0.02480/0.02281. Took 0.35 sec\n",
      "Epoch 94, Acc_RMSE(train/val): 0.02/0.02, Loss(train/val) 0.02449/0.02272. Took 0.36 sec\n",
      "Epoch 95, Acc_RMSE(train/val): 0.02/0.02, Loss(train/val) 0.02543/0.02270. Took 0.35 sec\n",
      "Epoch 96, Acc_RMSE(train/val): 0.02/0.02, Loss(train/val) 0.02403/0.02265. Took 0.35 sec\n",
      "Epoch 97, Acc_RMSE(train/val): 0.02/0.02, Loss(train/val) 0.02501/0.02263. Took 0.35 sec\n",
      "Epoch 98, Acc_RMSE(train/val): 0.02/0.02, Loss(train/val) 0.02423/0.02258. Took 0.35 sec\n",
      "Epoch 99, Acc_RMSE(train/val): 0.02/0.02, Loss(train/val) 0.02396/0.02256. Took 0.36 sec\n",
      "Epoch 100, Acc_RMSE(train/val): 0.02/0.02, Loss(train/val) 0.02447/0.02251. Took 0.36 sec\n",
      "Epoch 101, Acc_RMSE(train/val): 0.02/0.02, Loss(train/val) 0.02383/0.02248. Took 0.36 sec\n",
      "Epoch 102, Acc_RMSE(train/val): 0.02/0.02, Loss(train/val) 0.02410/0.02250. Took 0.36 sec\n",
      "Epoch 103, Acc_RMSE(train/val): 0.02/0.02, Loss(train/val) 0.02365/0.02246. Took 0.35 sec\n",
      "Epoch 104, Acc_RMSE(train/val): 0.02/0.02, Loss(train/val) 0.02414/0.02243. Took 0.35 sec\n",
      "Epoch 105, Acc_RMSE(train/val): 0.02/0.02, Loss(train/val) 0.02407/0.02237. Took 0.35 sec\n",
      "Epoch 106, Acc_RMSE(train/val): 0.02/0.02, Loss(train/val) 0.02417/0.02234. Took 0.35 sec\n",
      "Epoch 107, Acc_RMSE(train/val): 0.02/0.02, Loss(train/val) 0.02390/0.02238. Took 0.34 sec\n",
      "Epoch 108, Acc_RMSE(train/val): 0.02/0.02, Loss(train/val) 0.02372/0.02233. Took 0.35 sec\n",
      "Epoch 109, Acc_RMSE(train/val): 0.02/0.02, Loss(train/val) 0.02317/0.02234. Took 0.36 sec\n",
      "Epoch 110, Acc_RMSE(train/val): 0.02/0.02, Loss(train/val) 0.02366/0.02237. Took 0.35 sec\n",
      "Epoch 111, Acc_RMSE(train/val): 0.02/0.02, Loss(train/val) 0.02294/0.02240. Took 0.35 sec\n",
      "Epoch 112, Acc_RMSE(train/val): 0.02/0.02, Loss(train/val) 0.02317/0.02236. Took 0.35 sec\n",
      "Epoch 113, Acc_RMSE(train/val): 0.02/0.02, Loss(train/val) 0.02298/0.02235. Took 0.35 sec\n",
      "Epoch 114, Acc_RMSE(train/val): 0.02/0.02, Loss(train/val) 0.02449/0.02234. Took 0.35 sec\n",
      "Epoch 115, Acc_RMSE(train/val): 0.02/0.02, Loss(train/val) 0.02382/0.02230. Took 0.35 sec\n",
      "Epoch 116, Acc_RMSE(train/val): 0.02/0.02, Loss(train/val) 0.02388/0.02225. Took 0.36 sec\n",
      "Epoch 117, Acc_RMSE(train/val): 0.02/0.02, Loss(train/val) 0.02322/0.02224. Took 0.36 sec\n",
      "Epoch 118, Acc_RMSE(train/val): 0.02/0.02, Loss(train/val) 0.02341/0.02222. Took 0.36 sec\n",
      "Epoch 119, Acc_RMSE(train/val): 0.02/0.02, Loss(train/val) 0.02340/0.02226. Took 0.35 sec\n",
      "Epoch 120, Acc_RMSE(train/val): 0.02/0.02, Loss(train/val) 0.02309/0.02227. Took 0.35 sec\n",
      "Epoch 121, Acc_RMSE(train/val): 0.02/0.02, Loss(train/val) 0.02357/0.02226. Took 0.36 sec\n",
      "Epoch 122, Acc_RMSE(train/val): 0.02/0.02, Loss(train/val) 0.02302/0.02225. Took 0.36 sec\n",
      "Epoch 123, Acc_RMSE(train/val): 0.02/0.02, Loss(train/val) 0.02239/0.02226. Took 0.35 sec\n",
      "Epoch 124, Acc_RMSE(train/val): 0.02/0.02, Loss(train/val) 0.02382/0.02219. Took 0.36 sec\n",
      "Epoch 125, Acc_RMSE(train/val): 0.02/0.02, Loss(train/val) 0.02372/0.02222. Took 0.36 sec\n",
      "Epoch 126, Acc_RMSE(train/val): 0.02/0.02, Loss(train/val) 0.02316/0.02222. Took 0.35 sec\n",
      "All done\n"
     ]
    }
   ],
   "source": [
    "# ====== Random Seed Initialization ====== #\n",
    "seed = 666\n",
    "np.random.seed(seed)\n",
    "torch.manual_seed(seed)\n",
    "\n",
    "parser = argparse.ArgumentParser()\n",
    "args = parser.parse_args(\"\")\n",
    "\n",
    "args.device = 'cuda' if torch.cuda.is_available() else 'cpu'\n",
    "\n",
    "# ====== Data Loading ====== #\n",
    "# args.batch_size = 8 # 2~8\n",
    "args.UpData = UpData\n",
    "args.DownData = DownData\n",
    "args.x_frames = 4\n",
    "args.y_frames = 1\n",
    "\n",
    "# ====== Model Capacity ===== #\n",
    "args.input_dim = len(UpData.columns)\n",
    "args.hid_dim = 32\n",
    "args.n_layers = 2\n",
    "\n",
    "# ====== Regularization ======= #\n",
    "args.l2 = 0.001\n",
    "args.dropout = 0.1 \n",
    "args.use_bn = False\n",
    "\n",
    "# ====== Optimizer & Training ====== #\n",
    "args.optim = 'Adam'  #SGD, RMSprop, Adam...\n",
    "args.loss = 'MSELoss'#'MSELoss','L1Loss','PoissonNLLLoss','KLDivLoss','BCELoss','BCEWithLogitsLoss'\n",
    "args.lr = 0.0001\n",
    "args.epoch = 600\n",
    "\n",
    "\n",
    "# ====== Experiment Variable ====== #\n",
    "name_var1 = 'hid_dim'\n",
    "name_var2 = 'batch_size'\n",
    "name_var3 = 'n_layers'\n",
    "name_var4 = 'lr'\n",
    "name_var5 = 'epoch'\n",
    "list_var1 = [32]\n",
    "list_var2 = [8]\n",
    "list_var3 = [2]\n",
    "list_var4 = [0.0001]\n",
    "list_var5 = [127]\n",
    "\n",
    "\n",
    "num = 0 #초기화\n",
    "\n",
    "\n",
    "trainset = RiverDataset(args.UpData, args.DownData, args.x_frames, args.y_frames, '2013-01-01', '2018-06-30')\n",
    "valset = RiverDataset(args.UpData, args.DownData, args.x_frames, args.y_frames, '2018-07-01', '2019-12-31')\n",
    "testset = RiverDataset(args.UpData, args.DownData, args.x_frames, args.y_frames, '2018-07-01', '2019-12-31')\n",
    "partition = {'train': trainset, 'val':valset, 'test':testset}\n",
    "\n",
    "\n",
    "print('size of trainset :{}'.format(len(trainset)),\n",
    "      'size of valset :{}'.format(len(valset)),\n",
    "      'size of testset :{}'.format(len(testset)))\n",
    "\n",
    "for var1 in list_var1:\n",
    "    for var2 in list_var2:\n",
    "        for var3 in list_var3:\n",
    "            for var4 in list_var4:\n",
    "                for var5 in list_var5:\n",
    "                    num += 1\n",
    "                    setattr(args, name_var1, var1)\n",
    "                    setattr(args, name_var2, var2)\n",
    "                    setattr(args, name_var3, var3)\n",
    "                    setattr(args, name_var4, var4)\n",
    "                    setattr(args, name_var5, var5)\n",
    "                    print('\\n exp_{}'.format(num))\n",
    "                    print('loseFunc = {}, optim={}, x_frames={}, n_layers={}, batch_size={}, hid_dim={}, epoch={}, lr={}, l2={}, dropout={}, use_bn={}'\n",
    "                          .format(args.loss,args.optim,args.x_frames,args.n_layers,args.batch_size,args.hid_dim,args.epoch,args.lr,args.l2,args.dropout,args.use_bn))     \n",
    "\n",
    "                    result = experiment(partition, deepcopy(args))\n",
    "\n",
    "            #         print('train_acc_RMSE = {:2.2f}%, val_acc_RMSE = {:2.2f}%, test_RMSE = {:2.2f}%, test_R2 = {:2.2f}%'\n",
    "            #               .format(result['train_acc_RMSE'],result['val_acc_RMSE'],result['test_RMSE'],result['test_R2']))\n",
    "\n",
    "                    vis.text('loseFunc = {}, optim={}, x_frames={}, n_layers={}, batch_size={}, hid_dim={}, epoch={}, lr={}, l2={}, dropout={}, use_bn={}'\n",
    "                             .format(args.loss,args.optim,args.x_frames,args.n_layers,args.batch_size,args.hid_dim,args.epoch,args.lr,args.l2,args.dropout,args.use_bn),\n",
    "                             opts=dict(title='exp_{}_text'.format(num)))\n",
    "                    # 만든 모델의 test 데이터 예측 시각화\n",
    "\n",
    "                    predict = torch.Tensor(result['test_pred']).view(-1,1)\n",
    "                    truth = torch.Tensor(result['test_true']).view(-1,1)\n",
    "                    axis = torch.Tensor(range(len(result['test_pred']))).view(-1,1)\n",
    "\n",
    "                    Y_axis = torch.cat((predict, truth), -1)\n",
    "                    X_axis = torch.cat((axis, axis), -1)\n",
    "\n",
    "                    vis.line(Y = Y_axis, X = X_axis, opts=dict(title='Result_exp_{}_RMSE[{:2.3f}]_R2[{:2.3f}]'.format(num,result['test_RMSE'],result['test_R2']),\n",
    "                                                               legend=['predict','true'],\n",
    "                                                               showlegend=True,\n",
    "                                                               layoutopts = {'plotly': {'legend': {'x':0, 'y':0}}}))\n",
    "\n",
    "print('All done')"
   ]
  },
  {
   "cell_type": "code",
   "execution_count": null,
   "metadata": {},
   "outputs": [],
   "source": [
    "print('Current CPU random seed:',torch.initial_seed())\n",
    "# print('Current CUDA random seed:',torch.cuda.initial_seed())"
   ]
  },
  {
   "cell_type": "code",
   "execution_count": null,
   "metadata": {},
   "outputs": [],
   "source": [
    "# vis.text('loseFunc = {}, optim={}, x_frames={}, n_layers={}, batch_size={}, hid_dim={}, epoch={}, lr={}, l2={}, dropout={}, use_bn={}'\n",
    "#                              .format(args.loss,args.optim,args.x_frames,args.n_layers,args.batch_size,args.hid_dim,args.epoch,args.lr,args.l2,args.dropout,args.use_bn),\n",
    "#                              opts=dict(title='exp_{}_text'.format(num)))"
   ]
  },
  {
   "cell_type": "code",
   "execution_count": null,
   "metadata": {},
   "outputs": [],
   "source": [
    "# seed = 666\n",
    "# np.random.seed(seed)\n",
    "# torch.manual_seed(seed)\n",
    "\n",
    "# network = LSTM(14, 32, 1, 3, 4, 0.1, False)"
   ]
  },
  {
   "cell_type": "code",
   "execution_count": null,
   "metadata": {},
   "outputs": [],
   "source": [
    "len(UpData.columns)"
   ]
  },
  {
   "cell_type": "code",
   "execution_count": 33,
   "metadata": {},
   "outputs": [
    {
     "data": {
      "text/plain": [
       "<All keys matched successfully>"
      ]
     },
     "execution_count": 33,
     "metadata": {},
     "output_type": "execute_result"
    }
   ],
   "source": [
    "seed = 666\n",
    "np.random.seed(seed)\n",
    "torch.manual_seed(seed)\n",
    "modell = LSTM_edit()\n",
    "modell.load_state_dict(torch.load('lstm05.pt'))"
   ]
  },
  {
   "cell_type": "code",
   "execution_count": 34,
   "metadata": {},
   "outputs": [
    {
     "name": "stdout",
     "output_type": "stream",
     "text": [
      "start\n",
      "end\n"
     ]
    }
   ],
   "source": [
    "seed = 666\n",
    "np.random.seed(seed)\n",
    "torch.manual_seed(seed)\n",
    "RMSE_1, R2_1, Pred_1, True_1 = test_edit(modell)"
   ]
  },
  {
   "cell_type": "code",
   "execution_count": 35,
   "metadata": {},
   "outputs": [],
   "source": [
    "test_data = pd.DataFrame()\n",
    "test_data['test_pred'] = Pred_1\n",
    "test_data['test_true'] = True_1"
   ]
  },
  {
   "cell_type": "code",
   "execution_count": 36,
   "metadata": {},
   "outputs": [],
   "source": [
    "test_data.to_csv('modell_result_01.csv')"
   ]
  },
  {
   "cell_type": "code",
   "execution_count": 29,
   "metadata": {},
   "outputs": [
    {
     "data": {
      "text/plain": [
       "'/Users/jinsungpark/Desktop/jupyter/Data_river/original02/HP_DA'"
      ]
     },
     "execution_count": 29,
     "metadata": {},
     "output_type": "execute_result"
    }
   ],
   "source": [
    "pwd"
   ]
  },
  {
   "cell_type": "code",
   "execution_count": null,
   "metadata": {},
   "outputs": [],
   "source": []
  }
 ],
 "metadata": {
  "kernelspec": {
   "display_name": "PyTorch",
   "language": "python",
   "name": "pytorch"
  },
  "language_info": {
   "codemirror_mode": {
    "name": "ipython",
    "version": 3
   },
   "file_extension": ".py",
   "mimetype": "text/x-python",
   "name": "python",
   "nbconvert_exporter": "python",
   "pygments_lexer": "ipython3",
   "version": "3.8.1"
  }
 },
 "nbformat": 4,
 "nbformat_minor": 4
}
