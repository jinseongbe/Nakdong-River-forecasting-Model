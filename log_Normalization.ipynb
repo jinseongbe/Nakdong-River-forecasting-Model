{
 "cells": [
  {
   "cell_type": "markdown",
   "metadata": {},
   "source": [
    "# Normalize"
   ]
  },
  {
   "cell_type": "code",
   "execution_count": 1,
   "metadata": {},
   "outputs": [
    {
     "data": {
      "text/plain": [
       "'/Users/jinsungpark/Desktop/jupyter'"
      ]
     },
     "execution_count": 1,
     "metadata": {},
     "output_type": "execute_result"
    }
   ],
   "source": [
    "pwd"
   ]
  },
  {
   "cell_type": "code",
   "execution_count": 82,
   "metadata": {},
   "outputs": [
    {
     "name": "stdout",
     "output_type": "stream",
     "text": [
      "/Users/jinsungpark/Desktop/jupyter/Data_river/original02/DA_DG\n"
     ]
    }
   ],
   "source": [
    "cd /Users/jinsungpark/Desktop/jupyter/Data_River/original02/DA_DG"
   ]
  },
  {
   "cell_type": "code",
   "execution_count": 83,
   "metadata": {},
   "outputs": [
    {
     "name": "stdout",
     "output_type": "stream",
     "text": [
      "DA_Up_data.xlsx    DG_Down_data.xlsx\r\n"
     ]
    }
   ],
   "source": [
    "ls"
   ]
  },
  {
   "cell_type": "code",
   "execution_count": 84,
   "metadata": {},
   "outputs": [],
   "source": [
    "import pandas as pd\n",
    "import numpy as np"
   ]
  },
  {
   "cell_type": "code",
   "execution_count": 85,
   "metadata": {},
   "outputs": [],
   "source": [
    "Up = pd.read_excel('DA_Up_data.xlsx', index = False)"
   ]
  },
  {
   "cell_type": "code",
   "execution_count": 86,
   "metadata": {},
   "outputs": [
    {
     "name": "stdout",
     "output_type": "stream",
     "text": [
      "<class 'pandas.core.frame.DataFrame'>\n",
      "RangeIndex: 349 entries, 0 to 348\n",
      "Data columns (total 21 columns):\n",
      " #   Column      Non-Null Count  Dtype         \n",
      "---  ------      --------------  -----         \n",
      " 0   Date        349 non-null    datetime64[ns]\n",
      " 1   DA_DO       349 non-null    float64       \n",
      " 2   DA_BOD      349 non-null    float64       \n",
      " 3   DA_COD      349 non-null    float64       \n",
      " 4   DA_SS       349 non-null    float64       \n",
      " 5   DA_TN       349 non-null    float64       \n",
      " 6   DA_TP       349 non-null    float64       \n",
      " 7   DA_Temp     349 non-null    float64       \n",
      " 8   DA_Chl_a    349 non-null    float64       \n",
      " 9   DA_Flow     349 non-null    float64       \n",
      " 10  HCh__DO     349 non-null    float64       \n",
      " 11  HCh__BOD    349 non-null    float64       \n",
      " 12  HCh__COD    349 non-null    float64       \n",
      " 13  HCh__SS     349 non-null    float64       \n",
      " 14  HCh__TN     349 non-null    float64       \n",
      " 15  HCh__TP     349 non-null    float64       \n",
      " 16  HCh__Temp   349 non-null    float64       \n",
      " 17  HCh__Chl_a  349 non-null    float64       \n",
      " 18  HCh__Flow   349 non-null    float64       \n",
      " 19  UiR_Rain    349 non-null    float64       \n",
      " 20  UiR_Solar   349 non-null    float64       \n",
      "dtypes: datetime64[ns](1), float64(20)\n",
      "memory usage: 57.4 KB\n"
     ]
    }
   ],
   "source": [
    "Up.info()"
   ]
  },
  {
   "cell_type": "code",
   "execution_count": 87,
   "metadata": {},
   "outputs": [],
   "source": [
    "Up_B = Up.filter(like='Temp',axis=1)\n",
    "Up_C = Up.filter(like='Date',axis=1)"
   ]
  },
  {
   "cell_type": "code",
   "execution_count": 88,
   "metadata": {},
   "outputs": [
    {
     "name": "stdout",
     "output_type": "stream",
     "text": [
      "<class 'pandas.core.frame.DataFrame'>\n",
      "RangeIndex: 349 entries, 0 to 348\n",
      "Data columns (total 2 columns):\n",
      " #   Column     Non-Null Count  Dtype  \n",
      "---  ------     --------------  -----  \n",
      " 0   DA_Temp    349 non-null    float64\n",
      " 1   HCh__Temp  349 non-null    float64\n",
      "dtypes: float64(2)\n",
      "memory usage: 5.6 KB\n"
     ]
    }
   ],
   "source": [
    "Up_B.info()"
   ]
  },
  {
   "cell_type": "code",
   "execution_count": 89,
   "metadata": {},
   "outputs": [],
   "source": [
    "# Up_A = Up.drop(['DS_Temp','GumHo_Temp','Date','Door'], axis=1)\n",
    "# Up_A = Up.drop(['NG_Temp','Date'], axis=1)\n",
    "# Up_A = Up.drop(['HP_Temp','ChaCh_Temp','Date'], axis=1)\n",
    "Up_A = Up.drop(['DA_Temp','HCh__Temp','Date'], axis=1)"
   ]
  },
  {
   "cell_type": "code",
   "execution_count": 90,
   "metadata": {},
   "outputs": [
    {
     "name": "stdout",
     "output_type": "stream",
     "text": [
      "<class 'pandas.core.frame.DataFrame'>\n",
      "RangeIndex: 349 entries, 0 to 348\n",
      "Data columns (total 18 columns):\n",
      " #   Column      Non-Null Count  Dtype  \n",
      "---  ------      --------------  -----  \n",
      " 0   DA_DO       349 non-null    float64\n",
      " 1   DA_BOD      349 non-null    float64\n",
      " 2   DA_COD      349 non-null    float64\n",
      " 3   DA_SS       349 non-null    float64\n",
      " 4   DA_TN       349 non-null    float64\n",
      " 5   DA_TP       349 non-null    float64\n",
      " 6   DA_Chl_a    349 non-null    float64\n",
      " 7   DA_Flow     349 non-null    float64\n",
      " 8   HCh__DO     349 non-null    float64\n",
      " 9   HCh__BOD    349 non-null    float64\n",
      " 10  HCh__COD    349 non-null    float64\n",
      " 11  HCh__SS     349 non-null    float64\n",
      " 12  HCh__TN     349 non-null    float64\n",
      " 13  HCh__TP     349 non-null    float64\n",
      " 14  HCh__Chl_a  349 non-null    float64\n",
      " 15  HCh__Flow   349 non-null    float64\n",
      " 16  UiR_Rain    349 non-null    float64\n",
      " 17  UiR_Solar   349 non-null    float64\n",
      "dtypes: float64(18)\n",
      "memory usage: 49.2 KB\n"
     ]
    }
   ],
   "source": [
    "Up_A.info()"
   ]
  },
  {
   "cell_type": "code",
   "execution_count": 91,
   "metadata": {},
   "outputs": [
    {
     "data": {
      "text/plain": [
       "DA_DO         7.100000\n",
       "DA_BOD        0.800000\n",
       "DA_COD        4.900000\n",
       "DA_SS         0.300000\n",
       "DA_TN         1.647000\n",
       "DA_TP         0.017000\n",
       "DA_Chl_a      3.000000\n",
       "DA_Flow       0.000000\n",
       "HCh__DO       6.800000\n",
       "HCh__BOD      0.300000\n",
       "HCh__COD      2.100000\n",
       "HCh__SS       0.300000\n",
       "HCh__TN       0.696000\n",
       "HCh__TP       0.006000\n",
       "HCh__Chl_a    0.900000\n",
       "HCh__Flow     0.258000\n",
       "UiR_Rain      0.000000\n",
       "UiR_Solar     4.654286\n",
       "dtype: float64"
      ]
     },
     "execution_count": 91,
     "metadata": {},
     "output_type": "execute_result"
    }
   ],
   "source": [
    "Up_A.min()"
   ]
  },
  {
   "cell_type": "code",
   "execution_count": 96,
   "metadata": {},
   "outputs": [
    {
     "name": "stdout",
     "output_type": "stream",
     "text": [
      "\n",
      " all done\n",
      "\n"
     ]
    }
   ],
   "source": [
    "n = 0\n",
    "\n",
    "for column in Up_A:\n",
    "    Data = Up_A.iloc[:,n]\n",
    "    Data = list(Data)\n",
    "    while min(Data) == 0:\n",
    "        Data.remove(0)\n",
    "    none_zero_min = min(Data)/2\n",
    "    \n",
    "    for m in range(0,len(Data)):\n",
    "        if Up_A.iloc[m,n] == 0:\n",
    "            Up_A.iloc[m,n] = none_zero_min\n",
    "            \n",
    "    n += 1\n",
    "print('\\n all done\\n')"
   ]
  },
  {
   "cell_type": "code",
   "execution_count": 97,
   "metadata": {},
   "outputs": [
    {
     "data": {
      "text/plain": [
       "DA_DO         7.100000\n",
       "DA_BOD        0.800000\n",
       "DA_COD        4.900000\n",
       "DA_SS         0.300000\n",
       "DA_TN         1.647000\n",
       "DA_TP         0.017000\n",
       "DA_Chl_a      3.000000\n",
       "DA_Flow       0.158500\n",
       "HCh__DO       6.800000\n",
       "HCh__BOD      0.300000\n",
       "HCh__COD      2.100000\n",
       "HCh__SS       0.300000\n",
       "HCh__TN       0.696000\n",
       "HCh__TP       0.006000\n",
       "HCh__Chl_a    0.900000\n",
       "HCh__Flow     0.258000\n",
       "UiR_Rain      0.012500\n",
       "UiR_Solar     4.654286\n",
       "dtype: float64"
      ]
     },
     "execution_count": 97,
     "metadata": {},
     "output_type": "execute_result"
    }
   ],
   "source": [
    "Up_A.min()"
   ]
  },
  {
   "cell_type": "code",
   "execution_count": 98,
   "metadata": {},
   "outputs": [
    {
     "data": {
      "text/html": [
       "<div>\n",
       "<style scoped>\n",
       "    .dataframe tbody tr th:only-of-type {\n",
       "        vertical-align: middle;\n",
       "    }\n",
       "\n",
       "    .dataframe tbody tr th {\n",
       "        vertical-align: top;\n",
       "    }\n",
       "\n",
       "    .dataframe thead th {\n",
       "        text-align: right;\n",
       "    }\n",
       "</style>\n",
       "<table border=\"1\" class=\"dataframe\">\n",
       "  <thead>\n",
       "    <tr style=\"text-align: right;\">\n",
       "      <th></th>\n",
       "      <th>DA_DO</th>\n",
       "      <th>DA_BOD</th>\n",
       "      <th>DA_COD</th>\n",
       "      <th>DA_SS</th>\n",
       "      <th>DA_TN</th>\n",
       "      <th>DA_TP</th>\n",
       "      <th>DA_Chl_a</th>\n",
       "      <th>DA_Flow</th>\n",
       "      <th>HCh__DO</th>\n",
       "      <th>HCh__BOD</th>\n",
       "      <th>HCh__COD</th>\n",
       "      <th>HCh__SS</th>\n",
       "      <th>HCh__TN</th>\n",
       "      <th>HCh__TP</th>\n",
       "      <th>HCh__Chl_a</th>\n",
       "      <th>HCh__Flow</th>\n",
       "      <th>UiR_Rain</th>\n",
       "      <th>UiR_Solar</th>\n",
       "    </tr>\n",
       "  </thead>\n",
       "  <tbody>\n",
       "    <tr>\n",
       "      <th>0</th>\n",
       "      <td>16.60000</td>\n",
       "      <td>2.700000</td>\n",
       "      <td>5.500000</td>\n",
       "      <td>6.000000</td>\n",
       "      <td>4.586000</td>\n",
       "      <td>0.044000</td>\n",
       "      <td>24.80000</td>\n",
       "      <td>42.589</td>\n",
       "      <td>15.000000</td>\n",
       "      <td>0.300000</td>\n",
       "      <td>2.100000</td>\n",
       "      <td>0.900000</td>\n",
       "      <td>3.073000</td>\n",
       "      <td>0.025000</td>\n",
       "      <td>1.300000</td>\n",
       "      <td>4.509000</td>\n",
       "      <td>0.05</td>\n",
       "      <td>11.532857</td>\n",
       "    </tr>\n",
       "    <tr>\n",
       "      <th>1</th>\n",
       "      <td>15.80000</td>\n",
       "      <td>2.300000</td>\n",
       "      <td>5.900000</td>\n",
       "      <td>6.900000</td>\n",
       "      <td>4.774000</td>\n",
       "      <td>0.042000</td>\n",
       "      <td>27.10000</td>\n",
       "      <td>126.159</td>\n",
       "      <td>14.400000</td>\n",
       "      <td>0.400000</td>\n",
       "      <td>2.700000</td>\n",
       "      <td>1.700000</td>\n",
       "      <td>3.121000</td>\n",
       "      <td>0.025000</td>\n",
       "      <td>1.400000</td>\n",
       "      <td>3.963000</td>\n",
       "      <td>0.05</td>\n",
       "      <td>11.044286</td>\n",
       "    </tr>\n",
       "    <tr>\n",
       "      <th>2</th>\n",
       "      <td>15.42638</td>\n",
       "      <td>2.509935</td>\n",
       "      <td>5.745095</td>\n",
       "      <td>6.075851</td>\n",
       "      <td>4.941769</td>\n",
       "      <td>0.044651</td>\n",
       "      <td>26.63174</td>\n",
       "      <td>45.058</td>\n",
       "      <td>14.301921</td>\n",
       "      <td>0.667302</td>\n",
       "      <td>2.681555</td>\n",
       "      <td>1.317642</td>\n",
       "      <td>2.981284</td>\n",
       "      <td>0.027876</td>\n",
       "      <td>2.018124</td>\n",
       "      <td>4.801446</td>\n",
       "      <td>13.00</td>\n",
       "      <td>8.855714</td>\n",
       "    </tr>\n",
       "    <tr>\n",
       "      <th>3</th>\n",
       "      <td>14.20000</td>\n",
       "      <td>2.300000</td>\n",
       "      <td>5.800000</td>\n",
       "      <td>12.000000</td>\n",
       "      <td>5.248000</td>\n",
       "      <td>0.041000</td>\n",
       "      <td>22.20000</td>\n",
       "      <td>154.652</td>\n",
       "      <td>13.900000</td>\n",
       "      <td>1.200000</td>\n",
       "      <td>2.800000</td>\n",
       "      <td>3.100000</td>\n",
       "      <td>2.859000</td>\n",
       "      <td>0.023000</td>\n",
       "      <td>1.600000</td>\n",
       "      <td>4.724000</td>\n",
       "      <td>0.50</td>\n",
       "      <td>9.954286</td>\n",
       "    </tr>\n",
       "    <tr>\n",
       "      <th>4</th>\n",
       "      <td>14.90000</td>\n",
       "      <td>1.900000</td>\n",
       "      <td>5.400000</td>\n",
       "      <td>6.300000</td>\n",
       "      <td>5.113000</td>\n",
       "      <td>0.052000</td>\n",
       "      <td>20.30000</td>\n",
       "      <td>284.465</td>\n",
       "      <td>13.900000</td>\n",
       "      <td>0.600000</td>\n",
       "      <td>4.100000</td>\n",
       "      <td>8.000000</td>\n",
       "      <td>2.872000</td>\n",
       "      <td>0.041000</td>\n",
       "      <td>2.800000</td>\n",
       "      <td>13.662000</td>\n",
       "      <td>46.00</td>\n",
       "      <td>8.617143</td>\n",
       "    </tr>\n",
       "  </tbody>\n",
       "</table>\n",
       "</div>"
      ],
      "text/plain": [
       "      DA_DO    DA_BOD    DA_COD      DA_SS     DA_TN     DA_TP  DA_Chl_a  \\\n",
       "0  16.60000  2.700000  5.500000   6.000000  4.586000  0.044000  24.80000   \n",
       "1  15.80000  2.300000  5.900000   6.900000  4.774000  0.042000  27.10000   \n",
       "2  15.42638  2.509935  5.745095   6.075851  4.941769  0.044651  26.63174   \n",
       "3  14.20000  2.300000  5.800000  12.000000  5.248000  0.041000  22.20000   \n",
       "4  14.90000  1.900000  5.400000   6.300000  5.113000  0.052000  20.30000   \n",
       "\n",
       "   DA_Flow    HCh__DO  HCh__BOD  HCh__COD   HCh__SS   HCh__TN   HCh__TP  \\\n",
       "0   42.589  15.000000  0.300000  2.100000  0.900000  3.073000  0.025000   \n",
       "1  126.159  14.400000  0.400000  2.700000  1.700000  3.121000  0.025000   \n",
       "2   45.058  14.301921  0.667302  2.681555  1.317642  2.981284  0.027876   \n",
       "3  154.652  13.900000  1.200000  2.800000  3.100000  2.859000  0.023000   \n",
       "4  284.465  13.900000  0.600000  4.100000  8.000000  2.872000  0.041000   \n",
       "\n",
       "   HCh__Chl_a  HCh__Flow  UiR_Rain  UiR_Solar  \n",
       "0    1.300000   4.509000      0.05  11.532857  \n",
       "1    1.400000   3.963000      0.05  11.044286  \n",
       "2    2.018124   4.801446     13.00   8.855714  \n",
       "3    1.600000   4.724000      0.50   9.954286  \n",
       "4    2.800000  13.662000     46.00   8.617143  "
      ]
     },
     "execution_count": 98,
     "metadata": {},
     "output_type": "execute_result"
    }
   ],
   "source": [
    "Up_A.head()"
   ]
  },
  {
   "cell_type": "code",
   "execution_count": 99,
   "metadata": {},
   "outputs": [],
   "source": [
    "Up_A = Up_A.apply(lambda x: np.log(x))"
   ]
  },
  {
   "cell_type": "code",
   "execution_count": 100,
   "metadata": {},
   "outputs": [
    {
     "data": {
      "text/html": [
       "<div>\n",
       "<style scoped>\n",
       "    .dataframe tbody tr th:only-of-type {\n",
       "        vertical-align: middle;\n",
       "    }\n",
       "\n",
       "    .dataframe tbody tr th {\n",
       "        vertical-align: top;\n",
       "    }\n",
       "\n",
       "    .dataframe thead th {\n",
       "        text-align: right;\n",
       "    }\n",
       "</style>\n",
       "<table border=\"1\" class=\"dataframe\">\n",
       "  <thead>\n",
       "    <tr style=\"text-align: right;\">\n",
       "      <th></th>\n",
       "      <th>DA_DO</th>\n",
       "      <th>DA_BOD</th>\n",
       "      <th>DA_COD</th>\n",
       "      <th>DA_SS</th>\n",
       "      <th>DA_TN</th>\n",
       "      <th>DA_TP</th>\n",
       "      <th>DA_Chl_a</th>\n",
       "      <th>DA_Flow</th>\n",
       "      <th>HCh__DO</th>\n",
       "      <th>HCh__BOD</th>\n",
       "      <th>HCh__COD</th>\n",
       "      <th>HCh__SS</th>\n",
       "      <th>HCh__TN</th>\n",
       "      <th>HCh__TP</th>\n",
       "      <th>HCh__Chl_a</th>\n",
       "      <th>HCh__Flow</th>\n",
       "      <th>UiR_Rain</th>\n",
       "      <th>UiR_Solar</th>\n",
       "    </tr>\n",
       "  </thead>\n",
       "  <tbody>\n",
       "    <tr>\n",
       "      <th>0</th>\n",
       "      <td>2.809403</td>\n",
       "      <td>0.993252</td>\n",
       "      <td>1.704748</td>\n",
       "      <td>1.791759</td>\n",
       "      <td>1.523008</td>\n",
       "      <td>-3.123566</td>\n",
       "      <td>3.210844</td>\n",
       "      <td>3.751596</td>\n",
       "      <td>2.708050</td>\n",
       "      <td>-1.203973</td>\n",
       "      <td>0.741937</td>\n",
       "      <td>-0.105361</td>\n",
       "      <td>1.122654</td>\n",
       "      <td>-3.688879</td>\n",
       "      <td>0.262364</td>\n",
       "      <td>1.506075</td>\n",
       "      <td>-2.995732</td>\n",
       "      <td>2.445200</td>\n",
       "    </tr>\n",
       "    <tr>\n",
       "      <th>1</th>\n",
       "      <td>2.760010</td>\n",
       "      <td>0.832909</td>\n",
       "      <td>1.774952</td>\n",
       "      <td>1.931521</td>\n",
       "      <td>1.563185</td>\n",
       "      <td>-3.170086</td>\n",
       "      <td>3.299534</td>\n",
       "      <td>4.837543</td>\n",
       "      <td>2.667228</td>\n",
       "      <td>-0.916291</td>\n",
       "      <td>0.993252</td>\n",
       "      <td>0.530628</td>\n",
       "      <td>1.138153</td>\n",
       "      <td>-3.688879</td>\n",
       "      <td>0.336472</td>\n",
       "      <td>1.377001</td>\n",
       "      <td>-2.995732</td>\n",
       "      <td>2.401913</td>\n",
       "    </tr>\n",
       "    <tr>\n",
       "      <th>2</th>\n",
       "      <td>2.736079</td>\n",
       "      <td>0.920257</td>\n",
       "      <td>1.748346</td>\n",
       "      <td>1.804322</td>\n",
       "      <td>1.597723</td>\n",
       "      <td>-3.108879</td>\n",
       "      <td>3.282104</td>\n",
       "      <td>3.807951</td>\n",
       "      <td>2.660394</td>\n",
       "      <td>-0.404512</td>\n",
       "      <td>0.986397</td>\n",
       "      <td>0.275844</td>\n",
       "      <td>1.092354</td>\n",
       "      <td>-3.579984</td>\n",
       "      <td>0.702168</td>\n",
       "      <td>1.568917</td>\n",
       "      <td>2.564949</td>\n",
       "      <td>2.181063</td>\n",
       "    </tr>\n",
       "    <tr>\n",
       "      <th>3</th>\n",
       "      <td>2.653242</td>\n",
       "      <td>0.832909</td>\n",
       "      <td>1.757858</td>\n",
       "      <td>2.484907</td>\n",
       "      <td>1.657847</td>\n",
       "      <td>-3.194183</td>\n",
       "      <td>3.100092</td>\n",
       "      <td>5.041177</td>\n",
       "      <td>2.631889</td>\n",
       "      <td>0.182322</td>\n",
       "      <td>1.029619</td>\n",
       "      <td>1.131402</td>\n",
       "      <td>1.050472</td>\n",
       "      <td>-3.772261</td>\n",
       "      <td>0.470004</td>\n",
       "      <td>1.552656</td>\n",
       "      <td>-0.693147</td>\n",
       "      <td>2.298003</td>\n",
       "    </tr>\n",
       "    <tr>\n",
       "      <th>4</th>\n",
       "      <td>2.701361</td>\n",
       "      <td>0.641854</td>\n",
       "      <td>1.686399</td>\n",
       "      <td>1.840550</td>\n",
       "      <td>1.631786</td>\n",
       "      <td>-2.956512</td>\n",
       "      <td>3.010621</td>\n",
       "      <td>5.650610</td>\n",
       "      <td>2.631889</td>\n",
       "      <td>-0.510826</td>\n",
       "      <td>1.410987</td>\n",
       "      <td>2.079442</td>\n",
       "      <td>1.055009</td>\n",
       "      <td>-3.194183</td>\n",
       "      <td>1.029619</td>\n",
       "      <td>2.614618</td>\n",
       "      <td>3.828641</td>\n",
       "      <td>2.153754</td>\n",
       "    </tr>\n",
       "  </tbody>\n",
       "</table>\n",
       "</div>"
      ],
      "text/plain": [
       "      DA_DO    DA_BOD    DA_COD     DA_SS     DA_TN     DA_TP  DA_Chl_a  \\\n",
       "0  2.809403  0.993252  1.704748  1.791759  1.523008 -3.123566  3.210844   \n",
       "1  2.760010  0.832909  1.774952  1.931521  1.563185 -3.170086  3.299534   \n",
       "2  2.736079  0.920257  1.748346  1.804322  1.597723 -3.108879  3.282104   \n",
       "3  2.653242  0.832909  1.757858  2.484907  1.657847 -3.194183  3.100092   \n",
       "4  2.701361  0.641854  1.686399  1.840550  1.631786 -2.956512  3.010621   \n",
       "\n",
       "    DA_Flow   HCh__DO  HCh__BOD  HCh__COD   HCh__SS   HCh__TN   HCh__TP  \\\n",
       "0  3.751596  2.708050 -1.203973  0.741937 -0.105361  1.122654 -3.688879   \n",
       "1  4.837543  2.667228 -0.916291  0.993252  0.530628  1.138153 -3.688879   \n",
       "2  3.807951  2.660394 -0.404512  0.986397  0.275844  1.092354 -3.579984   \n",
       "3  5.041177  2.631889  0.182322  1.029619  1.131402  1.050472 -3.772261   \n",
       "4  5.650610  2.631889 -0.510826  1.410987  2.079442  1.055009 -3.194183   \n",
       "\n",
       "   HCh__Chl_a  HCh__Flow  UiR_Rain  UiR_Solar  \n",
       "0    0.262364   1.506075 -2.995732   2.445200  \n",
       "1    0.336472   1.377001 -2.995732   2.401913  \n",
       "2    0.702168   1.568917  2.564949   2.181063  \n",
       "3    0.470004   1.552656 -0.693147   2.298003  \n",
       "4    1.029619   2.614618  3.828641   2.153754  "
      ]
     },
     "execution_count": 100,
     "metadata": {},
     "output_type": "execute_result"
    }
   ],
   "source": [
    "Up_A.head()"
   ]
  },
  {
   "cell_type": "code",
   "execution_count": 101,
   "metadata": {},
   "outputs": [],
   "source": [
    "result_UP = pd.concat([Up_C, Up_A, Up_B], axis=1, ignore_index=False)"
   ]
  },
  {
   "cell_type": "code",
   "execution_count": 102,
   "metadata": {},
   "outputs": [
    {
     "data": {
      "text/html": [
       "<div>\n",
       "<style scoped>\n",
       "    .dataframe tbody tr th:only-of-type {\n",
       "        vertical-align: middle;\n",
       "    }\n",
       "\n",
       "    .dataframe tbody tr th {\n",
       "        vertical-align: top;\n",
       "    }\n",
       "\n",
       "    .dataframe thead th {\n",
       "        text-align: right;\n",
       "    }\n",
       "</style>\n",
       "<table border=\"1\" class=\"dataframe\">\n",
       "  <thead>\n",
       "    <tr style=\"text-align: right;\">\n",
       "      <th></th>\n",
       "      <th>Date</th>\n",
       "      <th>DA_DO</th>\n",
       "      <th>DA_BOD</th>\n",
       "      <th>DA_COD</th>\n",
       "      <th>DA_SS</th>\n",
       "      <th>DA_TN</th>\n",
       "      <th>DA_TP</th>\n",
       "      <th>DA_Chl_a</th>\n",
       "      <th>DA_Flow</th>\n",
       "      <th>HCh__DO</th>\n",
       "      <th>...</th>\n",
       "      <th>HCh__COD</th>\n",
       "      <th>HCh__SS</th>\n",
       "      <th>HCh__TN</th>\n",
       "      <th>HCh__TP</th>\n",
       "      <th>HCh__Chl_a</th>\n",
       "      <th>HCh__Flow</th>\n",
       "      <th>UiR_Rain</th>\n",
       "      <th>UiR_Solar</th>\n",
       "      <th>DA_Temp</th>\n",
       "      <th>HCh__Temp</th>\n",
       "    </tr>\n",
       "  </thead>\n",
       "  <tbody>\n",
       "    <tr>\n",
       "      <th>0</th>\n",
       "      <td>2013-01-07</td>\n",
       "      <td>2.809403</td>\n",
       "      <td>0.993252</td>\n",
       "      <td>1.704748</td>\n",
       "      <td>1.791759</td>\n",
       "      <td>1.523008</td>\n",
       "      <td>-3.123566</td>\n",
       "      <td>3.210844</td>\n",
       "      <td>3.751596</td>\n",
       "      <td>2.708050</td>\n",
       "      <td>...</td>\n",
       "      <td>0.741937</td>\n",
       "      <td>-0.105361</td>\n",
       "      <td>1.122654</td>\n",
       "      <td>-3.688879</td>\n",
       "      <td>0.262364</td>\n",
       "      <td>1.506075</td>\n",
       "      <td>-2.995732</td>\n",
       "      <td>2.445200</td>\n",
       "      <td>2.600000</td>\n",
       "      <td>2.800000</td>\n",
       "    </tr>\n",
       "    <tr>\n",
       "      <th>1</th>\n",
       "      <td>2013-01-14</td>\n",
       "      <td>2.760010</td>\n",
       "      <td>0.832909</td>\n",
       "      <td>1.774952</td>\n",
       "      <td>1.931521</td>\n",
       "      <td>1.563185</td>\n",
       "      <td>-3.170086</td>\n",
       "      <td>3.299534</td>\n",
       "      <td>4.837543</td>\n",
       "      <td>2.667228</td>\n",
       "      <td>...</td>\n",
       "      <td>0.993252</td>\n",
       "      <td>0.530628</td>\n",
       "      <td>1.138153</td>\n",
       "      <td>-3.688879</td>\n",
       "      <td>0.336472</td>\n",
       "      <td>1.377001</td>\n",
       "      <td>-2.995732</td>\n",
       "      <td>2.401913</td>\n",
       "      <td>2.700000</td>\n",
       "      <td>3.200000</td>\n",
       "    </tr>\n",
       "    <tr>\n",
       "      <th>2</th>\n",
       "      <td>2013-01-21</td>\n",
       "      <td>2.736079</td>\n",
       "      <td>0.920257</td>\n",
       "      <td>1.748346</td>\n",
       "      <td>1.804322</td>\n",
       "      <td>1.597723</td>\n",
       "      <td>-3.108879</td>\n",
       "      <td>3.282104</td>\n",
       "      <td>3.807951</td>\n",
       "      <td>2.660394</td>\n",
       "      <td>...</td>\n",
       "      <td>0.986397</td>\n",
       "      <td>0.275844</td>\n",
       "      <td>1.092354</td>\n",
       "      <td>-3.579984</td>\n",
       "      <td>0.702168</td>\n",
       "      <td>1.568917</td>\n",
       "      <td>2.564949</td>\n",
       "      <td>2.181063</td>\n",
       "      <td>2.990702</td>\n",
       "      <td>4.086154</td>\n",
       "    </tr>\n",
       "    <tr>\n",
       "      <th>3</th>\n",
       "      <td>2013-01-28</td>\n",
       "      <td>2.653242</td>\n",
       "      <td>0.832909</td>\n",
       "      <td>1.757858</td>\n",
       "      <td>2.484907</td>\n",
       "      <td>1.657847</td>\n",
       "      <td>-3.194183</td>\n",
       "      <td>3.100092</td>\n",
       "      <td>5.041177</td>\n",
       "      <td>2.631889</td>\n",
       "      <td>...</td>\n",
       "      <td>1.029619</td>\n",
       "      <td>1.131402</td>\n",
       "      <td>1.050472</td>\n",
       "      <td>-3.772261</td>\n",
       "      <td>0.470004</td>\n",
       "      <td>1.552656</td>\n",
       "      <td>-0.693147</td>\n",
       "      <td>2.298003</td>\n",
       "      <td>3.500000</td>\n",
       "      <td>4.900000</td>\n",
       "    </tr>\n",
       "    <tr>\n",
       "      <th>4</th>\n",
       "      <td>2013-02-04</td>\n",
       "      <td>2.701361</td>\n",
       "      <td>0.641854</td>\n",
       "      <td>1.686399</td>\n",
       "      <td>1.840550</td>\n",
       "      <td>1.631786</td>\n",
       "      <td>-2.956512</td>\n",
       "      <td>3.010621</td>\n",
       "      <td>5.650610</td>\n",
       "      <td>2.631889</td>\n",
       "      <td>...</td>\n",
       "      <td>1.410987</td>\n",
       "      <td>2.079442</td>\n",
       "      <td>1.055009</td>\n",
       "      <td>-3.194183</td>\n",
       "      <td>1.029619</td>\n",
       "      <td>2.614618</td>\n",
       "      <td>3.828641</td>\n",
       "      <td>2.153754</td>\n",
       "      <td>3.700000</td>\n",
       "      <td>4.500000</td>\n",
       "    </tr>\n",
       "  </tbody>\n",
       "</table>\n",
       "<p>5 rows × 21 columns</p>\n",
       "</div>"
      ],
      "text/plain": [
       "        Date     DA_DO    DA_BOD    DA_COD     DA_SS     DA_TN     DA_TP  \\\n",
       "0 2013-01-07  2.809403  0.993252  1.704748  1.791759  1.523008 -3.123566   \n",
       "1 2013-01-14  2.760010  0.832909  1.774952  1.931521  1.563185 -3.170086   \n",
       "2 2013-01-21  2.736079  0.920257  1.748346  1.804322  1.597723 -3.108879   \n",
       "3 2013-01-28  2.653242  0.832909  1.757858  2.484907  1.657847 -3.194183   \n",
       "4 2013-02-04  2.701361  0.641854  1.686399  1.840550  1.631786 -2.956512   \n",
       "\n",
       "   DA_Chl_a   DA_Flow   HCh__DO  ...  HCh__COD   HCh__SS   HCh__TN   HCh__TP  \\\n",
       "0  3.210844  3.751596  2.708050  ...  0.741937 -0.105361  1.122654 -3.688879   \n",
       "1  3.299534  4.837543  2.667228  ...  0.993252  0.530628  1.138153 -3.688879   \n",
       "2  3.282104  3.807951  2.660394  ...  0.986397  0.275844  1.092354 -3.579984   \n",
       "3  3.100092  5.041177  2.631889  ...  1.029619  1.131402  1.050472 -3.772261   \n",
       "4  3.010621  5.650610  2.631889  ...  1.410987  2.079442  1.055009 -3.194183   \n",
       "\n",
       "   HCh__Chl_a  HCh__Flow  UiR_Rain  UiR_Solar   DA_Temp  HCh__Temp  \n",
       "0    0.262364   1.506075 -2.995732   2.445200  2.600000   2.800000  \n",
       "1    0.336472   1.377001 -2.995732   2.401913  2.700000   3.200000  \n",
       "2    0.702168   1.568917  2.564949   2.181063  2.990702   4.086154  \n",
       "3    0.470004   1.552656 -0.693147   2.298003  3.500000   4.900000  \n",
       "4    1.029619   2.614618  3.828641   2.153754  3.700000   4.500000  \n",
       "\n",
       "[5 rows x 21 columns]"
      ]
     },
     "execution_count": 102,
     "metadata": {},
     "output_type": "execute_result"
    }
   ],
   "source": [
    "result_UP.head()"
   ]
  },
  {
   "cell_type": "code",
   "execution_count": 103,
   "metadata": {},
   "outputs": [],
   "source": [
    "# result_UP.to_excel('DA_Up_log.xlsx', index = False)"
   ]
  },
  {
   "cell_type": "code",
   "execution_count": null,
   "metadata": {},
   "outputs": [],
   "source": []
  },
  {
   "cell_type": "code",
   "execution_count": 104,
   "metadata": {},
   "outputs": [
    {
     "data": {
      "text/plain": [
       "Date        2013-01-07 00:00:00\n",
       "DG_DO                       3.6\n",
       "DG_BOD                      0.7\n",
       "DG_COD                        3\n",
       "DG_SS                       1.6\n",
       "DG_TN                     1.434\n",
       "DG_TP                     0.015\n",
       "DG_Temp                     1.5\n",
       "DG_Chl_a                    1.7\n",
       "dtype: object"
      ]
     },
     "execution_count": 104,
     "metadata": {},
     "output_type": "execute_result"
    }
   ],
   "source": [
    "Down = pd.read_excel('DG_Down_data.xlsx', index = False)\n",
    "Down.min()"
   ]
  },
  {
   "cell_type": "code",
   "execution_count": 105,
   "metadata": {},
   "outputs": [],
   "source": [
    "Down = Down.drop(['DG_Temp'], axis=1)"
   ]
  },
  {
   "cell_type": "code",
   "execution_count": 106,
   "metadata": {},
   "outputs": [],
   "source": [
    "Down_data = Down.set_index('Date')"
   ]
  },
  {
   "cell_type": "code",
   "execution_count": 107,
   "metadata": {},
   "outputs": [
    {
     "data": {
      "text/html": [
       "<div>\n",
       "<style scoped>\n",
       "    .dataframe tbody tr th:only-of-type {\n",
       "        vertical-align: middle;\n",
       "    }\n",
       "\n",
       "    .dataframe tbody tr th {\n",
       "        vertical-align: top;\n",
       "    }\n",
       "\n",
       "    .dataframe thead th {\n",
       "        text-align: right;\n",
       "    }\n",
       "</style>\n",
       "<table border=\"1\" class=\"dataframe\">\n",
       "  <thead>\n",
       "    <tr style=\"text-align: right;\">\n",
       "      <th></th>\n",
       "      <th>DG_DO</th>\n",
       "      <th>DG_BOD</th>\n",
       "      <th>DG_COD</th>\n",
       "      <th>DG_SS</th>\n",
       "      <th>DG_TN</th>\n",
       "      <th>DG_TP</th>\n",
       "      <th>DG_Chl_a</th>\n",
       "    </tr>\n",
       "    <tr>\n",
       "      <th>Date</th>\n",
       "      <th></th>\n",
       "      <th></th>\n",
       "      <th></th>\n",
       "      <th></th>\n",
       "      <th></th>\n",
       "      <th></th>\n",
       "      <th></th>\n",
       "    </tr>\n",
       "  </thead>\n",
       "  <tbody>\n",
       "    <tr>\n",
       "      <th>2013-01-07</th>\n",
       "      <td>15.600000</td>\n",
       "      <td>1.200000</td>\n",
       "      <td>3.000000</td>\n",
       "      <td>14.900000</td>\n",
       "      <td>3.621000</td>\n",
       "      <td>0.055000</td>\n",
       "      <td>2.300000</td>\n",
       "    </tr>\n",
       "    <tr>\n",
       "      <th>2013-01-14</th>\n",
       "      <td>15.300000</td>\n",
       "      <td>0.700000</td>\n",
       "      <td>3.200000</td>\n",
       "      <td>1.700000</td>\n",
       "      <td>3.659000</td>\n",
       "      <td>0.021000</td>\n",
       "      <td>1.700000</td>\n",
       "    </tr>\n",
       "    <tr>\n",
       "      <th>2013-01-21</th>\n",
       "      <td>15.289726</td>\n",
       "      <td>1.536409</td>\n",
       "      <td>4.391344</td>\n",
       "      <td>12.505089</td>\n",
       "      <td>3.967596</td>\n",
       "      <td>0.037733</td>\n",
       "      <td>11.654622</td>\n",
       "    </tr>\n",
       "    <tr>\n",
       "      <th>2013-01-28</th>\n",
       "      <td>15.400000</td>\n",
       "      <td>2.300000</td>\n",
       "      <td>5.800000</td>\n",
       "      <td>5.100000</td>\n",
       "      <td>4.199000</td>\n",
       "      <td>0.031000</td>\n",
       "      <td>20.500000</td>\n",
       "    </tr>\n",
       "    <tr>\n",
       "      <th>2013-02-04</th>\n",
       "      <td>14.500000</td>\n",
       "      <td>1.300000</td>\n",
       "      <td>5.700000</td>\n",
       "      <td>8.600000</td>\n",
       "      <td>4.670000</td>\n",
       "      <td>0.050000</td>\n",
       "      <td>20.700000</td>\n",
       "    </tr>\n",
       "  </tbody>\n",
       "</table>\n",
       "</div>"
      ],
      "text/plain": [
       "                DG_DO    DG_BOD    DG_COD      DG_SS     DG_TN     DG_TP  \\\n",
       "Date                                                                       \n",
       "2013-01-07  15.600000  1.200000  3.000000  14.900000  3.621000  0.055000   \n",
       "2013-01-14  15.300000  0.700000  3.200000   1.700000  3.659000  0.021000   \n",
       "2013-01-21  15.289726  1.536409  4.391344  12.505089  3.967596  0.037733   \n",
       "2013-01-28  15.400000  2.300000  5.800000   5.100000  4.199000  0.031000   \n",
       "2013-02-04  14.500000  1.300000  5.700000   8.600000  4.670000  0.050000   \n",
       "\n",
       "             DG_Chl_a  \n",
       "Date                   \n",
       "2013-01-07   2.300000  \n",
       "2013-01-14   1.700000  \n",
       "2013-01-21  11.654622  \n",
       "2013-01-28  20.500000  \n",
       "2013-02-04  20.700000  "
      ]
     },
     "execution_count": 107,
     "metadata": {},
     "output_type": "execute_result"
    }
   ],
   "source": [
    "Down_data.head()"
   ]
  },
  {
   "cell_type": "code",
   "execution_count": 108,
   "metadata": {},
   "outputs": [],
   "source": [
    "Down_data = Down_data.apply(lambda x: np.log(x))"
   ]
  },
  {
   "cell_type": "code",
   "execution_count": 109,
   "metadata": {},
   "outputs": [
    {
     "data": {
      "text/html": [
       "<div>\n",
       "<style scoped>\n",
       "    .dataframe tbody tr th:only-of-type {\n",
       "        vertical-align: middle;\n",
       "    }\n",
       "\n",
       "    .dataframe tbody tr th {\n",
       "        vertical-align: top;\n",
       "    }\n",
       "\n",
       "    .dataframe thead th {\n",
       "        text-align: right;\n",
       "    }\n",
       "</style>\n",
       "<table border=\"1\" class=\"dataframe\">\n",
       "  <thead>\n",
       "    <tr style=\"text-align: right;\">\n",
       "      <th></th>\n",
       "      <th>DG_DO</th>\n",
       "      <th>DG_BOD</th>\n",
       "      <th>DG_COD</th>\n",
       "      <th>DG_SS</th>\n",
       "      <th>DG_TN</th>\n",
       "      <th>DG_TP</th>\n",
       "      <th>DG_Chl_a</th>\n",
       "    </tr>\n",
       "    <tr>\n",
       "      <th>Date</th>\n",
       "      <th></th>\n",
       "      <th></th>\n",
       "      <th></th>\n",
       "      <th></th>\n",
       "      <th></th>\n",
       "      <th></th>\n",
       "      <th></th>\n",
       "    </tr>\n",
       "  </thead>\n",
       "  <tbody>\n",
       "    <tr>\n",
       "      <th>2013-01-07</th>\n",
       "      <td>2.747271</td>\n",
       "      <td>0.182322</td>\n",
       "      <td>1.098612</td>\n",
       "      <td>2.701361</td>\n",
       "      <td>1.286750</td>\n",
       "      <td>-2.900422</td>\n",
       "      <td>0.832909</td>\n",
       "    </tr>\n",
       "    <tr>\n",
       "      <th>2013-01-14</th>\n",
       "      <td>2.727853</td>\n",
       "      <td>-0.356675</td>\n",
       "      <td>1.163151</td>\n",
       "      <td>0.530628</td>\n",
       "      <td>1.297190</td>\n",
       "      <td>-3.863233</td>\n",
       "      <td>0.530628</td>\n",
       "    </tr>\n",
       "    <tr>\n",
       "      <th>2013-01-21</th>\n",
       "      <td>2.727181</td>\n",
       "      <td>0.429448</td>\n",
       "      <td>1.479635</td>\n",
       "      <td>2.526136</td>\n",
       "      <td>1.378160</td>\n",
       "      <td>-3.277230</td>\n",
       "      <td>2.455703</td>\n",
       "    </tr>\n",
       "    <tr>\n",
       "      <th>2013-01-28</th>\n",
       "      <td>2.734368</td>\n",
       "      <td>0.832909</td>\n",
       "      <td>1.757858</td>\n",
       "      <td>1.629241</td>\n",
       "      <td>1.434846</td>\n",
       "      <td>-3.473768</td>\n",
       "      <td>3.020425</td>\n",
       "    </tr>\n",
       "    <tr>\n",
       "      <th>2013-02-04</th>\n",
       "      <td>2.674149</td>\n",
       "      <td>0.262364</td>\n",
       "      <td>1.740466</td>\n",
       "      <td>2.151762</td>\n",
       "      <td>1.541159</td>\n",
       "      <td>-2.995732</td>\n",
       "      <td>3.030134</td>\n",
       "    </tr>\n",
       "  </tbody>\n",
       "</table>\n",
       "</div>"
      ],
      "text/plain": [
       "               DG_DO    DG_BOD    DG_COD     DG_SS     DG_TN     DG_TP  \\\n",
       "Date                                                                     \n",
       "2013-01-07  2.747271  0.182322  1.098612  2.701361  1.286750 -2.900422   \n",
       "2013-01-14  2.727853 -0.356675  1.163151  0.530628  1.297190 -3.863233   \n",
       "2013-01-21  2.727181  0.429448  1.479635  2.526136  1.378160 -3.277230   \n",
       "2013-01-28  2.734368  0.832909  1.757858  1.629241  1.434846 -3.473768   \n",
       "2013-02-04  2.674149  0.262364  1.740466  2.151762  1.541159 -2.995732   \n",
       "\n",
       "            DG_Chl_a  \n",
       "Date                  \n",
       "2013-01-07  0.832909  \n",
       "2013-01-14  0.530628  \n",
       "2013-01-21  2.455703  \n",
       "2013-01-28  3.020425  \n",
       "2013-02-04  3.030134  "
      ]
     },
     "execution_count": 109,
     "metadata": {},
     "output_type": "execute_result"
    }
   ],
   "source": [
    "Down_data.head()"
   ]
  },
  {
   "cell_type": "code",
   "execution_count": 110,
   "metadata": {},
   "outputs": [],
   "source": [
    "# Down_data.to_excel('DG_Down_log.xlsx')"
   ]
  },
  {
   "cell_type": "code",
   "execution_count": null,
   "metadata": {},
   "outputs": [],
   "source": []
  },
  {
   "cell_type": "code",
   "execution_count": null,
   "metadata": {},
   "outputs": [],
   "source": [
    "# n = 0\n",
    "\n",
    "# for column in Up:\n",
    "#     if column == 'DS_DO':\n",
    "#         print(Up.iloc[:,n])\n",
    "#         data = Up.iloc[:,n]\n",
    "#         data = data.apply(lambda x: np.log(x))\n",
    "#         print(data)\n",
    "\n",
    "#     n += 1\n",
    "# #     elif column != 'Date':\n",
    "# #         Up['DS_DO'].apply(lambda x: np.log(x))\n",
    "# #     elif row >= 70:\n",
    "# #         grades.append('C')\n",
    "# #     else:\n",
    "# #         grades.append('F')"
   ]
  },
  {
   "cell_type": "code",
   "execution_count": null,
   "metadata": {},
   "outputs": [],
   "source": [
    "# data.head()"
   ]
  },
  {
   "cell_type": "code",
   "execution_count": null,
   "metadata": {},
   "outputs": [],
   "source": [
    "# lst = Up.DS_DO.value_counts(5)"
   ]
  },
  {
   "cell_type": "code",
   "execution_count": null,
   "metadata": {},
   "outputs": [],
   "source": [
    "# for row in df['average']:\n",
    "#     if row >= 90:\n",
    "#         grades.append('A')\n",
    "#     elif row >= 80:\n",
    "#         grades.append('B')\n",
    "#     elif row >= 70:\n",
    "#         grades.append('C')\n",
    "#     else:\n",
    "#         grades.append('F')"
   ]
  },
  {
   "cell_type": "code",
   "execution_count": null,
   "metadata": {},
   "outputs": [],
   "source": []
  },
  {
   "cell_type": "code",
   "execution_count": null,
   "metadata": {},
   "outputs": [],
   "source": [
    "# from sklearn.preprocessing import MinMaxScaler\n",
    "\n",
    "# UpScaler = MinMaxScaler() #상류데이터용\n",
    "# DownScaler = MinMaxScaler() #하류데이터용\n",
    "\n",
    "# #나중에 결과를 DeNormalizing 하기 위해 나누어 사용 하였다.\n",
    "\n",
    "# def DeNormalize(Y, Data_name, column_num, Scaler_Type):\n",
    "    \n",
    "#     data = Data_name\n",
    "#     Scaler = Scaler_Type\n",
    "    \n",
    "#     _max = Scaler.data_max_[column_num] # 역정규화 하려는 데이터의 컬럼 번호\n",
    "#     _min = Scaler.data_min_[column_num] \n",
    "    \n",
    "#     X = Y*(_max-_min) + _min\n",
    "    \n",
    "#     return X"
   ]
  },
  {
   "cell_type": "code",
   "execution_count": null,
   "metadata": {},
   "outputs": [],
   "source": [
    "df_log = df['다사_TP(㎎/L)'].apply(lambda x: np.log(x))"
   ]
  },
  {
   "cell_type": "code",
   "execution_count": null,
   "metadata": {},
   "outputs": [],
   "source": [
    "def select_log(row):\n",
    "    row = np.log(row)\n",
    "    return row"
   ]
  },
  {
   "cell_type": "code",
   "execution_count": null,
   "metadata": {},
   "outputs": [],
   "source": [
    "Up.DS_DO = Up.DS_DO.apply(lambda x: np.log(x))"
   ]
  },
  {
   "cell_type": "code",
   "execution_count": null,
   "metadata": {},
   "outputs": [],
   "source": [
    "a = 'DS_DO'\n",
    "Up.a"
   ]
  },
  {
   "cell_type": "code",
   "execution_count": null,
   "metadata": {},
   "outputs": [],
   "source": [
    "Up.head()"
   ]
  },
  {
   "cell_type": "code",
   "execution_count": null,
   "metadata": {},
   "outputs": [],
   "source": [
    "n = 0\n",
    "\n",
    "for column in Up:\n",
    "    print(column)\n",
    "    print(Up.iloc[:,n])\n",
    "#     if column == 'DS_DO':\n",
    "#         print(Up.iloc[:,n])\n",
    "#         data = Up.iloc[:,n]\n",
    "#         data = data.apply(lambda x: np.log(x))\n",
    "#         print(data)\n",
    "\n",
    "    n += 1"
   ]
  },
  {
   "cell_type": "code",
   "execution_count": null,
   "metadata": {},
   "outputs": [],
   "source": [
    "n = 0\n",
    "\n",
    "for column in Up:\n",
    "    if column == 'DS_DO':\n",
    "        print(Up.iloc[:,n])\n",
    "        data = Up.iloc[:,n]\n",
    "        data = data.apply(lambda x: np.log(x))\n",
    "        print(data)\n",
    "\n",
    "    n += 1\n",
    "#     elif column != 'Date':\n",
    "#         Up['DS_DO'].apply(lambda x: np.log(x))\n",
    "#     elif row >= 70:\n",
    "#         grades.append('C')\n",
    "#     else:\n",
    "#         grades.append('F')"
   ]
  },
  {
   "cell_type": "code",
   "execution_count": null,
   "metadata": {},
   "outputs": [],
   "source": [
    "# if list(Up.DS_DO.unique()) == 0:\n",
    "#     print('Check')\n",
    "# else:\n",
    "#     print('Pass')"
   ]
  },
  {
   "cell_type": "code",
   "execution_count": null,
   "metadata": {},
   "outputs": [],
   "source": [
    "# pd.Series.value_counts(normalize=False, # False면 개수, True면 상대 비율 구함\n",
    "#                        sort=True, # True면 개수 기준 정렬, False면 유일한 값 기준 정렬\n",
    "#                        ascending=False, # False면 내림차순 정렬, True면 오름차순 정렬\n",
    "#                        bins=None, # None이면 유일값 기준 개수, None아니면 Bins Group별 개수\n",
    "#                        dropna=True # True면 NaN 무시, False면 유일값에 NaN 포함)"
   ]
  },
  {
   "cell_type": "code",
   "execution_count": null,
   "metadata": {},
   "outputs": [],
   "source": [
    "# Up.DS_DO.value_counts(ascending=True) ###################################################"
   ]
  },
  {
   "cell_type": "code",
   "execution_count": null,
   "metadata": {},
   "outputs": [],
   "source": [
    "#################################################################\n",
    "#################################################################\n",
    "#################################################################\n",
    "#################################################################\n",
    "#################################################################\n",
    "#################################################################"
   ]
  },
  {
   "cell_type": "code",
   "execution_count": null,
   "metadata": {},
   "outputs": [],
   "source": []
  }
 ],
 "metadata": {
  "kernelspec": {
   "display_name": "PyTorch",
   "language": "python",
   "name": "pytorch"
  },
  "language_info": {
   "codemirror_mode": {
    "name": "ipython",
    "version": 3
   },
   "file_extension": ".py",
   "mimetype": "text/x-python",
   "name": "python",
   "nbconvert_exporter": "python",
   "pygments_lexer": "ipython3",
   "version": "3.8.1"
  }
 },
 "nbformat": 4,
 "nbformat_minor": 4
}
